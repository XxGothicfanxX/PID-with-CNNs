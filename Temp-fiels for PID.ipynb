{
 "cells": [
  {
   "cell_type": "code",
   "execution_count": 1,
   "metadata": {},
   "outputs": [],
   "source": [
    "\n",
    "import numpy as np\n",
    "import matplotlib.pyplot as plt\n",
    "import os\n",
    "import cv2\n",
    "import pandas as pd # data processing, CSV file I/O (e.g. pd.read_csv)\n",
    "import copy\n",
    "import random\n",
    "import time\n",
    "from collections import defaultdict\n",
    "from tqdm.notebook import tqdm\n",
    "import h5py\n",
    "\n",
    "### Path to Files\n",
    "#DATADIRe =\"C:/Users/Deep Thought/Documents/Python/CNN_Masterarbeit/BeamlikePI/csv/csv_Electron_Beamlike/\"   #All\n",
    "#DATADIRmu =\"C:/Users/Deep Thought/Documents/Python/CNN_Masterarbeit/BeamlikePI/csv/MuonEventsBeamlike/\" \n",
    "\n",
    "#DATADIRe =\"C:/Users/Deep Thought/Documents/Python/CNN_Masterarbeit/BeamlikePI/csv/PI_electron_lappd5x5_new/\"   #All\n",
    "#DATADIRmu =\"C:/Users/Deep Thought/Documents/Python/CNN_Masterarbeit/BeamlikePI/csv/PI_muon_lappd5x5_new/\" \n",
    "\n",
    "DATADIRe =\"C:/Users/Deep Thought/Documents/Python/CNN_Masterarbeit/BeamlikePI/csv/PI_e_lappd1x1/\"   #All\n",
    "DATADIRmu =\"C:/Users/Deep Thought/Documents/Python/CNN_Masterarbeit/BeamlikePI/csv/PI_muon_lappd1x1/\"\n",
    "### Generating Combined Files\n",
    "\n",
    "\n",
    "setlen = 60000\n",
    "\n",
    "#all_values =np.zeros((0,96))\n",
    "#time_values =np.zeros((0,96))\n",
    "all_values =np.zeros((0,160))\n",
    "time_values =np.zeros((0,160))\n",
    "category_values = np.zeros((0,2))    # CATEGORIES = [\"e\",\"mu\"] but all will be muons in this case\n",
    "all_values_Lappd = np.zeros((0,9600))\n",
    "time_values_Lappd = np.zeros((0,9600))\n",
    "MRDHits=np.zeros((0,6))\n",
    "Rings=np.zeros((0,))\n",
    "RingsTrueFalse=[]"
   ]
  },
  {
   "cell_type": "code",
   "execution_count": 2,
   "metadata": {},
   "outputs": [
    {
     "name": "stdout",
     "output_type": "stream",
     "text": [
      "997\n"
     ]
    }
   ],
   "source": [
    "numberFiles=int(len(os.listdir(DATADIRe))/6)\n",
    "print(numberFiles)"
   ]
  },
  {
   "cell_type": "code",
   "execution_count": 3,
   "metadata": {},
   "outputs": [
    {
     "name": "stdout",
     "output_type": "stream",
     "text": [
      "997\n",
      "400\n"
     ]
    }
   ],
   "source": [
    "numberFilese=int(len(os.listdir(DATADIRe))/6)\n",
    "print(numberFilese)\n",
    "numberFilesmu=int(len(os.listdir(DATADIRmu))/6)\n",
    "print(numberFilesmu)"
   ]
  },
  {
   "cell_type": "code",
   "execution_count": 4,
   "metadata": {},
   "outputs": [],
   "source": [
    "#DATADIRe =\"C:/Users/Deep Thought/Documents/Python/CNN_Masterarbeit/BeamlikePI/csv/PI_electron_lappd5x5_new/beamlike_PI_electron_lappd5x5_\"\n",
    "#DATADIRmu =\"C:/Users/Deep Thought/Documents/Python/CNN_Masterarbeit/BeamlikePI/csv/PI_muon_lappd5x5_new/beamlike_PI_muon_lappd5x5_\"\n",
    "\n",
    "DATADIRe =\"C:/Users/Deep Thought/Documents/Python/CNN_Masterarbeit/BeamlikePI/csv/PI_e_lappd1x1/beamlike_PI_e_lappd1x1_\"\n",
    "DATADIRmu =\"C:/Users/Deep Thought/Documents/Python/CNN_Masterarbeit/BeamlikePI/csv/PI_muon_lappd1x1/beamlike_PI_muon_lappd1x1_\" "
   ]
  },
  {
   "cell_type": "markdown",
   "metadata": {},
   "source": [
    "## Charge"
   ]
  },
  {
   "cell_type": "markdown",
   "metadata": {},
   "source": [
    "All Files"
   ]
  },
  {
   "cell_type": "code",
   "execution_count": 5,
   "metadata": {},
   "outputs": [
    {
     "data": {
      "application/vnd.jupyter.widget-view+json": {
       "model_id": "addf710f1f2542c48010dd57865ebdb8",
       "version_major": 2,
       "version_minor": 0
      },
      "text/plain": [
       "HBox(children=(IntProgress(value=0, max=997), HTML(value='')))"
      ]
     },
     "metadata": {},
     "output_type": "display_data"
    },
    {
     "name": "stdout",
     "output_type": "stream",
     "text": [
      "\n"
     ]
    },
    {
     "data": {
      "application/vnd.jupyter.widget-view+json": {
       "model_id": "d29475a461e44f0996c57d355f03d091",
       "version_major": 2,
       "version_minor": 0
      },
      "text/plain": [
       "HBox(children=(IntProgress(value=0, max=400), HTML(value='')))"
      ]
     },
     "metadata": {},
     "output_type": "display_data"
    },
    {
     "name": "stdout",
     "output_type": "stream",
     "text": [
      "\n"
     ]
    }
   ],
   "source": [
    "all_values =np.zeros((0,160))\n",
    "for i in tqdm(range(numberFilese)):\n",
    "    try:\n",
    "        training_data_list = np.loadtxt(DATADIRe+str(i)+\"_charge.csv\", delimiter = \",\")\n",
    "        #print(training_data_list.shape,all_values.shape)\n",
    "        all_values = np.concatenate([all_values,training_data_list],axis=0)\n",
    "    except OSError:\n",
    "        print(\"File {} not found\".format(i))\n",
    "        continue\n",
    "    #if len(all_values)>setlen:\n",
    "        #break\n",
    "        print(len(all_values))\n",
    "for i in tqdm(range(numberFilesmu)):\n",
    "    try:\n",
    "        training_data_list = np.loadtxt(DATADIRmu+str(i)+\"_charge.csv\", delimiter = \",\")\n",
    "        #print(training_data_list.shape,all_values.shape)\n",
    "        all_values = np.concatenate([all_values,training_data_list],axis=0)\n",
    "    except OSError:\n",
    "        print(\"File {} not found\".format(i))\n",
    "        continue\n",
    "    #if len(all_values)>setlen*2:\n",
    "        #break\n",
    "        print(len(all_values))\n",
    "#np.save('BeamlikePI/Temp/ChargePMT', all_values)\n",
    "#del all_values"
   ]
  },
  {
   "cell_type": "markdown",
   "metadata": {},
   "source": [
    "## Time"
   ]
  },
  {
   "cell_type": "markdown",
   "metadata": {},
   "source": [
    "All files"
   ]
  },
  {
   "cell_type": "markdown",
   "metadata": {},
   "source": [
    "Alte Variante"
   ]
  },
  {
   "cell_type": "code",
   "execution_count": 9,
   "metadata": {},
   "outputs": [
    {
     "data": {
      "application/vnd.jupyter.widget-view+json": {
       "model_id": "2d7cc2e6382c4f208d128f1ff4bac04b",
       "version_major": 2,
       "version_minor": 0
      },
      "text/plain": [
       "HBox(children=(IntProgress(value=0, max=997), HTML(value='')))"
      ]
     },
     "metadata": {},
     "output_type": "display_data"
    },
    {
     "ename": "KeyboardInterrupt",
     "evalue": "",
     "output_type": "error",
     "traceback": [
      "\u001b[1;31m---------------------------------------------------------------------------\u001b[0m",
      "\u001b[1;31mKeyboardInterrupt\u001b[0m                         Traceback (most recent call last)",
      "\u001b[1;32m<ipython-input-9-26a5ab460193>\u001b[0m in \u001b[0;36m<module>\u001b[1;34m\u001b[0m\n\u001b[0;32m      1\u001b[0m \u001b[1;32mfor\u001b[0m \u001b[0mi\u001b[0m \u001b[1;32min\u001b[0m \u001b[0mtqdm\u001b[0m\u001b[1;33m(\u001b[0m\u001b[0mrange\u001b[0m\u001b[1;33m(\u001b[0m\u001b[0mnumberFilese\u001b[0m\u001b[1;33m)\u001b[0m\u001b[1;33m)\u001b[0m\u001b[1;33m:\u001b[0m\u001b[1;33m\u001b[0m\u001b[1;33m\u001b[0m\u001b[0m\n\u001b[0;32m      2\u001b[0m     \u001b[1;32mtry\u001b[0m\u001b[1;33m:\u001b[0m\u001b[1;33m\u001b[0m\u001b[1;33m\u001b[0m\u001b[0m\n\u001b[1;32m----> 3\u001b[1;33m         \u001b[0mtraining_data_list\u001b[0m \u001b[1;33m=\u001b[0m \u001b[0mnp\u001b[0m\u001b[1;33m.\u001b[0m\u001b[0mloadtxt\u001b[0m\u001b[1;33m(\u001b[0m\u001b[0mDATADIRe\u001b[0m\u001b[1;33m+\u001b[0m\u001b[0mstr\u001b[0m\u001b[1;33m(\u001b[0m\u001b[0mi\u001b[0m\u001b[1;33m)\u001b[0m\u001b[1;33m+\u001b[0m\u001b[1;34m\"_time.csv\"\u001b[0m\u001b[1;33m,\u001b[0m \u001b[0mdelimiter\u001b[0m \u001b[1;33m=\u001b[0m \u001b[1;34m\",\"\u001b[0m\u001b[1;33m)\u001b[0m\u001b[1;33m\u001b[0m\u001b[1;33m\u001b[0m\u001b[0m\n\u001b[0m\u001b[0;32m      4\u001b[0m         \u001b[0mtime_values\u001b[0m \u001b[1;33m=\u001b[0m \u001b[0mnp\u001b[0m\u001b[1;33m.\u001b[0m\u001b[0mconcatenate\u001b[0m\u001b[1;33m(\u001b[0m\u001b[1;33m[\u001b[0m\u001b[0mtime_values\u001b[0m\u001b[1;33m,\u001b[0m\u001b[0mtraining_data_list\u001b[0m\u001b[1;33m]\u001b[0m\u001b[1;33m,\u001b[0m\u001b[0maxis\u001b[0m\u001b[1;33m=\u001b[0m\u001b[1;36m0\u001b[0m\u001b[1;33m)\u001b[0m\u001b[1;33m\u001b[0m\u001b[1;33m\u001b[0m\u001b[0m\n\u001b[0;32m      5\u001b[0m \u001b[1;33m\u001b[0m\u001b[0m\n",
      "\u001b[1;32mC:\\Program Files (x86)\\Microsoft Visual Studio\\Shared\\Anaconda3_64\\envs\\Tensorflow\\lib\\site-packages\\numpy\\lib\\npyio.py\u001b[0m in \u001b[0;36mloadtxt\u001b[1;34m(fname, dtype, comments, delimiter, converters, skiprows, usecols, unpack, ndmin, encoding, max_rows)\u001b[0m\n\u001b[0;32m    960\u001b[0m             \u001b[0mfname\u001b[0m \u001b[1;33m=\u001b[0m \u001b[0mos_fspath\u001b[0m\u001b[1;33m(\u001b[0m\u001b[0mfname\u001b[0m\u001b[1;33m)\u001b[0m\u001b[1;33m\u001b[0m\u001b[1;33m\u001b[0m\u001b[0m\n\u001b[0;32m    961\u001b[0m         \u001b[1;32mif\u001b[0m \u001b[0m_is_string_like\u001b[0m\u001b[1;33m(\u001b[0m\u001b[0mfname\u001b[0m\u001b[1;33m)\u001b[0m\u001b[1;33m:\u001b[0m\u001b[1;33m\u001b[0m\u001b[1;33m\u001b[0m\u001b[0m\n\u001b[1;32m--> 962\u001b[1;33m             \u001b[0mfh\u001b[0m \u001b[1;33m=\u001b[0m \u001b[0mnp\u001b[0m\u001b[1;33m.\u001b[0m\u001b[0mlib\u001b[0m\u001b[1;33m.\u001b[0m\u001b[0m_datasource\u001b[0m\u001b[1;33m.\u001b[0m\u001b[0mopen\u001b[0m\u001b[1;33m(\u001b[0m\u001b[0mfname\u001b[0m\u001b[1;33m,\u001b[0m \u001b[1;34m'rt'\u001b[0m\u001b[1;33m,\u001b[0m \u001b[0mencoding\u001b[0m\u001b[1;33m=\u001b[0m\u001b[0mencoding\u001b[0m\u001b[1;33m)\u001b[0m\u001b[1;33m\u001b[0m\u001b[1;33m\u001b[0m\u001b[0m\n\u001b[0m\u001b[0;32m    963\u001b[0m             \u001b[0mfencoding\u001b[0m \u001b[1;33m=\u001b[0m \u001b[0mgetattr\u001b[0m\u001b[1;33m(\u001b[0m\u001b[0mfh\u001b[0m\u001b[1;33m,\u001b[0m \u001b[1;34m'encoding'\u001b[0m\u001b[1;33m,\u001b[0m \u001b[1;34m'latin1'\u001b[0m\u001b[1;33m)\u001b[0m\u001b[1;33m\u001b[0m\u001b[1;33m\u001b[0m\u001b[0m\n\u001b[0;32m    964\u001b[0m             \u001b[0mfh\u001b[0m \u001b[1;33m=\u001b[0m \u001b[0miter\u001b[0m\u001b[1;33m(\u001b[0m\u001b[0mfh\u001b[0m\u001b[1;33m)\u001b[0m\u001b[1;33m\u001b[0m\u001b[1;33m\u001b[0m\u001b[0m\n",
      "\u001b[1;32mC:\\Program Files (x86)\\Microsoft Visual Studio\\Shared\\Anaconda3_64\\envs\\Tensorflow\\lib\\site-packages\\numpy\\lib\\_datasource.py\u001b[0m in \u001b[0;36mopen\u001b[1;34m(path, mode, destpath, encoding, newline)\u001b[0m\n\u001b[0;32m    264\u001b[0m \u001b[1;33m\u001b[0m\u001b[0m\n\u001b[0;32m    265\u001b[0m     \u001b[0mds\u001b[0m \u001b[1;33m=\u001b[0m \u001b[0mDataSource\u001b[0m\u001b[1;33m(\u001b[0m\u001b[0mdestpath\u001b[0m\u001b[1;33m)\u001b[0m\u001b[1;33m\u001b[0m\u001b[1;33m\u001b[0m\u001b[0m\n\u001b[1;32m--> 266\u001b[1;33m     \u001b[1;32mreturn\u001b[0m \u001b[0mds\u001b[0m\u001b[1;33m.\u001b[0m\u001b[0mopen\u001b[0m\u001b[1;33m(\u001b[0m\u001b[0mpath\u001b[0m\u001b[1;33m,\u001b[0m \u001b[0mmode\u001b[0m\u001b[1;33m,\u001b[0m \u001b[0mencoding\u001b[0m\u001b[1;33m=\u001b[0m\u001b[0mencoding\u001b[0m\u001b[1;33m,\u001b[0m \u001b[0mnewline\u001b[0m\u001b[1;33m=\u001b[0m\u001b[0mnewline\u001b[0m\u001b[1;33m)\u001b[0m\u001b[1;33m\u001b[0m\u001b[1;33m\u001b[0m\u001b[0m\n\u001b[0m\u001b[0;32m    267\u001b[0m \u001b[1;33m\u001b[0m\u001b[0m\n\u001b[0;32m    268\u001b[0m \u001b[1;33m\u001b[0m\u001b[0m\n",
      "\u001b[1;32mC:\\Program Files (x86)\\Microsoft Visual Studio\\Shared\\Anaconda3_64\\envs\\Tensorflow\\lib\\site-packages\\numpy\\lib\\_datasource.py\u001b[0m in \u001b[0;36mopen\u001b[1;34m(self, path, mode, encoding, newline)\u001b[0m\n\u001b[0;32m    620\u001b[0m                 \u001b[0mmode\u001b[0m\u001b[1;33m.\u001b[0m\u001b[0mreplace\u001b[0m\u001b[1;33m(\u001b[0m\u001b[1;34m\"+\"\u001b[0m\u001b[1;33m,\u001b[0m \u001b[1;34m\"\"\u001b[0m\u001b[1;33m)\u001b[0m\u001b[1;33m\u001b[0m\u001b[1;33m\u001b[0m\u001b[0m\n\u001b[0;32m    621\u001b[0m             return _file_openers[ext](found, mode=mode,\n\u001b[1;32m--> 622\u001b[1;33m                                       encoding=encoding, newline=newline)\n\u001b[0m\u001b[0;32m    623\u001b[0m         \u001b[1;32melse\u001b[0m\u001b[1;33m:\u001b[0m\u001b[1;33m\u001b[0m\u001b[1;33m\u001b[0m\u001b[0m\n\u001b[0;32m    624\u001b[0m             \u001b[1;32mraise\u001b[0m \u001b[0mIOError\u001b[0m\u001b[1;33m(\u001b[0m\u001b[1;34m\"%s not found.\"\u001b[0m \u001b[1;33m%\u001b[0m \u001b[0mpath\u001b[0m\u001b[1;33m)\u001b[0m\u001b[1;33m\u001b[0m\u001b[1;33m\u001b[0m\u001b[0m\n",
      "\u001b[1;32mC:\\Program Files (x86)\\Microsoft Visual Studio\\Shared\\Anaconda3_64\\envs\\Tensorflow\\lib\\_bootlocale.py\u001b[0m in \u001b[0;36mgetpreferredencoding\u001b[1;34m(do_setlocale)\u001b[0m\n\u001b[0;32m      9\u001b[0m \u001b[1;33m\u001b[0m\u001b[0m\n\u001b[0;32m     10\u001b[0m \u001b[1;32mif\u001b[0m \u001b[0msys\u001b[0m\u001b[1;33m.\u001b[0m\u001b[0mplatform\u001b[0m\u001b[1;33m.\u001b[0m\u001b[0mstartswith\u001b[0m\u001b[1;33m(\u001b[0m\u001b[1;34m\"win\"\u001b[0m\u001b[1;33m)\u001b[0m\u001b[1;33m:\u001b[0m\u001b[1;33m\u001b[0m\u001b[1;33m\u001b[0m\u001b[0m\n\u001b[1;32m---> 11\u001b[1;33m     \u001b[1;32mdef\u001b[0m \u001b[0mgetpreferredencoding\u001b[0m\u001b[1;33m(\u001b[0m\u001b[0mdo_setlocale\u001b[0m\u001b[1;33m=\u001b[0m\u001b[1;32mTrue\u001b[0m\u001b[1;33m)\u001b[0m\u001b[1;33m:\u001b[0m\u001b[1;33m\u001b[0m\u001b[1;33m\u001b[0m\u001b[0m\n\u001b[0m\u001b[0;32m     12\u001b[0m         \u001b[1;32mif\u001b[0m \u001b[0msys\u001b[0m\u001b[1;33m.\u001b[0m\u001b[0mflags\u001b[0m\u001b[1;33m.\u001b[0m\u001b[0mutf8_mode\u001b[0m\u001b[1;33m:\u001b[0m\u001b[1;33m\u001b[0m\u001b[1;33m\u001b[0m\u001b[0m\n\u001b[0;32m     13\u001b[0m             \u001b[1;32mreturn\u001b[0m \u001b[1;34m'UTF-8'\u001b[0m\u001b[1;33m\u001b[0m\u001b[1;33m\u001b[0m\u001b[0m\n",
      "\u001b[1;31mKeyboardInterrupt\u001b[0m: "
     ]
    }
   ],
   "source": [
    "for i in tqdm(range(numberFilese)):\n",
    "    try:\n",
    "        training_data_list = np.loadtxt(DATADIRe+str(i)+\"_time.csv\", delimiter = \",\")\n",
    "        time_values = np.concatenate([time_values,training_data_list],axis=0)\n",
    "        \n",
    "    except OSError:\n",
    "        print(\"File {} not found\".format(i))\n",
    "    if len(time_values)>setlen:\n",
    "        break\n",
    "for i in tqdm(range(numberFilesmu)):\n",
    "    try:\n",
    "        training_data_list = np.loadtxt(DATADIRmu+str(i)+\"_time.csv\", delimiter = \",\")\n",
    "        time_values = np.concatenate([time_values,training_data_list],axis=0)\n",
    "        \n",
    "    except OSError:\n",
    "        print(\"File {} not found\".format(i))\n",
    "    if len(time_values)>setlen*2:\n",
    "        break\n",
    "        \n",
    "np.save('BeamlikePI/Temp/TimePMT', time_values)\n",
    "del time_values"
   ]
  },
  {
   "cell_type": "markdown",
   "metadata": {},
   "source": [
    " Neue Variante"
   ]
  },
  {
   "cell_type": "code",
   "execution_count": 40,
   "metadata": {},
   "outputs": [
    {
     "data": {
      "application/vnd.jupyter.widget-view+json": {
       "model_id": "8b332925828a4ffea6cbcddba08bc3dc",
       "version_major": 2,
       "version_minor": 0
      },
      "text/plain": [
       "HBox(children=(IntProgress(value=0, max=997), HTML(value='')))"
      ]
     },
     "metadata": {},
     "output_type": "display_data"
    },
    {
     "data": {
      "application/vnd.jupyter.widget-view+json": {
       "model_id": "9688431203ed432b98f3a7494f6caed1",
       "version_major": 2,
       "version_minor": 0
      },
      "text/plain": [
       "HBox(children=(IntProgress(value=0, max=400), HTML(value='')))"
      ]
     },
     "metadata": {},
     "output_type": "display_data"
    }
   ],
   "source": [
    "time_values =np.zeros((0,160))\n",
    "for i in tqdm(range(numberFilese)):\n",
    "    try:\n",
    "        training_data_listT = np.loadtxt(DATADIRe+str(i)+\"_time.csv\", delimiter = \",\")\n",
    "        training_data_listC = np.loadtxt(DATADIRe+str(i)+\"_charge.csv\", delimiter = \",\")\n",
    "        newlist1=[]\n",
    "        for element in range(len(training_data_listT)):\n",
    "            if sum(training_data_listC[element]) == 0:\n",
    "                newlist1.append(np.zeros((160*1)))\n",
    "                \n",
    "            else:\n",
    "                newlist=[]\n",
    "                for k in training_data_listT[element]:\n",
    "                    if k==0:\n",
    "                        newlist.append(0)\n",
    "                    else:\n",
    "                        newlist.append(1-k)\n",
    "                    \n",
    "                newlist1.append(newlist)\n",
    "        newlist1= np.array(newlist1)\n",
    "        #print(newlist1.shape,training_data_listT.shape)\n",
    "        time_values = np.concatenate([time_values,newlist1],axis=0)\n",
    "        \n",
    "    except OSError:\n",
    "        print(\"File {} not found\".format(i))\n",
    "    if len(time_values)>setlen:\n",
    "        break\n",
    "for i in tqdm(range(numberFilesmu)):\n",
    "    try:\n",
    "        training_data_listT = np.loadtxt(DATADIRmu+str(i)+\"_time.csv\", delimiter = \",\")\n",
    "        training_data_listC = np.loadtxt(DATADIRmu+str(i)+\"_charge.csv\", delimiter = \",\")\n",
    "        newlist1=[]\n",
    "        for element in range(len(training_data_listT)):\n",
    "            if sum(training_data_listC[element]) == 0:\n",
    "                newlist1.append(np.zeros((160*1)))\n",
    "                \n",
    "            else:\n",
    "                newlist=[]\n",
    "                for k in training_data_listT[element]:\n",
    "                    if k==0:\n",
    "                        newlist.append(0)\n",
    "                    else:\n",
    "                        newlist.append(1-k)\n",
    "                    \n",
    "                newlist1.append(newlist)\n",
    "        newlist1= np.array(newlist1)\n",
    "        time_values = np.concatenate([time_values,newlist1],axis=0)\n",
    "    except OSError:\n",
    "        print(\"File {} not found\".format(i))\n",
    "    if len(time_values)>setlen*2:\n",
    "        break\n",
    "        \n",
    "np.save('BeamlikePI/Temp/TimePMT_flipped', time_values)\n",
    "del time_values"
   ]
  },
  {
   "cell_type": "markdown",
   "metadata": {},
   "source": [
    "## Lappd Charge"
   ]
  },
  {
   "cell_type": "markdown",
   "metadata": {},
   "source": [
    "All files"
   ]
  },
  {
   "cell_type": "code",
   "execution_count": 42,
   "metadata": {},
   "outputs": [],
   "source": [
    "DATADIRe =\"C:/Users/Deep Thought/Documents/Python/CNN_Masterarbeit/BeamlikePI/csv/PI_electron_lappd5x5_new/beamlike_PI_electron_lappd5x5_\"\n",
    "DATADIRmu =\"C:/Users/Deep Thought/Documents/Python/CNN_Masterarbeit/BeamlikePI/csv/PI_muon_lappd5x5_new/beamlike_PI_muon_lappd5x5_\"\n",
    "\n",
    "#DATADIRe =\"C:/Users/Deep Thought/Documents/Python/CNN_Masterarbeit/BeamlikePI/csv/PI_e_lappd1x1/beamlike_PI_e_lappd1x1_\"\n",
    "#DATADIRmu =\"C:/Users/Deep Thought/Documents/Python/CNN_Masterarbeit/BeamlikePI/csv/PI_muon_lappd1x1/beamlike_PI_muon_lappd1x1_\" "
   ]
  },
  {
   "cell_type": "code",
   "execution_count": 43,
   "metadata": {},
   "outputs": [
    {
     "data": {
      "application/vnd.jupyter.widget-view+json": {
       "model_id": "571becaa6adc4ee39f56ced3c2d871ac",
       "version_major": 2,
       "version_minor": 0
      },
      "text/plain": [
       "HBox(children=(IntProgress(value=0, max=997), HTML(value='')))"
      ]
     },
     "metadata": {},
     "output_type": "display_data"
    },
    {
     "data": {
      "application/vnd.jupyter.widget-view+json": {
       "model_id": "484b14b396e6414a9a023ee6aea6937c",
       "version_major": 2,
       "version_minor": 0
      },
      "text/plain": [
       "HBox(children=(IntProgress(value=0, max=400), HTML(value='')))"
      ]
     },
     "metadata": {},
     "output_type": "display_data"
    }
   ],
   "source": [
    "#all_values_Lappd = np.zeros((0,24*9))\n",
    "all_values_Lappd = np.zeros((0,24*25))#*25 weil 5x5=25 und 24 weil 24 LAPPDs\n",
    "#all_values_Lappd = np.zeros((0,24*1))\n",
    "for i in tqdm(range(numberFilese)):\n",
    "    try:\n",
    "        training_data_list = np.loadtxt(DATADIRe+str(i)+\"_lappd_charge.csv\", delimiter = \",\")\n",
    "        all_values_Lappd = np.concatenate([all_values_Lappd,training_data_list],axis=0)\n",
    "        \n",
    "        \n",
    "        \n",
    "        \n",
    "    except OSError:\n",
    "        print(\"File {} not found\".format(i))       \n",
    "    if len(all_values_Lappd)>setlen:\n",
    "        break\n",
    "for i in tqdm(range(numberFilesmu)):\n",
    "    try:\n",
    "        training_data_list = np.loadtxt(DATADIRmu+str(i)+\"_lappd_charge.csv\", delimiter = \",\")\n",
    "        all_values_Lappd = np.concatenate([all_values_Lappd,training_data_list],axis=0)\n",
    "    except OSError:\n",
    "        print(\"File {} not found\".format(i)) \n",
    "    if len(all_values_Lappd)>setlen*2:\n",
    "        break\n",
    "        \n",
    "np.save('BeamlikePI/Temp/ChargeLAPPD_5', all_values_Lappd)\n",
    "del all_values_Lappd"
   ]
  },
  {
   "cell_type": "markdown",
   "metadata": {},
   "source": [
    "## Lappd Time"
   ]
  },
  {
   "cell_type": "markdown",
   "metadata": {},
   "source": [
    "All files"
   ]
  },
  {
   "cell_type": "code",
   "execution_count": 9,
   "metadata": {},
   "outputs": [
    {
     "name": "stdout",
     "output_type": "stream",
     "text": [
      "\n"
     ]
    },
    {
     "data": {
      "application/vnd.jupyter.widget-view+json": {
       "model_id": "64bfa9a162f8434192624abc19e80291",
       "version_major": 2,
       "version_minor": 0
      },
      "text/plain": [
       "HBox(children=(IntProgress(value=0, max=997), HTML(value='')))"
      ]
     },
     "metadata": {},
     "output_type": "display_data"
    },
    {
     "data": {
      "application/vnd.jupyter.widget-view+json": {
       "model_id": "44bd961d01d14faba8647df738b079a4",
       "version_major": 2,
       "version_minor": 0
      },
      "text/plain": [
       "HBox(children=(IntProgress(value=0, max=400), HTML(value='')))"
      ]
     },
     "metadata": {},
     "output_type": "display_data"
    }
   ],
   "source": [
    "#time_values_Lappd = np.zeros((0,24*9))\n",
    "#time_values_Lappd = np.zeros((0,24*25)) #*25 weil 5x5=25 und 24 weil 24 LAPPDs\n",
    "time_values_Lappd = np.zeros((0,24*1))\n",
    "for i in tqdm(range(numberFilese)):\n",
    "    try:\n",
    "        training_data_list = np.loadtxt(DATADIRe+str(i)+\"_lappd_time.csv\", delimiter = \",\")\n",
    "        time_values_Lappd = np.concatenate([time_values_Lappd,training_data_list],axis=0)\n",
    "    except OSError:\n",
    "        print(\"File {} not found\".format(i))\n",
    "    if len(time_values_Lappd)>setlen:\n",
    "        break\n",
    "for i in tqdm(range(numberFilesmu)):\n",
    "    try:\n",
    "        training_data_list = np.loadtxt(DATADIRmu+str(i)+\"_lappd_time.csv\", delimiter = \",\")\n",
    "        time_values_Lappd = np.concatenate([time_values_Lappd,training_data_list],axis=0)\n",
    "    except OSError:\n",
    "        print(\"File {} not found\".format(i))\n",
    "    if len(time_values_Lappd)>setlen*2:\n",
    "        break\n",
    "np.save('BeamlikePI/Temp/TimeLAPPD', time_values_Lappd)\n",
    "del time_values_Lappd"
   ]
  },
  {
   "cell_type": "markdown",
   "metadata": {},
   "source": [
    "Neue Methode"
   ]
  },
  {
   "cell_type": "code",
   "execution_count": null,
   "metadata": {},
   "outputs": [],
   "source": [
    "# Jetzt für 5x5 ausgelegt"
   ]
  },
  {
   "cell_type": "code",
   "execution_count": 44,
   "metadata": {},
   "outputs": [
    {
     "data": {
      "application/vnd.jupyter.widget-view+json": {
       "model_id": "88a387ae60524c50813e05fbe91cba62",
       "version_major": 2,
       "version_minor": 0
      },
      "text/plain": [
       "HBox(children=(IntProgress(value=0, max=997), HTML(value='')))"
      ]
     },
     "metadata": {},
     "output_type": "display_data"
    },
    {
     "data": {
      "application/vnd.jupyter.widget-view+json": {
       "model_id": "488d781b8aef4230916c1ed1a48b3e48",
       "version_major": 2,
       "version_minor": 0
      },
      "text/plain": [
       "HBox(children=(IntProgress(value=0, max=400), HTML(value='')))"
      ]
     },
     "metadata": {},
     "output_type": "display_data"
    }
   ],
   "source": [
    "time_values_Lappd = np.zeros((0,24*25))\n",
    "for i in tqdm(range(numberFilese)):\n",
    "    try:\n",
    "        \n",
    "        training_data_listT = np.loadtxt(DATADIRe+str(i)+\"_lappd_time.csv\", delimiter = \",\")\n",
    "        training_data_listC = np.loadtxt(DATADIRe+str(i)+\"_lappd_charge.csv\", delimiter = \",\")\n",
    "        newlist1=[]\n",
    "        for element in range(len(training_data_listT)):\n",
    "            if sum(training_data_listC[element]) == 0:\n",
    "                newlist1.append(np.zeros((24*25)))\n",
    "                \n",
    "            else:\n",
    "                newlist=[]\n",
    "                for k in training_data_listT[element]:\n",
    "                    if k==0:\n",
    "                        newlist.append(0)\n",
    "                    else:\n",
    "                        newlist.append(1-k)\n",
    "                    \n",
    "                newlist1.append(newlist)\n",
    "                \n",
    "                \n",
    "        \n",
    "        #print(i,newlist1.shape,training_data_listT.shape)\n",
    "\n",
    "        time_values_Lappd = np.concatenate([time_values_Lappd,newlist1],axis=0)\n",
    "        \n",
    "        \n",
    "      \n",
    "    except OSError:\n",
    "        print(\"File {} not found\".format(i))\n",
    "    if len(time_values_Lappd)>setlen:\n",
    "        break\n",
    "for i in tqdm(range(numberFilesmu)):\n",
    "    try:\n",
    "        training_data_listT = np.loadtxt(DATADIRmu+str(i)+\"_lappd_time.csv\", delimiter = \",\")\n",
    "        training_data_listC = np.loadtxt(DATADIRmu+str(i)+\"_lappd_charge.csv\", delimiter = \",\")\n",
    "        newlist1=[]\n",
    "        for element in range(len(training_data_listT)):\n",
    "            if sum(training_data_listC[element]) == 0:\n",
    "                newlist1.append(np.zeros((24*25)))\n",
    "            else:\n",
    "                newlist=[]\n",
    "                for k in training_data_listT[element]:\n",
    "                    if k==0:\n",
    "                        newlist.append(0)\n",
    "                    else:\n",
    "                        newlist.append(1-k)\n",
    "                    \n",
    "                newlist1.append(newlist)\n",
    "        newlist1= np.array(newlist1)\n",
    "        #print(newlist1.shape,training_data_listT.shape)\n",
    "        time_values_Lappd = np.concatenate([time_values_Lappd,newlist1],axis=0)\n",
    "        \n",
    "    except OSError:\n",
    "        print(\"File {} not found\".format(i))\n",
    "    if len(time_values_Lappd)>setlen*2:\n",
    "        break\n",
    "np.save('BeamlikePI/Temp/TimeLAPPD_flipped_5', time_values_Lappd)\n",
    "del time_values_Lappd"
   ]
  },
  {
   "cell_type": "markdown",
   "metadata": {},
   "source": [
    "## MRD Hits"
   ]
  },
  {
   "cell_type": "markdown",
   "metadata": {},
   "source": [
    "All fiels"
   ]
  },
  {
   "cell_type": "code",
   "execution_count": 11,
   "metadata": {},
   "outputs": [
    {
     "data": {
      "application/vnd.jupyter.widget-view+json": {
       "model_id": "da4ec9e0101f4793a6f3de1bd862d1a9",
       "version_major": 2,
       "version_minor": 0
      },
      "text/plain": [
       "HBox(children=(IntProgress(value=0, max=997), HTML(value='')))"
      ]
     },
     "metadata": {},
     "output_type": "display_data"
    },
    {
     "name": "stdout",
     "output_type": "stream",
     "text": [
      "60028\n"
     ]
    },
    {
     "data": {
      "application/vnd.jupyter.widget-view+json": {
       "model_id": "3906d16570a642baa409d039455a959d",
       "version_major": 2,
       "version_minor": 0
      },
      "text/plain": [
       "HBox(children=(IntProgress(value=0, max=400), HTML(value='')))"
      ]
     },
     "metadata": {},
     "output_type": "display_data"
    }
   ],
   "source": [
    "MRDHits=np.zeros((0,6))\n",
    "for i in tqdm(range(numberFilese)):\n",
    "    try:\n",
    "        training_data_list = np.loadtxt(DATADIRe+str(i)+\"_MRD.csv\", delimiter = \",\")\n",
    "        MRDHits = np.concatenate([MRDHits,training_data_list],axis=0)\n",
    "    except OSError:\n",
    "        print(\"File {} not found\".format(i))\n",
    "    if len(MRDHits)>setlen:\n",
    "        break    \n",
    "\n",
    "print(len(MRDHits))\n",
    "for i in tqdm(range(numberFilesmu)):\n",
    "    try:\n",
    "        training_data_list = np.loadtxt(DATADIRmu+str(i)+\"_MRD.csv\", delimiter = \",\")\n",
    "        MRDHits = np.concatenate([MRDHits,training_data_list],axis=0)\n",
    "    except OSError:\n",
    "        print(\"File {} not found\".format(i))\n",
    "    if len(MRDHits)>setlen*2:\n",
    "        break\n",
    "np.save('BeamlikePI/Temp/MRD', MRDHits)\n",
    "#del MRDHits"
   ]
  },
  {
   "cell_type": "code",
   "execution_count": 21,
   "metadata": {},
   "outputs": [
    {
     "data": {
      "text/plain": [
       "(120005, 6)"
      ]
     },
     "execution_count": 21,
     "metadata": {},
     "output_type": "execute_result"
    }
   ],
   "source": [
    "MRDHits.shape"
   ]
  },
  {
   "cell_type": "code",
   "execution_count": 22,
   "metadata": {},
   "outputs": [],
   "source": [
    "del MRDHits"
   ]
  },
  {
   "cell_type": "markdown",
   "metadata": {},
   "source": [
    "## Muon or electron"
   ]
  },
  {
   "cell_type": "markdown",
   "metadata": {},
   "source": [
    "All files"
   ]
  },
  {
   "cell_type": "code",
   "execution_count": 10,
   "metadata": {},
   "outputs": [
    {
     "data": {
      "application/vnd.jupyter.widget-view+json": {
       "model_id": "c2375b54c87c4e0f8e367169db3da55a",
       "version_major": 2,
       "version_minor": 0
      },
      "text/plain": [
       "HBox(children=(IntProgress(value=0, max=997), HTML(value='')))"
      ]
     },
     "metadata": {},
     "output_type": "display_data"
    },
    {
     "data": {
      "application/vnd.jupyter.widget-view+json": {
       "model_id": "f0c9b741e4b048bcb45ea387d480db88",
       "version_major": 2,
       "version_minor": 0
      },
      "text/plain": [
       "HBox(children=(IntProgress(value=0, max=400), HTML(value='')))"
      ]
     },
     "metadata": {},
     "output_type": "display_data"
    },
    {
     "name": "stdout",
     "output_type": "stream",
     "text": [
      "\n"
     ]
    }
   ],
   "source": [
    "category_values=[]\n",
    "      \n",
    "for i in tqdm(range(numberFilese)):\n",
    "    try:\n",
    "        training_data_list = np.loadtxt(DATADIRe+str(i)+\"_charge.csv\", delimiter = \",\")\n",
    "        for event in training_data_list:\n",
    "            category_values.append((1,0)) ## Electron\n",
    "    except OSError:\n",
    "        print(\"File {} not found\".format(i))\n",
    "    if len(category_values)>setlen:\n",
    "        break\n",
    "for i in tqdm(range(numberFilesmu)):\n",
    "    try:\n",
    "        training_data_list = np.loadtxt(DATADIRmu+str(i)+\"_charge.csv\", delimiter = \",\")\n",
    "        for event in training_data_list:\n",
    "            category_values.append((0,1)) ## Muon\n",
    "    except OSError:\n",
    "        print(\"File {} not found\".format(i))\n",
    "    if len(category_values)>setlen*2:\n",
    "        break\n",
    "  \n",
    "np.save('BeamlikePI/Temp/category_values', category_values)\n",
    "del category_values"
   ]
  },
  {
   "cell_type": "code",
   "execution_count": null,
   "metadata": {},
   "outputs": [],
   "source": []
  }
 ],
 "metadata": {
  "kernelspec": {
   "display_name": "Tensorflow",
   "language": "python",
   "name": "myenv"
  },
  "language_info": {
   "codemirror_mode": {
    "name": "ipython",
    "version": 3
   },
   "file_extension": ".py",
   "mimetype": "text/x-python",
   "name": "python",
   "nbconvert_exporter": "python",
   "pygments_lexer": "ipython3",
   "version": "3.7.3"
  }
 },
 "nbformat": 4,
 "nbformat_minor": 2
}
