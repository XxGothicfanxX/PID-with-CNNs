{
 "cells": [
  {
   "cell_type": "code",
   "execution_count": 12,
   "metadata": {},
   "outputs": [],
   "source": [
    "\n",
    "import numpy as np\n",
    "import matplotlib.pyplot as plt\n",
    "import os\n",
    "import cv2\n",
    "import pandas as pd # data processing, CSV file I/O (e.g. pd.read_csv)\n",
    "import copy\n",
    "import random\n",
    "import time\n",
    "from collections import defaultdict\n",
    "from tqdm.notebook import tqdm\n",
    "import h5py\n",
    "\n",
    "### Path to Files\n",
    "DATADIR =\"C:/Users/Deep Thought/Documents/Python/CNN_Masterarbeit/DSNB/DSNB_CSV/csv_DSNB_LAPPD5x5_min3_Madau/\"   #All\n",
    "\n",
    "### Generating Combined Files\n",
    "\n",
    "\n",
    "\n",
    "#all_values =np.zeros((0,96))\n",
    "#time_values =np.zeros((0,96))\n",
    "all_values =np.zeros((0,160))\n",
    "time_values =np.zeros((0,160))\n",
    "category_values = np.zeros((0,2))    # CATEGORIES = [\"e\",\"mu\"] but all will be muons in this case\n",
    "all_values_Lappd = np.zeros((0,9600))\n",
    "time_values_Lappd = np.zeros((0,9600))\n",
    "MRDHits=np.zeros((0,6))\n",
    "Rings=np.zeros((0,))\n",
    "RingsTrueFalse=[]"
   ]
  },
  {
   "cell_type": "code",
   "execution_count": 13,
   "metadata": {},
   "outputs": [
    {
     "name": "stdout",
     "output_type": "stream",
     "text": [
      "99\n"
     ]
    }
   ],
   "source": [
    "numberFiles=99\n",
    "#int(len(os.listdir(DATADIR))/6)\n",
    "print(numberFiles)"
   ]
  },
  {
   "cell_type": "code",
   "execution_count": 14,
   "metadata": {},
   "outputs": [],
   "source": [
    "DATADIR =\"C:/Users/Deep Thought/Documents/Python/CNN_Masterarbeit/DSNB/DSNB_CSV/csv_DSNB_LAPPD5x5_min3_Madau/DSNB_\" "
   ]
  },
  {
   "cell_type": "code",
   "execution_count": 15,
   "metadata": {},
   "outputs": [],
   "source": [
    "setlen=96000"
   ]
  },
  {
   "cell_type": "markdown",
   "metadata": {},
   "source": [
    "## Charge"
   ]
  },
  {
   "cell_type": "markdown",
   "metadata": {},
   "source": [
    "All Files"
   ]
  },
  {
   "cell_type": "code",
   "execution_count": 16,
   "metadata": {},
   "outputs": [
    {
     "data": {
      "application/vnd.jupyter.widget-view+json": {
       "model_id": "be64abe641034098bd3085cb6b594b3c",
       "version_major": 2,
       "version_minor": 0
      },
      "text/plain": [
       "HBox(children=(IntProgress(value=0, max=99), HTML(value='')))"
      ]
     },
     "metadata": {},
     "output_type": "display_data"
    },
    {
     "name": "stdout",
     "output_type": "stream",
     "text": [
      "\n",
      "(95214, 160)\n"
     ]
    }
   ],
   "source": [
    "for i in tqdm(range(99)):\n",
    "    try:\n",
    "        training_data_list = np.loadtxt(DATADIR+str(i)+\"_charge.csv\", delimiter = \",\")\n",
    "        #print(training_data_list.shape,all_values.shape)\n",
    "        all_values = np.concatenate([all_values,training_data_list],axis=0)\n",
    "    except OSError:\n",
    "        print(\"File {} not found\".format(i))\n",
    "        continue    \n",
    "    if len(all_values)>setlen:\n",
    "        break  \n",
    "np.save('DSNB/Temp/Final/ChargePMT', all_values)\n",
    "print(all_values.shape)\n",
    "del all_values"
   ]
  },
  {
   "cell_type": "markdown",
   "metadata": {},
   "source": [
    "## Time"
   ]
  },
  {
   "cell_type": "markdown",
   "metadata": {},
   "source": [
    "All files"
   ]
  },
  {
   "cell_type": "code",
   "execution_count": 17,
   "metadata": {},
   "outputs": [
    {
     "data": {
      "application/vnd.jupyter.widget-view+json": {
       "model_id": "850507902a87469fb259d4bbbdabb0e2",
       "version_major": 2,
       "version_minor": 0
      },
      "text/plain": [
       "HBox(children=(IntProgress(value=0, max=99), HTML(value='')))"
      ]
     },
     "metadata": {},
     "output_type": "display_data"
    },
    {
     "name": "stdout",
     "output_type": "stream",
     "text": [
      "\n",
      "(95214, 160)\n"
     ]
    }
   ],
   "source": [
    "for i in tqdm(range(numberFiles)):\n",
    "    try:\n",
    "\n",
    "        training_data_listT = np.loadtxt(DATADIR+str(i)+\"_time.csv\", delimiter = \",\")\n",
    "        training_data_listC = np.loadtxt(DATADIR+str(i)+\"_charge.csv\", delimiter = \",\")\n",
    "        newlist1=[]\n",
    "        for element in range(len(training_data_listT)):\n",
    "            if sum(training_data_listC[element]) == 0:\n",
    "                newlist1.append(np.zeros((160*1)))\n",
    "                \n",
    "            else:\n",
    "                newlist=[]\n",
    "                for k in training_data_listT[element]:\n",
    "                    if k==0:\n",
    "                        newlist.append(0)\n",
    "                    else:\n",
    "                        newlist.append(1-k)\n",
    "                    \n",
    "                newlist1.append(newlist)\n",
    "        newlist1= np.array(newlist1)\n",
    "        #print(newlist1.shape,training_data_listT.shape)\n",
    "        time_values = np.concatenate([time_values,newlist1],axis=0)\n",
    "        \n",
    "    except OSError:\n",
    "        print(\"File {} not found\".format(i))\n",
    "    if len(time_values)>setlen:\n",
    "        break\n",
    "np.save('DSNB/Temp/Final/TimePMT', time_values)\n",
    "print(time_values.shape)\n",
    "del time_values"
   ]
  },
  {
   "cell_type": "code",
   "execution_count": 5,
   "metadata": {},
   "outputs": [
    {
     "data": {
      "application/vnd.jupyter.widget-view+json": {
       "model_id": "10ef25859a084f5fba112432b2516306",
       "version_major": 2,
       "version_minor": 0
      },
      "text/plain": [
       "HBox(children=(IntProgress(value=0, max=1000), HTML(value='')))"
      ]
     },
     "metadata": {},
     "output_type": "display_data"
    },
    {
     "name": "stdout",
     "output_type": "stream",
     "text": [
      "\n",
      "(961620, 160)\n"
     ]
    }
   ],
   "source": [
    "for i in tqdm(range(numberFiles)):\n",
    "    try:\n",
    "        training_data_list = np.loadtxt(DATADIR+str(i)+\"_time.csv\", delimiter = \",\")\n",
    "        time_values = np.concatenate([time_values,training_data_list],axis=0)\n",
    "        \n",
    "    except OSError:\n",
    "        print(\"File {} not found\".format(i))\n",
    "    if len(time_values)>setlen:\n",
    "        break         \n",
    "np.save('DSNB/Temp/TimePMT', time_values)\n",
    "print(time_values.shape)\n",
    "del time_values"
   ]
  },
  {
   "cell_type": "markdown",
   "metadata": {},
   "source": [
    "## Lappd Charge"
   ]
  },
  {
   "cell_type": "markdown",
   "metadata": {},
   "source": [
    "All files"
   ]
  },
  {
   "cell_type": "code",
   "execution_count": 18,
   "metadata": {},
   "outputs": [
    {
     "data": {
      "application/vnd.jupyter.widget-view+json": {
       "model_id": "49012cc7fc6e4a8aac61c7c358defbdc",
       "version_major": 2,
       "version_minor": 0
      },
      "text/plain": [
       "HBox(children=(IntProgress(value=0, max=99), HTML(value='')))"
      ]
     },
     "metadata": {},
     "output_type": "display_data"
    },
    {
     "name": "stdout",
     "output_type": "stream",
     "text": [
      "\n",
      "(95214, 600)\n"
     ]
    }
   ],
   "source": [
    "all_values_Lappd = np.zeros((0,24*25)) #*25 weil 5x5=25 und 24 weil 24 LAPPDs\n",
    "\n",
    "for i in tqdm(range(numberFiles)):\n",
    "    try:\n",
    "        training_data_list = np.loadtxt(DATADIR+str(i)+\"_lappd_charge.csv\", delimiter = \",\")\n",
    "        #print(training_data_list.shape)\n",
    "        all_values_Lappd = np.concatenate([all_values_Lappd,training_data_list],axis=0)\n",
    "    except OSError:\n",
    "        print(\"File {} not found\".format(i))\n",
    "    if len(all_values_Lappd)>setlen:\n",
    "        break   \n",
    "print(all_values_Lappd.shape)\n",
    "np.save('DSNB/Temp/Final/ChargeLAPPD', all_values_Lappd)\n",
    "del all_values_Lappd"
   ]
  },
  {
   "cell_type": "markdown",
   "metadata": {},
   "source": [
    "## Lappd Time"
   ]
  },
  {
   "cell_type": "code",
   "execution_count": 19,
   "metadata": {},
   "outputs": [
    {
     "data": {
      "application/vnd.jupyter.widget-view+json": {
       "model_id": "1522abef75374fd2b8c628d3d796115d",
       "version_major": 2,
       "version_minor": 0
      },
      "text/plain": [
       "HBox(children=(IntProgress(value=0, max=99), HTML(value='')))"
      ]
     },
     "metadata": {},
     "output_type": "display_data"
    },
    {
     "name": "stdout",
     "output_type": "stream",
     "text": [
      "\n",
      "(95214, 600)\n"
     ]
    }
   ],
   "source": [
    "#all_values_Lappd = np.zeros((0,24*25)) #*25 weil 5x5=25 und 24 weil 24 LAPPDs\n",
    "time_values_Lappd = np.zeros((0,24*25))\n",
    "for i in tqdm(range(numberFiles)):\n",
    "    try:\n",
    "        training_data_listT = np.loadtxt(DATADIR+str(i)+\"_lappd_time.csv\", delimiter = \",\")\n",
    "        training_data_listC = np.loadtxt(DATADIR+str(i)+\"_lappd_charge.csv\", delimiter = \",\")\n",
    "        newlist1=[]\n",
    "        for element in range(len(training_data_listT)):\n",
    "            if sum(training_data_listC[element]) == 0:\n",
    "                newlist1.append(np.zeros((24*25)))\n",
    "                \n",
    "            else:\n",
    "                newlist=[]\n",
    "                for k in training_data_listT[element]:\n",
    "                    if k==0:\n",
    "                        newlist.append(0)\n",
    "                    else:\n",
    "                        newlist.append(1-k)\n",
    "                    \n",
    "                newlist1.append(newlist)\n",
    "                \n",
    "                \n",
    "        \n",
    "        #print(i,newlist1.shape,training_data_listT.shape)\n",
    "\n",
    "        time_values_Lappd = np.concatenate([time_values_Lappd,newlist1],axis=0)\n",
    "    except OSError:\n",
    "        print(\"File {} not found\".format(i))\n",
    "    if len(time_values_Lappd)>setlen:\n",
    "        break\n",
    "np.save('DSNB/Temp/Final/TimeLAPPD', time_values_Lappd)\n",
    "print(time_values_Lappd.shape)\n",
    "del time_values_Lappd"
   ]
  },
  {
   "cell_type": "markdown",
   "metadata": {},
   "source": [
    "All files"
   ]
  },
  {
   "cell_type": "code",
   "execution_count": 7,
   "metadata": {},
   "outputs": [
    {
     "data": {
      "application/vnd.jupyter.widget-view+json": {
       "model_id": "2fe7d88d6cc343a9a2495fba99249bb7",
       "version_major": 2,
       "version_minor": 0
      },
      "text/plain": [
       "HBox(children=(IntProgress(value=0, max=1000), HTML(value='')))"
      ]
     },
     "metadata": {},
     "output_type": "display_data"
    },
    {
     "name": "stdout",
     "output_type": "stream",
     "text": [
      "\n",
      "(961620, 600)\n"
     ]
    }
   ],
   "source": [
    "time_values_Lappd = np.zeros((0,24*25))\n",
    "for i in tqdm(range(numberFiles)):\n",
    "    try:\n",
    "        training_data_list = np.loadtxt(DATADIR+str(i)+\"_lappd_time.csv\", delimiter = \",\")\n",
    "        time_values_Lappd = np.concatenate([time_values_Lappd,training_data_list],axis=0)\n",
    "    except OSError:\n",
    "        print(\"File {} not found\".format(i))\n",
    "np.save('DSNB/Temp/TimeLAPPD', time_values_Lappd)\n",
    "print(time_values_Lappd.shape)\n",
    "del time_values_Lappd"
   ]
  },
  {
   "cell_type": "markdown",
   "metadata": {},
   "source": [
    "## MRD Hits"
   ]
  },
  {
   "cell_type": "code",
   "execution_count": 39,
   "metadata": {},
   "outputs": [
    {
     "data": {
      "text/plain": [
       "(27, 6)"
      ]
     },
     "execution_count": 39,
     "metadata": {},
     "output_type": "execute_result"
    }
   ],
   "source": [
    "training_data_list.shape"
   ]
  },
  {
   "cell_type": "markdown",
   "metadata": {},
   "source": [
    "All fiels"
   ]
  },
  {
   "cell_type": "code",
   "execution_count": 8,
   "metadata": {},
   "outputs": [
    {
     "data": {
      "application/vnd.jupyter.widget-view+json": {
       "model_id": "c5fbcf3d0f644afcb2496d6124425185",
       "version_major": 2,
       "version_minor": 0
      },
      "text/plain": [
       "HBox(children=(IntProgress(value=0, max=1000), HTML(value='')))"
      ]
     },
     "metadata": {},
     "output_type": "display_data"
    },
    {
     "name": "stdout",
     "output_type": "stream",
     "text": [
      "\n",
      "(961620, 6)\n"
     ]
    }
   ],
   "source": [
    "MRDHits=np.zeros((0,6))\n",
    "for i in tqdm(range(numberFiles)):\n",
    "    try:\n",
    "        training_data_list = np.loadtxt(DATADIR+str(i)+\"_MRD.csv\", delimiter = \",\")\n",
    "        MRDHits = np.concatenate([MRDHits,training_data_list],axis=0)\n",
    "    except OSError:\n",
    "        print(\"File {} not found\".format(i))\n",
    "np.save('DSNB/Temp/MRD', MRDHits)\n",
    "print(MRDHits.shape)\n",
    "del MRDHits"
   ]
  },
  {
   "cell_type": "markdown",
   "metadata": {},
   "source": [
    "## Ring counting"
   ]
  },
  {
   "cell_type": "markdown",
   "metadata": {},
   "source": [
    "All files"
   ]
  },
  {
   "cell_type": "code",
   "execution_count": 9,
   "metadata": {},
   "outputs": [
    {
     "data": {
      "application/vnd.jupyter.widget-view+json": {
       "model_id": "15fb77a639ca4a9d81013afe206f6d22",
       "version_major": 2,
       "version_minor": 0
      },
      "text/plain": [
       "HBox(children=(IntProgress(value=0, max=1000), HTML(value='')))"
      ]
     },
     "metadata": {},
     "output_type": "display_data"
    },
    {
     "name": "stdout",
     "output_type": "stream",
     "text": [
      "\n",
      "(961620,)\n"
     ]
    }
   ],
   "source": [
    "Rings=np.zeros((0,))\n",
    "for i in tqdm(range(numberFiles)):\n",
    "    try:\n",
    "        training_data_list = np.loadtxt(DATADIR+str(i)+\"_Rings.csv\", delimiter = \",\")\n",
    "        Rings = np.concatenate([Rings,training_data_list],axis=0)\n",
    "    except OSError:\n",
    "        print(\"File {} not found\".format(i)) \n",
    "np.save('DSNB/Temp/Rings', Rings)\n",
    "print(Rings.shape)\n",
    "del Rings"
   ]
  },
  {
   "cell_type": "markdown",
   "metadata": {},
   "source": [
    "## Multirings True or False"
   ]
  },
  {
   "cell_type": "markdown",
   "metadata": {},
   "source": [
    "All files"
   ]
  },
  {
   "cell_type": "code",
   "execution_count": 10,
   "metadata": {},
   "outputs": [
    {
     "data": {
      "application/vnd.jupyter.widget-view+json": {
       "model_id": "97cbef6ca9ee4e638e2abfdae04dc522",
       "version_major": 2,
       "version_minor": 0
      },
      "text/plain": [
       "HBox(children=(IntProgress(value=0, max=1000), HTML(value='')))"
      ]
     },
     "metadata": {},
     "output_type": "display_data"
    },
    {
     "name": "stdout",
     "output_type": "stream",
     "text": [
      "\n"
     ]
    }
   ],
   "source": [
    "a=(0,1)\n",
    "b=(1,0)\n",
    "for i in tqdm(range(numberFiles)):\n",
    "    try:\n",
    "        training_data_list = np.loadtxt(DATADIR+str(i)+\"_Rings.csv\", delimiter = \",\")\n",
    "        for event in training_data_list:\n",
    "            if int(event)>1: ### Multi Ring (0,1)\n",
    "                RingsTrueFalse.append(a)\n",
    "            else:           ### Single Ring(1,0)           \n",
    "                RingsTrueFalse.append(b)\n",
    "    except OSError:\n",
    "        print(\"File {} not found\".format(i)) \n",
    "        \n",
    "np.save('DSNB/Temp/RingsTrueFalse', RingsTrueFalse)\n",
    "del RingsTrueFalse"
   ]
  },
  {
   "cell_type": "markdown",
   "metadata": {},
   "source": [
    "## DSNB or Atmospheric"
   ]
  },
  {
   "cell_type": "markdown",
   "metadata": {},
   "source": [
    "All files"
   ]
  },
  {
   "cell_type": "code",
   "execution_count": 20,
   "metadata": {},
   "outputs": [
    {
     "data": {
      "application/vnd.jupyter.widget-view+json": {
       "model_id": "32d63d4b73334767899970d37ab0d330",
       "version_major": 2,
       "version_minor": 0
      },
      "text/plain": [
       "HBox(children=(IntProgress(value=0, max=99), HTML(value='')))"
      ]
     },
     "metadata": {},
     "output_type": "display_data"
    },
    {
     "name": "stdout",
     "output_type": "stream",
     "text": [
      "\n",
      "95214\n"
     ]
    }
   ],
   "source": [
    "a=(1,0)\n",
    "category_values=[]\n",
    "for i in tqdm(range(numberFiles)):\n",
    "    try:\n",
    "        training_data_list = np.loadtxt(DATADIR+str(i)+\"_charge.csv\", delimiter = \",\")\n",
    "        for event in training_data_list:\n",
    "                category_values.append(a) ###DSNB = (1,0)\n",
    "\n",
    "    except OSError:\n",
    "        print(\"File {} not found\".format(i))\n",
    "    if len(category_values)>setlen:\n",
    "        break\n",
    "np.save('DSNB/Temp/Final/category_values', category_values)\n",
    "print(len(category_values))\n",
    "del category_values"
   ]
  },
  {
   "cell_type": "code",
   "execution_count": null,
   "metadata": {},
   "outputs": [],
   "source": []
  }
 ],
 "metadata": {
  "kernelspec": {
   "display_name": "Tensorflow",
   "language": "python",
   "name": "myenv"
  },
  "language_info": {
   "codemirror_mode": {
    "name": "ipython",
    "version": 3
   },
   "file_extension": ".py",
   "mimetype": "text/x-python",
   "name": "python",
   "nbconvert_exporter": "python",
   "pygments_lexer": "ipython3",
   "version": "3.7.3"
  }
 },
 "nbformat": 4,
 "nbformat_minor": 2
}
