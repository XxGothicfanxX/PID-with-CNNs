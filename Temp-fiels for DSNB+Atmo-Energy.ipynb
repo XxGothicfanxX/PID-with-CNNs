{
 "cells": [
  {
   "cell_type": "code",
   "execution_count": 3,
   "metadata": {},
   "outputs": [
    {
     "data": {
      "text/plain": [
       "4997.0"
      ]
     },
     "execution_count": 3,
     "metadata": {},
     "output_type": "execute_result"
    }
   ],
   "source": [
    "29982/6"
   ]
  },
  {
   "cell_type": "code",
   "execution_count": 1,
   "metadata": {},
   "outputs": [],
   "source": [
    "\n",
    "import numpy as np\n",
    "import matplotlib.pyplot as plt\n",
    "import os\n",
    "import cv2\n",
    "import pandas as pd # data processing, CSV file I/O (e.g. pd.read_csv)\n",
    "import copy\n",
    "import random\n",
    "import time\n",
    "from collections import defaultdict\n",
    "from tqdm.notebook import tqdm\n",
    "import h5py\n",
    "\n",
    "### Path to Files\n",
    "DATADIRe =\"C:/Users/Deep Thought/Documents/Python/CNN_Masterarbeit/DSNB/DSNB_lappd5x5_Energy/\"   #All\n",
    "DATADIRmu=\"C:/Users/Deep Thought/Documents/Python/CNN_Masterarbeit/DSNB/Atmo_lappd5x5_Energy/\"\n",
    "### Generating Combined Files\n",
    "### Generating Combined Files\n",
    "\n",
    "\n",
    "\n",
    "#all_values =np.zeros((0,96))\n",
    "#time_values =np.zeros((0,96))\n",
    "all_values =np.zeros((0,160))\n",
    "time_values =np.zeros((0,160))\n",
    "category_values = np.zeros((0,2))    # CATEGORIES = [\"e\",\"mu\"] but all will be muons in this case\n",
    "all_values_Lappd = np.zeros((0,9600))\n",
    "time_values_Lappd = np.zeros((0,9600))\n",
    "MRDHits=np.zeros((0,6))\n",
    "Rings=np.zeros((0,))\n",
    "RingsTrueFalse=[]"
   ]
  },
  {
   "cell_type": "code",
   "execution_count": 2,
   "metadata": {},
   "outputs": [
    {
     "name": "stdout",
     "output_type": "stream",
     "text": [
      "99\n",
      "475\n"
     ]
    }
   ],
   "source": [
    "numberFilese=99\n",
    "#int(len(os.listdir(DATADIRe))/7)\n",
    "print(numberFilese)\n",
    "numberFilesmu=475\n",
    "#int(len(os.listdir(DATADIRmu))/7)\n",
    "print(numberFilesmu)"
   ]
  },
  {
   "cell_type": "code",
   "execution_count": 3,
   "metadata": {},
   "outputs": [],
   "source": [
    "\n",
    "DATADIRe =\"C:/Users/Deep Thought/Documents/Python/CNN_Masterarbeit/DSNB/DSNB_lappd5x5_Energy/DSNB_Energy_\"\n",
    "DATADIRmu =\"C:/Users/Deep Thought/Documents/Python/CNN_Masterarbeit/DSNB/Atmo_lappd5x5_Energy/Atmo_Energy_\""
   ]
  },
  {
   "cell_type": "code",
   "execution_count": 4,
   "metadata": {},
   "outputs": [],
   "source": [
    "setlen=96000"
   ]
  },
  {
   "cell_type": "markdown",
   "metadata": {},
   "source": [
    "# Electron"
   ]
  },
  {
   "cell_type": "markdown",
   "metadata": {},
   "source": [
    "## Number"
   ]
  },
  {
   "cell_type": "code",
   "execution_count": 8,
   "metadata": {},
   "outputs": [
    {
     "data": {
      "application/vnd.jupyter.widget-view+json": {
       "model_id": "051c503fd54e4258a15123117b36bfe0",
       "version_major": 2,
       "version_minor": 0
      },
      "text/plain": [
       "HBox(children=(IntProgress(value=0, max=99), HTML(value='')))"
      ]
     },
     "metadata": {},
     "output_type": "display_data"
    },
    {
     "name": "stdout",
     "output_type": "stream",
     "text": [
      "\n",
      "95214\n"
     ]
    },
    {
     "data": {
      "application/vnd.jupyter.widget-view+json": {
       "model_id": "07287c7902ed4cfc8b34b6f0a628a0d0",
       "version_major": 2,
       "version_minor": 0
      },
      "text/plain": [
       "HBox(children=(IntProgress(value=0, max=475), HTML(value='')))"
      ]
     },
     "metadata": {},
     "output_type": "display_data"
    },
    {
     "name": "stdout",
     "output_type": "stream",
     "text": [
      "\n",
      "90778\n",
      "(185992, 2)\n"
     ]
    }
   ],
   "source": [
    "\n",
    "\n",
    "all_values=np.zeros((0,2))\n",
    "\n",
    "for i in tqdm(range(99)):\n",
    "    try: \n",
    "        training_data_list = np.loadtxt(DATADIRe+str(i)+\"_EnergyElectron.csv\",delimiter=',',usecols=(0,1))\n",
    "        #print(training_data_list.shape,all_values.shape)\n",
    "\n",
    "        all_values = np.concatenate([all_values,training_data_list],axis=0)\n",
    "    except OSError:\n",
    "        print(\"File {} not found\".format(i))\n",
    "        continue\n",
    "    if len(all_values)>setlen:\n",
    "        break\n",
    "n=len(all_values)\n",
    "print(len(all_values))\n",
    "for i in tqdm(range(475)):\n",
    "    try:\n",
    "        training_data_list = np.loadtxt(DATADIRmu+str(i)+\"_EnergyElectron.csv\",delimiter=',',usecols=(0,1))\n",
    "        #print(training_data_list.shape,all_values.shape)\n",
    "        all_values = np.concatenate([all_values,training_data_list],axis=0)\n",
    "    except OSError:\n",
    "        print(\"File {} not found\".format(i))\n",
    "        continue\n",
    "    if len(all_values)>setlen*2:\n",
    "        break\n",
    "print(len(all_values)-n)\n",
    "all_values=np.array(all_values)   \n",
    "np.save('DSNB/Temp/Final/NumberElectron', all_values)\n",
    "print(all_values.shape)\n"
   ]
  },
  {
   "cell_type": "code",
   "execution_count": 25,
   "metadata": {},
   "outputs": [
    {
     "data": {
      "text/plain": [
       "192247"
      ]
     },
     "execution_count": 25,
     "metadata": {},
     "output_type": "execute_result"
    }
   ],
   "source": []
  },
  {
   "cell_type": "markdown",
   "metadata": {},
   "source": [
    "## Energy"
   ]
  },
  {
   "cell_type": "code",
   "execution_count": 9,
   "metadata": {},
   "outputs": [
    {
     "data": {
      "application/vnd.jupyter.widget-view+json": {
       "model_id": "162a1c18d9e2422cbe9f841ab2d528c8",
       "version_major": 2,
       "version_minor": 0
      },
      "text/plain": [
       "HBox(children=(IntProgress(value=0, max=99), HTML(value='')))"
      ]
     },
     "metadata": {},
     "output_type": "display_data"
    },
    {
     "name": "stdout",
     "output_type": "stream",
     "text": [
      "\n"
     ]
    },
    {
     "data": {
      "application/vnd.jupyter.widget-view+json": {
       "model_id": "d1a7c84bc8a14b908a2c6c3814293d66",
       "version_major": 2,
       "version_minor": 0
      },
      "text/plain": [
       "HBox(children=(IntProgress(value=0, max=475), HTML(value='')))"
      ]
     },
     "metadata": {},
     "output_type": "display_data"
    },
    {
     "name": "stdout",
     "output_type": "stream",
     "text": [
      "\n",
      "(185992,)\n"
     ]
    }
   ],
   "source": [
    "all_values = []\n",
    "\n",
    "for i in tqdm(range(numberFilese)):\n",
    "    try: \n",
    "        training_data_file = open(DATADIRe+str(i)+\"_EnergyElectron.csv\",'r')\n",
    "        training_data_list = training_data_file.readlines()\n",
    "        training_data_file.close()\n",
    "\n",
    "        \n",
    "\n",
    "        for zeile in training_data_list:\n",
    "\n",
    "            zeile = zeile.replace(\",\\n\", \"\")\n",
    "            #zeile = zeile.replace(\"\\n\", \"\")\n",
    "            zeile = zeile.split(',')\n",
    "            #print(len(zeile))\n",
    "            if len(zeile) <=2:\n",
    "                all_values.append(0)\n",
    "            if len(zeile)>2:\n",
    "                all_values.append(zeile[2:])\n",
    "    except OSError:\n",
    "        print(\"File {} not found\".format(i))\n",
    "        continue\n",
    "\n",
    "\n",
    "for i in tqdm(range(numberFilesmu)):\n",
    "    try: \n",
    "        training_data_file = open(DATADIRmu+str(i)+\"_EnergyElectron.csv\",'r')\n",
    "        training_data_list = training_data_file.readlines()\n",
    "        training_data_file.close()\n",
    "\n",
    "        \n",
    "\n",
    "        for zeile in training_data_list:\n",
    "\n",
    "            zeile = zeile.replace(\",\\n\", \"\")\n",
    "            #zeile = zeile.replace(\"\\n\", \"\")\n",
    "            zeile = zeile.split(',')\n",
    "            #print(len(zeile))\n",
    "            if len(zeile) <=2:\n",
    "                all_values.append(0)\n",
    "            if len(zeile)>2:\n",
    "                all_values.append(zeile[2:])\n",
    "    except OSError:\n",
    "        print(\"File {} not found\".format(i))\n",
    "        continue\n",
    "\n",
    "        \n",
    "all_values=np.array(all_values)   \n",
    "np.save('DSNB/Temp/Final/EnergyElectron', all_values)\n",
    "print(all_values.shape)\n",
    "\n",
    "\n",
    "\n"
   ]
  },
  {
   "cell_type": "markdown",
   "metadata": {},
   "source": [
    "## Muon"
   ]
  },
  {
   "cell_type": "markdown",
   "metadata": {},
   "source": [
    "## Number"
   ]
  },
  {
   "cell_type": "code",
   "execution_count": 10,
   "metadata": {},
   "outputs": [
    {
     "data": {
      "application/vnd.jupyter.widget-view+json": {
       "model_id": "9db8cc217e5149ed834cef502e76a068",
       "version_major": 2,
       "version_minor": 0
      },
      "text/plain": [
       "HBox(children=(IntProgress(value=0, max=99), HTML(value='')))"
      ]
     },
     "metadata": {},
     "output_type": "display_data"
    },
    {
     "name": "stdout",
     "output_type": "stream",
     "text": [
      "\n"
     ]
    },
    {
     "data": {
      "application/vnd.jupyter.widget-view+json": {
       "model_id": "b809138c0c344b9786219fd60d105593",
       "version_major": 2,
       "version_minor": 0
      },
      "text/plain": [
       "HBox(children=(IntProgress(value=0, max=475), HTML(value='')))"
      ]
     },
     "metadata": {},
     "output_type": "display_data"
    },
    {
     "name": "stdout",
     "output_type": "stream",
     "text": [
      "\n",
      "(185992, 2)\n"
     ]
    }
   ],
   "source": [
    "\n",
    "\n",
    "all_values=np.zeros((0,2))\n",
    "\n",
    "for i in tqdm(range(numberFilese)):\n",
    "    try: \n",
    "        training_data_list = np.loadtxt(DATADIRe+str(i)+\"_EnergyMuon.csv\",delimiter=',',usecols=(0,1))\n",
    "        #print(training_data_list.shape,all_values.shape)\n",
    "\n",
    "        all_values = np.concatenate([all_values,training_data_list],axis=0)\n",
    "    except OSError:\n",
    "        print(\"File {} not found\".format(i))\n",
    "        continue\n",
    "\n",
    "for i in tqdm(range(numberFilesmu)):\n",
    "    try:\n",
    "        training_data_list = np.loadtxt(DATADIRmu+str(i)+\"_EnergyMuon.csv\",delimiter=',',usecols=(0,1))\n",
    "        #print(training_data_list.shape,all_values.shape)\n",
    "        all_values = np.concatenate([all_values,training_data_list],axis=0)\n",
    "    except OSError:\n",
    "        print(\"File {} not found\".format(i))\n",
    "        continue\n",
    "    \n",
    "all_values=np.array(all_values)   \n",
    "np.save('DSNB/Temp/Final/NumberMuon', all_values)\n",
    "print(all_values.shape)\n"
   ]
  },
  {
   "cell_type": "markdown",
   "metadata": {},
   "source": [
    "## Energy"
   ]
  },
  {
   "cell_type": "code",
   "execution_count": 11,
   "metadata": {},
   "outputs": [
    {
     "data": {
      "application/vnd.jupyter.widget-view+json": {
       "model_id": "da4552b6dfcd45c78f42d811a2a55bd4",
       "version_major": 2,
       "version_minor": 0
      },
      "text/plain": [
       "HBox(children=(IntProgress(value=0, max=99), HTML(value='')))"
      ]
     },
     "metadata": {},
     "output_type": "display_data"
    },
    {
     "name": "stdout",
     "output_type": "stream",
     "text": [
      "\n"
     ]
    },
    {
     "data": {
      "application/vnd.jupyter.widget-view+json": {
       "model_id": "fba4917cf463486fb6b51f457562dc44",
       "version_major": 2,
       "version_minor": 0
      },
      "text/plain": [
       "HBox(children=(IntProgress(value=0, max=475), HTML(value='')))"
      ]
     },
     "metadata": {},
     "output_type": "display_data"
    },
    {
     "name": "stdout",
     "output_type": "stream",
     "text": [
      "\n",
      "(185992,)\n"
     ]
    }
   ],
   "source": [
    "all_values = []\n",
    "\n",
    "for i in tqdm(range(numberFilese)):\n",
    "    try: \n",
    "        training_data_file = open(DATADIRe+str(i)+\"_EnergyMuon.csv\",'r')\n",
    "        training_data_list = training_data_file.readlines()\n",
    "        training_data_file.close()\n",
    "\n",
    "        \n",
    "\n",
    "        for zeile in training_data_list:\n",
    "\n",
    "            zeile = zeile.replace(\",\\n\", \"\")\n",
    "            #zeile = zeile.replace(\"\\n\", \"\")\n",
    "            zeile = zeile.split(',')\n",
    "            #print(len(zeile))\n",
    "            if len(zeile) <=2:\n",
    "                all_values.append(0)\n",
    "            if len(zeile)>2:\n",
    "                all_values.append(zeile[2:])\n",
    "    except OSError:\n",
    "        print(\"File {} not found\".format(i))\n",
    "        continue\n",
    "\n",
    "for i in tqdm(range(numberFilesmu)):\n",
    "    try: \n",
    "        training_data_file = open(DATADIRmu+str(i)+\"_EnergyMuon.csv\",'r')\n",
    "        training_data_list = training_data_file.readlines()\n",
    "        training_data_file.close()\n",
    "\n",
    "        \n",
    "\n",
    "        for zeile in training_data_list:\n",
    "\n",
    "            zeile = zeile.replace(\",\\n\", \"\")\n",
    "            #zeile = zeile.replace(\"\\n\", \"\")\n",
    "            zeile = zeile.split(',')\n",
    "            #print(len(zeile))\n",
    "            if len(zeile) <=2:\n",
    "                all_values.append(0)\n",
    "            if len(zeile)>2:\n",
    "                all_values.append(zeile[2:])\n",
    "    except OSError:\n",
    "        print(\"File {} not found\".format(i))\n",
    "        continue\n",
    "\n",
    "        \n",
    "all_values=np.array(all_values)   \n",
    "np.save('DSNB/Temp/Final/EnergyMuon', all_values)\n",
    "print(all_values.shape)\n",
    "\n",
    "\n",
    "\n"
   ]
  },
  {
   "cell_type": "markdown",
   "metadata": {},
   "source": [
    "## Pion"
   ]
  },
  {
   "cell_type": "markdown",
   "metadata": {},
   "source": [
    "## Number"
   ]
  },
  {
   "cell_type": "code",
   "execution_count": 29,
   "metadata": {},
   "outputs": [
    {
     "data": {
      "text/plain": [
       "400"
      ]
     },
     "execution_count": 29,
     "metadata": {},
     "output_type": "execute_result"
    }
   ],
   "source": [
    "numberFilesmu"
   ]
  },
  {
   "cell_type": "code",
   "execution_count": 12,
   "metadata": {},
   "outputs": [
    {
     "data": {
      "application/vnd.jupyter.widget-view+json": {
       "model_id": "eb52623ed30d43a5a1c6cf165c81e650",
       "version_major": 2,
       "version_minor": 0
      },
      "text/plain": [
       "HBox(children=(IntProgress(value=0, max=99), HTML(value='')))"
      ]
     },
     "metadata": {},
     "output_type": "display_data"
    },
    {
     "name": "stdout",
     "output_type": "stream",
     "text": [
      "\n"
     ]
    },
    {
     "data": {
      "application/vnd.jupyter.widget-view+json": {
       "model_id": "d6594b8c162e41a7b879476e4c6488e9",
       "version_major": 2,
       "version_minor": 0
      },
      "text/plain": [
       "HBox(children=(IntProgress(value=0, max=475), HTML(value='')))"
      ]
     },
     "metadata": {},
     "output_type": "display_data"
    },
    {
     "name": "stdout",
     "output_type": "stream",
     "text": [
      "\n",
      "(185992, 2)\n"
     ]
    }
   ],
   "source": [
    "\n",
    "\n",
    "all_values=np.zeros((0,2))\n",
    "\n",
    "for i in tqdm(range(numberFilese)):\n",
    "    try: \n",
    "        training_data_list = np.loadtxt(DATADIRe+str(i)+\"_EnergyPion.csv\",delimiter=',',usecols=(0,1))\n",
    "        #print(training_data_list.shape,all_values.shape)\n",
    "\n",
    "        all_values = np.concatenate([all_values,training_data_list],axis=0)\n",
    "    except OSError:\n",
    "        print(\"File {} not found\".format(i))\n",
    "        continue \n",
    "\n",
    "    \n",
    "for i in tqdm(range(numberFilesmu)):\n",
    "    try: \n",
    "        training_data_list = np.loadtxt(DATADIRmu+str(i)+\"_EnergyPion.csv\",delimiter=',',usecols=(0,1))\n",
    "        #print(training_data_list.shape,all_values.shape)\n",
    "\n",
    "        all_values = np.concatenate([all_values,training_data_list],axis=0)\n",
    "    except OSError:\n",
    "        print(\"File {} not found\".format(i))\n",
    "        continue \n",
    "\n",
    "all_values=np.array(all_values)   \n",
    "np.save('DSNB/Temp/Final/NumberPion', all_values)\n",
    "print(all_values.shape)\n"
   ]
  },
  {
   "cell_type": "markdown",
   "metadata": {},
   "source": [
    "## Energy"
   ]
  },
  {
   "cell_type": "code",
   "execution_count": 13,
   "metadata": {},
   "outputs": [
    {
     "data": {
      "application/vnd.jupyter.widget-view+json": {
       "model_id": "a748d2b0171c49f5bf083d535e2566eb",
       "version_major": 2,
       "version_minor": 0
      },
      "text/plain": [
       "HBox(children=(IntProgress(value=0, max=99), HTML(value='')))"
      ]
     },
     "metadata": {},
     "output_type": "display_data"
    },
    {
     "name": "stdout",
     "output_type": "stream",
     "text": [
      "\n"
     ]
    },
    {
     "data": {
      "application/vnd.jupyter.widget-view+json": {
       "model_id": "653b62b316c042b9aab6407c6fad39d9",
       "version_major": 2,
       "version_minor": 0
      },
      "text/plain": [
       "HBox(children=(IntProgress(value=0, max=475), HTML(value='')))"
      ]
     },
     "metadata": {},
     "output_type": "display_data"
    },
    {
     "name": "stdout",
     "output_type": "stream",
     "text": [
      "\n",
      "(185992,)\n"
     ]
    }
   ],
   "source": [
    "all_values = []\n",
    "\n",
    "for i in tqdm(range(numberFilese)):\n",
    "    try: \n",
    "        training_data_file = open(DATADIRe+str(i)+\"_EnergyPion.csv\",'r')\n",
    "        training_data_list = training_data_file.readlines()\n",
    "        training_data_file.close()\n",
    "\n",
    "        \n",
    "\n",
    "        for zeile in training_data_list:\n",
    "\n",
    "            zeile = zeile.replace(\",\\n\", \"\")\n",
    "            #zeile = zeile.replace(\"\\n\", \"\")\n",
    "            zeile = zeile.split(',')\n",
    "            #print(len(zeile))\n",
    "            if len(zeile) <=2:\n",
    "                all_values.append(0)\n",
    "            if len(zeile)>2:\n",
    "                all_values.append(zeile[2:])\n",
    "    except OSError:\n",
    "        print(\"File {} not found\".format(i))\n",
    "        continue\n",
    "\n",
    "        \n",
    "for i in tqdm(range(numberFilesmu)):\n",
    "    try: \n",
    "        training_data_file = open(DATADIRmu+str(i)+\"_EnergyPion.csv\",'r')\n",
    "        training_data_list = training_data_file.readlines()\n",
    "        training_data_file.close()\n",
    "\n",
    "        \n",
    "\n",
    "        for zeile in training_data_list:\n",
    "\n",
    "            zeile = zeile.replace(\",\\n\", \"\")\n",
    "            #zeile = zeile.replace(\"\\n\", \"\")\n",
    "            zeile = zeile.split(',')\n",
    "            #print(len(zeile))\n",
    "            if len(zeile) <=2:\n",
    "                all_values.append(0)\n",
    "            if len(zeile)>2:\n",
    "                all_values.append(zeile[2:])\n",
    "    except OSError:\n",
    "        print(\"File {} not found\".format(i))\n",
    "        continue\n",
    "\n",
    "        \n",
    "all_values=np.array(all_values)   \n",
    "np.save('DSNB/Temp/Final/EnergyPion', all_values)\n",
    "print(all_values.shape)\n",
    "\n",
    "\n",
    "\n"
   ]
  },
  {
   "cell_type": "markdown",
   "metadata": {},
   "source": [
    "## Kaon"
   ]
  },
  {
   "cell_type": "markdown",
   "metadata": {},
   "source": [
    "## Number"
   ]
  },
  {
   "cell_type": "code",
   "execution_count": 41,
   "metadata": {},
   "outputs": [
    {
     "ename": "NameError",
     "evalue": "name 'numberFiles' is not defined",
     "output_type": "error",
     "traceback": [
      "\u001b[1;31m---------------------------------------------------------------------------\u001b[0m",
      "\u001b[1;31mNameError\u001b[0m                                 Traceback (most recent call last)",
      "\u001b[1;32m<ipython-input-41-c4a370a6d0c0>\u001b[0m in \u001b[0;36m<module>\u001b[1;34m\u001b[0m\n\u001b[0;32m      3\u001b[0m \u001b[0mall_values\u001b[0m\u001b[1;33m=\u001b[0m\u001b[0mnp\u001b[0m\u001b[1;33m.\u001b[0m\u001b[0mzeros\u001b[0m\u001b[1;33m(\u001b[0m\u001b[1;33m(\u001b[0m\u001b[1;36m0\u001b[0m\u001b[1;33m,\u001b[0m\u001b[1;36m2\u001b[0m\u001b[1;33m)\u001b[0m\u001b[1;33m)\u001b[0m\u001b[1;33m\u001b[0m\u001b[1;33m\u001b[0m\u001b[0m\n\u001b[0;32m      4\u001b[0m \u001b[1;33m\u001b[0m\u001b[0m\n\u001b[1;32m----> 5\u001b[1;33m \u001b[1;32mfor\u001b[0m \u001b[0mi\u001b[0m \u001b[1;32min\u001b[0m \u001b[0mtqdm\u001b[0m\u001b[1;33m(\u001b[0m\u001b[0mrange\u001b[0m\u001b[1;33m(\u001b[0m\u001b[0mnumberFiles\u001b[0m\u001b[1;33m)\u001b[0m\u001b[1;33m)\u001b[0m\u001b[1;33m:\u001b[0m\u001b[1;33m\u001b[0m\u001b[1;33m\u001b[0m\u001b[0m\n\u001b[0m\u001b[0;32m      6\u001b[0m     \u001b[1;32mtry\u001b[0m\u001b[1;33m:\u001b[0m\u001b[1;33m\u001b[0m\u001b[1;33m\u001b[0m\u001b[0m\n\u001b[0;32m      7\u001b[0m         \u001b[0mtraining_data_list\u001b[0m \u001b[1;33m=\u001b[0m \u001b[0mnp\u001b[0m\u001b[1;33m.\u001b[0m\u001b[0mloadtxt\u001b[0m\u001b[1;33m(\u001b[0m\u001b[0mDATADIR\u001b[0m\u001b[1;33m+\u001b[0m\u001b[0mstr\u001b[0m\u001b[1;33m(\u001b[0m\u001b[0mi\u001b[0m\u001b[1;33m)\u001b[0m\u001b[1;33m+\u001b[0m\u001b[1;34m\"_EnergyKaon.csv\"\u001b[0m\u001b[1;33m,\u001b[0m\u001b[0mdelimiter\u001b[0m\u001b[1;33m=\u001b[0m\u001b[1;34m','\u001b[0m\u001b[1;33m,\u001b[0m\u001b[0musecols\u001b[0m\u001b[1;33m=\u001b[0m\u001b[1;33m(\u001b[0m\u001b[1;36m0\u001b[0m\u001b[1;33m,\u001b[0m\u001b[1;36m1\u001b[0m\u001b[1;33m)\u001b[0m\u001b[1;33m)\u001b[0m\u001b[1;33m\u001b[0m\u001b[1;33m\u001b[0m\u001b[0m\n",
      "\u001b[1;31mNameError\u001b[0m: name 'numberFiles' is not defined"
     ]
    }
   ],
   "source": [
    "\n",
    "\n",
    "all_values=np.zeros((0,2))\n",
    "\n",
    "for i in tqdm(range(numberFiles)):\n",
    "    try: \n",
    "        training_data_list = np.loadtxt(DATADIR+str(i)+\"_EnergyKaon.csv\",delimiter=',',usecols=(0,1))\n",
    "        #print(training_data_list.shape,all_values.shape)\n",
    "\n",
    "        all_values = np.concatenate([all_values,training_data_list],axis=0)\n",
    "    except OSError:\n",
    "        print(\"File {} not found\".format(i))\n",
    "        continue    \n",
    "all_values=np.array(all_values)   \n",
    "np.save('BeamRingCounting/Temp/Final/NumberKaon', all_values)\n",
    "print(all_values.shape)\n"
   ]
  },
  {
   "cell_type": "markdown",
   "metadata": {},
   "source": [
    "## Energy"
   ]
  },
  {
   "cell_type": "code",
   "execution_count": 21,
   "metadata": {},
   "outputs": [
    {
     "data": {
      "application/vnd.jupyter.widget-view+json": {
       "model_id": "90c40f5615e24511b47d73f6d54d75c1",
       "version_major": 2,
       "version_minor": 0
      },
      "text/plain": [
       "HBox(children=(IntProgress(value=0, max=4997), HTML(value='')))"
      ]
     },
     "metadata": {},
     "output_type": "display_data"
    },
    {
     "name": "stdout",
     "output_type": "stream",
     "text": [
      "\n",
      "(110441,)\n"
     ]
    }
   ],
   "source": [
    "\n",
    "\n",
    "all_values = []\n",
    "\n",
    "for i in tqdm(range(numberFiles)):\n",
    "    try: \n",
    "        training_data_file = open(DATADIR+str(i)+\"_EnergyKaon.csv\",'r')\n",
    "        training_data_list = training_data_file.readlines()\n",
    "        training_data_file.close()\n",
    "\n",
    "        \n",
    "\n",
    "        for zeile in training_data_list:\n",
    "\n",
    "            zeile = zeile.replace(\",\\n\", \"\")\n",
    "            #zeile = zeile.replace(\"\\n\", \"\")\n",
    "            zeile = zeile.split(',')\n",
    "            #print(len(zeile))\n",
    "            if len(zeile) <=2:\n",
    "                all_values.append(0)\n",
    "            if len(zeile)>2:\n",
    "                all_values.append(zeile[2:])\n",
    "    except OSError:\n",
    "        print(\"File {} not found\".format(i))\n",
    "        continue\n",
    "        \n",
    "all_values=np.array(all_values)   \n",
    "np.save('BeamRingCounting/Temp/Final/EnergyKaon', all_values)\n",
    "print(all_values.shape)\n",
    "\n",
    "\n",
    "\n"
   ]
  },
  {
   "cell_type": "markdown",
   "metadata": {},
   "source": [
    "## Parent Energy"
   ]
  },
  {
   "cell_type": "code",
   "execution_count": null,
   "metadata": {},
   "outputs": [],
   "source": [
    " "
   ]
  },
  {
   "cell_type": "code",
   "execution_count": 14,
   "metadata": {},
   "outputs": [
    {
     "data": {
      "application/vnd.jupyter.widget-view+json": {
       "model_id": "48d37e9a695042d0b48e5df4171bf38d",
       "version_major": 2,
       "version_minor": 0
      },
      "text/plain": [
       "HBox(children=(IntProgress(value=0, max=99), HTML(value='')))"
      ]
     },
     "metadata": {},
     "output_type": "display_data"
    },
    {
     "name": "stdout",
     "output_type": "stream",
     "text": [
      "\n"
     ]
    },
    {
     "data": {
      "application/vnd.jupyter.widget-view+json": {
       "model_id": "974c57526ad64466afa86e7f728adba0",
       "version_major": 2,
       "version_minor": 0
      },
      "text/plain": [
       "HBox(children=(IntProgress(value=0, max=475), HTML(value='')))"
      ]
     },
     "metadata": {},
     "output_type": "display_data"
    },
    {
     "name": "stdout",
     "output_type": "stream",
     "text": [
      "\n",
      "(185992,)\n"
     ]
    }
   ],
   "source": [
    "\n",
    "\n",
    "all_values=np.zeros((0))\n",
    "\n",
    "for i in tqdm(range(numberFilese)):\n",
    "    try: \n",
    "        training_data_list = np.loadtxt(DATADIRe+str(i)+\"_EnergyNeutrino.csv\",delimiter=',',usecols=(0))\n",
    "        #print(training_data_list.shape,all_values.shape)\n",
    "\n",
    "        all_values = np.concatenate([all_values,training_data_list],axis=0)\n",
    "    except OSError:\n",
    "        print(\"File {} not found\".format(i))\n",
    "        continue    \n",
    "\n",
    "for i in tqdm(range(numberFilesmu)):\n",
    "    try:\n",
    "        #print(i)\n",
    "        training_data_list = np.loadtxt(DATADIRmu+str(i)+\"_EnergyNeutrino.csv\",delimiter=',',usecols=(0))\n",
    "        #print(training_data_list.shape,all_values.shape)\n",
    "\n",
    "        all_values = np.concatenate([all_values,training_data_list],axis=0)\n",
    "    except OSError:\n",
    "        print(\"File {} not found\".format(i))\n",
    "        continue \n",
    "\n",
    "all_values=np.array(all_values)   \n",
    "np.save('DSNB/Temp/Final/EnergyMother', all_values)\n",
    "print(all_values.shape)\n"
   ]
  },
  {
   "cell_type": "markdown",
   "metadata": {},
   "source": [
    "## Neutron counting"
   ]
  },
  {
   "cell_type": "code",
   "execution_count": 15,
   "metadata": {},
   "outputs": [
    {
     "data": {
      "application/vnd.jupyter.widget-view+json": {
       "model_id": "c3574cb9838d431287ac88bfb3f9126b",
       "version_major": 2,
       "version_minor": 0
      },
      "text/plain": [
       "HBox(children=(IntProgress(value=0, max=99), HTML(value='')))"
      ]
     },
     "metadata": {},
     "output_type": "display_data"
    },
    {
     "name": "stdout",
     "output_type": "stream",
     "text": [
      "\n"
     ]
    },
    {
     "data": {
      "application/vnd.jupyter.widget-view+json": {
       "model_id": "b2a140ec5a594c6197490ce0b6cd1c57",
       "version_major": 2,
       "version_minor": 0
      },
      "text/plain": [
       "HBox(children=(IntProgress(value=0, max=475), HTML(value='')))"
      ]
     },
     "metadata": {},
     "output_type": "display_data"
    },
    {
     "name": "stdout",
     "output_type": "stream",
     "text": [
      "\n",
      "(185992,)\n"
     ]
    }
   ],
   "source": [
    "\n",
    "all_values=np.zeros((0))\n",
    "\n",
    "for i in tqdm(range(numberFilese)):\n",
    "    try: \n",
    "        training_data_list = np.loadtxt(DATADIRe+str(i)+\"_NeutronNumber.csv\",delimiter=',',usecols=(0))\n",
    "        #print(training_data_list.shape,all_values.shape)\n",
    "\n",
    "        all_values = np.concatenate([all_values,training_data_list],axis=0)\n",
    "    except OSError:\n",
    "        print(\"File {} not found\".format(i))\n",
    "        continue\n",
    "    if len(all_values)>setlen:\n",
    "        break\n",
    "for i in tqdm(range(numberFilesmu)):\n",
    "    try: \n",
    "        training_data_list = np.loadtxt(DATADIRmu+str(i)+\"_NeutronNumber.csv\",delimiter=',',usecols=(0))\n",
    "        #print(training_data_list.shape,all_values.shape)\n",
    "\n",
    "        all_values = np.concatenate([all_values,training_data_list],axis=0)\n",
    "    except OSError:\n",
    "        print(\"File {} not found\".format(i))\n",
    "        continue \n",
    "    if len(all_values)>setlen*2:\n",
    "        break\n",
    "all_values=np.array(all_values)   \n",
    "np.save('DSNB/Temp/Final/NN', all_values)\n",
    "print(all_values.shape)\n"
   ]
  },
  {
   "cell_type": "markdown",
   "metadata": {},
   "source": [
    "# Visible Energy"
   ]
  },
  {
   "cell_type": "code",
   "execution_count": 16,
   "metadata": {},
   "outputs": [
    {
     "data": {
      "application/vnd.jupyter.widget-view+json": {
       "model_id": "5ab22e3d9acd4bfc8e98f4aea06e9ce5",
       "version_major": 2,
       "version_minor": 0
      },
      "text/plain": [
       "HBox(children=(IntProgress(value=0, max=99), HTML(value='')))"
      ]
     },
     "metadata": {},
     "output_type": "display_data"
    },
    {
     "name": "stdout",
     "output_type": "stream",
     "text": [
      "\n"
     ]
    },
    {
     "data": {
      "application/vnd.jupyter.widget-view+json": {
       "model_id": "2298297a625a4bc7a7959628983bd496",
       "version_major": 2,
       "version_minor": 0
      },
      "text/plain": [
       "HBox(children=(IntProgress(value=0, max=475), HTML(value='')))"
      ]
     },
     "metadata": {},
     "output_type": "display_data"
    },
    {
     "name": "stdout",
     "output_type": "stream",
     "text": [
      "\n",
      "(185992, 2)\n"
     ]
    }
   ],
   "source": [
    "all_values=np.zeros((0,2))\n",
    "\n",
    "for i in tqdm(range(numberFilese)):\n",
    "    try: \n",
    "        training_data_list = np.loadtxt(DATADIRe+str(i)+\"_VisibleEnergy.csv\",delimiter=',',usecols=(0,1))\n",
    "        #print(training_data_list.shape,all_values.shape)\n",
    "\n",
    "        all_values = np.concatenate([all_values,training_data_list],axis=0)\n",
    "    except OSError:\n",
    "        print(\"File {} not found\".format(i))\n",
    "        continue    \n",
    "\n",
    "for i in tqdm(range(numberFilesmu)):\n",
    "    try:\n",
    "        \n",
    "        training_data_list = np.loadtxt(DATADIRmu+str(i)+\"_VisibleEnergy.csv\",delimiter=',',usecols=(0,1))\n",
    "        #print(training_data_list.shape,all_values.shape)\n",
    "\n",
    "        all_values = np.concatenate([all_values,training_data_list],axis=0)\n",
    "    except OSError:\n",
    "        print(\"File {} not found\".format(i))\n",
    "        continue \n",
    "\n",
    "all_values=np.array(all_values)   \n",
    "np.save('DSNB/Temp/Final/VisibleEnergy', all_values)\n",
    "print(all_values.shape)"
   ]
  },
  {
   "cell_type": "code",
   "execution_count": null,
   "metadata": {},
   "outputs": [],
   "source": []
  }
 ],
 "metadata": {
  "kernelspec": {
   "display_name": "Tensorflow",
   "language": "python",
   "name": "myenv"
  },
  "language_info": {
   "codemirror_mode": {
    "name": "ipython",
    "version": 3
   },
   "file_extension": ".py",
   "mimetype": "text/x-python",
   "name": "python",
   "nbconvert_exporter": "python",
   "pygments_lexer": "ipython3",
   "version": "3.7.3"
  }
 },
 "nbformat": 4,
 "nbformat_minor": 2
}
