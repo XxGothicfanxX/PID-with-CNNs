{
 "cells": [
  {
   "cell_type": "code",
   "execution_count": 1,
   "metadata": {},
   "outputs": [],
   "source": [
    "\n",
    "import numpy as np\n",
    "import matplotlib.pyplot as plt\n",
    "import os\n",
    "import cv2\n",
    "import pandas as pd # data processing, CSV file I/O (e.g. pd.read_csv)\n",
    "import copy\n",
    "import random\n",
    "import time\n",
    "from collections import defaultdict\n",
    "from tqdm.notebook import tqdm\n",
    "import h5py\n",
    "\n",
    "### Path to Files\n",
    "DATADIR =\"C:/Users/Deep Thought/Documents/Python/CNN_Masterarbeit/DSNB/Atmospheric_CSV/csv_Atmospheric_LAPPD5x5_min3_new/\"   #All\n",
    "\n",
    "### Generating Combined Files\n",
    "\n",
    "\n",
    "\n",
    "#all_values =np.zeros((0,96))\n",
    "#time_values =np.zeros((0,96))\n",
    "all_values =np.zeros((0,160))\n",
    "time_values =np.zeros((0,160))\n",
    "category_values = np.zeros((0,2))    # CATEGORIES = [\"e\",\"mu\"] but all will be muons in this case\n",
    "all_values_Lappd = np.zeros((0,9600))\n",
    "time_values_Lappd = np.zeros((0,9600))\n",
    "MRDHits=np.zeros((0,6))\n",
    "Rings=np.zeros((0,))\n",
    "RingsTrueFalse=[]"
   ]
  },
  {
   "cell_type": "code",
   "execution_count": 2,
   "metadata": {},
   "outputs": [
    {
     "name": "stdout",
     "output_type": "stream",
     "text": [
      "475\n"
     ]
    }
   ],
   "source": [
    "numberFiles=475\n",
    "#int(len(os.listdir(DATADIR))/6)\n",
    "print(numberFiles)"
   ]
  },
  {
   "cell_type": "code",
   "execution_count": 3,
   "metadata": {},
   "outputs": [],
   "source": [
    "DATADIR =\"C:/Users/Deep Thought/Documents/Python/CNN_Masterarbeit/DSNB/Atmospheric_CSV/csv_Atmospheric_LAPPD5x5_min3_new/Atmospheric_LAPPD5x5_\" "
   ]
  },
  {
   "cell_type": "code",
   "execution_count": 4,
   "metadata": {},
   "outputs": [],
   "source": [
    "setlen=96000"
   ]
  },
  {
   "cell_type": "markdown",
   "metadata": {},
   "source": [
    "## Charge"
   ]
  },
  {
   "cell_type": "markdown",
   "metadata": {},
   "source": [
    "All Files"
   ]
  },
  {
   "cell_type": "code",
   "execution_count": 5,
   "metadata": {},
   "outputs": [
    {
     "data": {
      "application/vnd.jupyter.widget-view+json": {
       "model_id": "89b66cf8cbd74608b5ad906c4f386852",
       "version_major": 2,
       "version_minor": 0
      },
      "text/plain": [
       "HBox(children=(IntProgress(value=0, max=475), HTML(value='')))"
      ]
     },
     "metadata": {},
     "output_type": "display_data"
    },
    {
     "name": "stdout",
     "output_type": "stream",
     "text": [
      "\n",
      "(90778, 160)\n"
     ]
    }
   ],
   "source": [
    "for i in tqdm(range(numberFiles)):\n",
    "    try:\n",
    "        training_data_list = np.loadtxt(DATADIR+str(i)+\"_charge.csv\", delimiter = \",\")\n",
    "        #print(training_data_list.shape,all_values.shape)\n",
    "        all_values = np.concatenate([all_values,training_data_list],axis=0)\n",
    "    except OSError:\n",
    "        print(\"File {} not found\".format(i))\n",
    "        continue    \n",
    "    if len(all_values)>setlen:\n",
    "        break      \n",
    "np.save('DSNB/TempAtm/Final/ChargePMT', all_values)\n",
    "print(all_values.shape)\n",
    "del all_values"
   ]
  },
  {
   "cell_type": "markdown",
   "metadata": {},
   "source": [
    "## Time"
   ]
  },
  {
   "cell_type": "code",
   "execution_count": 6,
   "metadata": {},
   "outputs": [
    {
     "data": {
      "application/vnd.jupyter.widget-view+json": {
       "model_id": "d3533979a81b4a0bb8c5745487f5a9bd",
       "version_major": 2,
       "version_minor": 0
      },
      "text/plain": [
       "HBox(children=(IntProgress(value=0, max=475), HTML(value='')))"
      ]
     },
     "metadata": {},
     "output_type": "display_data"
    },
    {
     "name": "stdout",
     "output_type": "stream",
     "text": [
      "\n",
      "(90778, 160)\n"
     ]
    }
   ],
   "source": [
    "for i in tqdm(range(numberFiles)):\n",
    "    try:\n",
    "\n",
    "        training_data_listT = np.loadtxt(DATADIR+str(i)+\"_time.csv\", delimiter = \",\")\n",
    "        training_data_listC = np.loadtxt(DATADIR+str(i)+\"_charge.csv\", delimiter = \",\")\n",
    "        newlist1=[]\n",
    "        for element in range(len(training_data_listT)):\n",
    "            if sum(training_data_listC[element]) == 0:\n",
    "                newlist1.append(np.zeros((160*1)))\n",
    "                \n",
    "            else:\n",
    "                newlist=[]\n",
    "                for k in training_data_listT[element]:\n",
    "                    if k==0:\n",
    "                        newlist.append(0)\n",
    "                    else:\n",
    "                        newlist.append(1-k)\n",
    "                    \n",
    "                newlist1.append(newlist)\n",
    "        newlist1= np.array(newlist1)\n",
    "        #print(newlist1.shape,training_data_listT.shape)\n",
    "        time_values = np.concatenate([time_values,newlist1],axis=0)\n",
    "        \n",
    "    except OSError:\n",
    "        print(\"File {} not found\".format(i))\n",
    "    if len(time_values)>setlen:\n",
    "        break\n",
    "np.save('DSNB/TempAtm/Final/TimePMT', time_values)\n",
    "print(time_values.shape)\n",
    "del time_values"
   ]
  },
  {
   "cell_type": "markdown",
   "metadata": {},
   "source": [
    "All files"
   ]
  },
  {
   "cell_type": "code",
   "execution_count": 5,
   "metadata": {},
   "outputs": [
    {
     "data": {
      "application/vnd.jupyter.widget-view+json": {
       "model_id": "5d4d2ceb41bc4762a910260bf6f51c19",
       "version_major": 2,
       "version_minor": 0
      },
      "text/plain": [
       "HBox(children=(IntProgress(value=0, max=3500), HTML(value='')))"
      ]
     },
     "metadata": {},
     "output_type": "display_data"
    },
    {
     "name": "stdout",
     "output_type": "stream",
     "text": [
      "\n",
      "(671378, 160)\n"
     ]
    }
   ],
   "source": [
    "for i in tqdm(range(numberFiles)):\n",
    "    try:\n",
    "        training_data_list = np.loadtxt(DATADIR+str(i)+\"_time.csv\", delimiter = \",\")\n",
    "        time_values = np.concatenate([time_values,training_data_list],axis=0)\n",
    "        \n",
    "    except OSError:\n",
    "        print(\"File {} not found\".format(i))\n",
    "        \n",
    "np.save('DSNB/TempAtm/TimePMT', time_values)\n",
    "print(time_values.shape)\n",
    "del time_values"
   ]
  },
  {
   "cell_type": "markdown",
   "metadata": {},
   "source": [
    "## Lappd Charge"
   ]
  },
  {
   "cell_type": "markdown",
   "metadata": {},
   "source": [
    "All files"
   ]
  },
  {
   "cell_type": "code",
   "execution_count": 7,
   "metadata": {},
   "outputs": [
    {
     "data": {
      "text/plain": [
       "185992"
      ]
     },
     "execution_count": 7,
     "metadata": {},
     "output_type": "execute_result"
    }
   ],
   "source": [
    "95214+90778"
   ]
  },
  {
   "cell_type": "code",
   "execution_count": 8,
   "metadata": {},
   "outputs": [
    {
     "data": {
      "application/vnd.jupyter.widget-view+json": {
       "model_id": "13689fe5deba4db883a0dad177ade268",
       "version_major": 2,
       "version_minor": 0
      },
      "text/plain": [
       "HBox(children=(IntProgress(value=0, max=475), HTML(value='')))"
      ]
     },
     "metadata": {},
     "output_type": "display_data"
    },
    {
     "name": "stdout",
     "output_type": "stream",
     "text": [
      "\n",
      "(90778, 600)\n"
     ]
    }
   ],
   "source": [
    "all_values_Lappd = np.zeros((0,24*25)) #*25 weil 5x5=25 und 24 weil 24 LAPPDs\n",
    "\n",
    "for i in tqdm(range(numberFiles)):\n",
    "    try:\n",
    "        training_data_list = np.loadtxt(DATADIR+str(i)+\"_lappd_charge.csv\", delimiter = \",\")\n",
    "        #print(training_data_list.shape)\n",
    "        all_values_Lappd = np.concatenate([all_values_Lappd,training_data_list],axis=0)\n",
    "    except OSError:\n",
    "        print(\"File {} not found\".format(i))\n",
    "    if len(all_values_Lappd)>setlen:\n",
    "        break  \n",
    "print(all_values_Lappd.shape)\n",
    "np.save('DSNB/TempAtm/Final/ChargeLAPPD', all_values_Lappd)\n",
    "del all_values_Lappd"
   ]
  },
  {
   "cell_type": "markdown",
   "metadata": {},
   "source": [
    "## Lappd Time"
   ]
  },
  {
   "cell_type": "code",
   "execution_count": 9,
   "metadata": {},
   "outputs": [
    {
     "data": {
      "application/vnd.jupyter.widget-view+json": {
       "model_id": "618aa5eddc8a40a6aac93cddb6f41f52",
       "version_major": 2,
       "version_minor": 0
      },
      "text/plain": [
       "HBox(children=(IntProgress(value=0, max=475), HTML(value='')))"
      ]
     },
     "metadata": {},
     "output_type": "display_data"
    },
    {
     "name": "stdout",
     "output_type": "stream",
     "text": [
      "\n",
      "(90778, 600)\n"
     ]
    }
   ],
   "source": [
    "#all_values_Lappd = np.zeros((0,24*25)) #*25 weil 5x5=25 und 24 weil 24 LAPPDs\n",
    "time_values_Lappd = np.zeros((0,24*25))\n",
    "for i in tqdm(range(numberFiles)):\n",
    "    try:\n",
    "        training_data_listT = np.loadtxt(DATADIR+str(i)+\"_lappd_time.csv\", delimiter = \",\")\n",
    "        training_data_listC = np.loadtxt(DATADIR+str(i)+\"_lappd_charge.csv\", delimiter = \",\")\n",
    "        newlist1=[]\n",
    "        for element in range(len(training_data_listT)):\n",
    "            if sum(training_data_listC[element]) == 0:\n",
    "                newlist1.append(np.zeros((24*25)))\n",
    "                \n",
    "            else:\n",
    "                newlist=[]\n",
    "                for k in training_data_listT[element]:\n",
    "                    if k==0:\n",
    "                        newlist.append(0)\n",
    "                    else:\n",
    "                        newlist.append(1-k)\n",
    "                    \n",
    "                newlist1.append(newlist)\n",
    "                \n",
    "                \n",
    "        \n",
    "        #print(i,newlist1.shape,training_data_listT.shape)\n",
    "\n",
    "        time_values_Lappd = np.concatenate([time_values_Lappd,newlist1],axis=0)\n",
    "    except OSError:\n",
    "        print(\"File {} not found\".format(i))\n",
    "    if len(time_values_Lappd)>setlen:\n",
    "        break\n",
    "np.save('DSNB/TempAtm/Final/TimeLAPPD', time_values_Lappd)\n",
    "print(time_values_Lappd.shape)\n",
    "del time_values_Lappd"
   ]
  },
  {
   "cell_type": "markdown",
   "metadata": {},
   "source": [
    "All files"
   ]
  },
  {
   "cell_type": "code",
   "execution_count": 7,
   "metadata": {},
   "outputs": [
    {
     "data": {
      "application/vnd.jupyter.widget-view+json": {
       "model_id": "60c11d6d2da7495c8b04b83844348279",
       "version_major": 2,
       "version_minor": 0
      },
      "text/plain": [
       "HBox(children=(IntProgress(value=0, max=3500), HTML(value='')))"
      ]
     },
     "metadata": {},
     "output_type": "display_data"
    },
    {
     "name": "stdout",
     "output_type": "stream",
     "text": [
      "\n",
      "(671378, 600)\n"
     ]
    }
   ],
   "source": [
    "time_values_Lappd = np.zeros((0,24*25))\n",
    "for i in tqdm(range(numberFiles)):\n",
    "    try:\n",
    "        training_data_list = np.loadtxt(DATADIR+str(i)+\"_lappd_time.csv\", delimiter = \",\")\n",
    "        time_values_Lappd = np.concatenate([time_values_Lappd,training_data_list],axis=0)\n",
    "    except OSError:\n",
    "        print(\"File {} not found\".format(i))\n",
    "np.save('DSNB/TempAtm/TimeLAPPD', time_values_Lappd)\n",
    "print(time_values_Lappd.shape)\n",
    "del time_values_Lappd"
   ]
  },
  {
   "cell_type": "markdown",
   "metadata": {},
   "source": [
    "## MRD Hits"
   ]
  },
  {
   "cell_type": "code",
   "execution_count": 39,
   "metadata": {},
   "outputs": [
    {
     "data": {
      "text/plain": [
       "(27, 6)"
      ]
     },
     "execution_count": 39,
     "metadata": {},
     "output_type": "execute_result"
    }
   ],
   "source": [
    "training_data_list.shape"
   ]
  },
  {
   "cell_type": "markdown",
   "metadata": {},
   "source": [
    "All fiels"
   ]
  },
  {
   "cell_type": "code",
   "execution_count": 8,
   "metadata": {},
   "outputs": [
    {
     "data": {
      "application/vnd.jupyter.widget-view+json": {
       "model_id": "9d7b8cb9eca94af2b110b2aff8a7ed47",
       "version_major": 2,
       "version_minor": 0
      },
      "text/plain": [
       "HBox(children=(IntProgress(value=0, max=3500), HTML(value='')))"
      ]
     },
     "metadata": {},
     "output_type": "display_data"
    },
    {
     "name": "stdout",
     "output_type": "stream",
     "text": [
      "\n",
      "(671378, 6)\n"
     ]
    }
   ],
   "source": [
    "MRDHits=np.zeros((0,6))\n",
    "for i in tqdm(range(numberFiles)):\n",
    "    try:\n",
    "        training_data_list = np.loadtxt(DATADIR+str(i)+\"_MRD.csv\", delimiter = \",\")\n",
    "        MRDHits = np.concatenate([MRDHits,training_data_list],axis=0)\n",
    "    except OSError:\n",
    "        print(\"File {} not found\".format(i))\n",
    "np.save('DSNB/TempAtm/MRD', MRDHits)\n",
    "print(MRDHits.shape)\n",
    "del MRDHits"
   ]
  },
  {
   "cell_type": "markdown",
   "metadata": {},
   "source": [
    "## Ring counting"
   ]
  },
  {
   "cell_type": "markdown",
   "metadata": {},
   "source": [
    "All files"
   ]
  },
  {
   "cell_type": "code",
   "execution_count": 9,
   "metadata": {},
   "outputs": [
    {
     "data": {
      "application/vnd.jupyter.widget-view+json": {
       "model_id": "be0a4878096d45a89058f0b6385a1d9f",
       "version_major": 2,
       "version_minor": 0
      },
      "text/plain": [
       "HBox(children=(IntProgress(value=0, max=3500), HTML(value='')))"
      ]
     },
     "metadata": {},
     "output_type": "display_data"
    },
    {
     "name": "stdout",
     "output_type": "stream",
     "text": [
      "\n",
      "(671378,)\n"
     ]
    }
   ],
   "source": [
    "Rings=np.zeros((0,))\n",
    "for i in tqdm(range(numberFiles)):\n",
    "    try:\n",
    "        training_data_list = np.loadtxt(DATADIR+str(i)+\"_Rings.csv\", delimiter = \",\")\n",
    "        Rings = np.concatenate([Rings,training_data_list],axis=0)\n",
    "    except OSError:\n",
    "        print(\"File {} not found\".format(i)) \n",
    "np.save('DSNB/TempAtm/Rings', Rings)\n",
    "print(Rings.shape)\n",
    "del Rings"
   ]
  },
  {
   "cell_type": "markdown",
   "metadata": {},
   "source": [
    "## Multirings True or False"
   ]
  },
  {
   "cell_type": "markdown",
   "metadata": {},
   "source": [
    "All files"
   ]
  },
  {
   "cell_type": "code",
   "execution_count": 10,
   "metadata": {},
   "outputs": [
    {
     "data": {
      "application/vnd.jupyter.widget-view+json": {
       "model_id": "2b5d265de58d4f79be6e52f09f1401eb",
       "version_major": 2,
       "version_minor": 0
      },
      "text/plain": [
       "HBox(children=(IntProgress(value=0, max=3500), HTML(value='')))"
      ]
     },
     "metadata": {},
     "output_type": "display_data"
    },
    {
     "name": "stdout",
     "output_type": "stream",
     "text": [
      "\n"
     ]
    }
   ],
   "source": [
    "a=(0,1)\n",
    "b=(1,0)\n",
    "for i in tqdm(range(numberFiles)):\n",
    "    try:\n",
    "        training_data_list = np.loadtxt(DATADIR+str(i)+\"_Rings.csv\", delimiter = \",\")\n",
    "        for event in training_data_list:\n",
    "            if int(event)>1: ### Multi Ring (0,1)\n",
    "                RingsTrueFalse.append(a)\n",
    "            else:           ### Single Ring(1,0)           \n",
    "                RingsTrueFalse.append(b)\n",
    "    except OSError:\n",
    "        print(\"File {} not found\".format(i)) \n",
    "        \n",
    "np.save('DSNB/TempAtm/RingsTrueFalse', RingsTrueFalse)\n",
    "del RingsTrueFalse"
   ]
  },
  {
   "cell_type": "markdown",
   "metadata": {},
   "source": [
    "## DSNB or Atmospheric"
   ]
  },
  {
   "cell_type": "markdown",
   "metadata": {},
   "source": [
    "All files"
   ]
  },
  {
   "cell_type": "code",
   "execution_count": 10,
   "metadata": {},
   "outputs": [
    {
     "data": {
      "application/vnd.jupyter.widget-view+json": {
       "model_id": "d3d149e7aa9841438c4578b8c2f16322",
       "version_major": 2,
       "version_minor": 0
      },
      "text/plain": [
       "HBox(children=(IntProgress(value=0, max=475), HTML(value='')))"
      ]
     },
     "metadata": {},
     "output_type": "display_data"
    },
    {
     "name": "stdout",
     "output_type": "stream",
     "text": [
      "\n",
      "90778\n"
     ]
    }
   ],
   "source": [
    "a=(0,1)\n",
    "category_values=[]\n",
    "for i in tqdm(range(numberFiles)):\n",
    "    try:\n",
    "        training_data_list = np.loadtxt(DATADIR+str(i)+\"_charge.csv\", delimiter = \",\")\n",
    "        for event in training_data_list:\n",
    "                category_values.append(a) ###DSNB = (1,0)\n",
    "\n",
    "    except OSError:\n",
    "        print(\"File {} not found\".format(i))\n",
    "    if len(category_values)>setlen:\n",
    "        break\n",
    "np.save('DSNB/TempAtm/Final/category_values', category_values)\n",
    "print(len(category_values))\n",
    "del category_values"
   ]
  },
  {
   "cell_type": "code",
   "execution_count": null,
   "metadata": {},
   "outputs": [],
   "source": []
  }
 ],
 "metadata": {
  "kernelspec": {
   "display_name": "Tensorflow",
   "language": "python",
   "name": "myenv"
  },
  "language_info": {
   "codemirror_mode": {
    "name": "ipython",
    "version": 3
   },
   "file_extension": ".py",
   "mimetype": "text/x-python",
   "name": "python",
   "nbconvert_exporter": "python",
   "pygments_lexer": "ipython3",
   "version": "3.7.3"
  }
 },
 "nbformat": 4,
 "nbformat_minor": 2
}
