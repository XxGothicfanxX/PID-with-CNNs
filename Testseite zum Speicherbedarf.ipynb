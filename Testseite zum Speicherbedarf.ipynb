{
 "cells": [
  {
   "cell_type": "code",
   "execution_count": 12,
   "metadata": {},
   "outputs": [
    {
     "name": "stdout",
     "output_type": "stream",
     "text": [
      "23173920\n"
     ]
    }
   ],
   "source": [
    "\n",
    "# Python code to generate \n",
    "# random numbers and \n",
    "# append them to a list \n",
    "import random \n",
    "import numpy as np  \n",
    "# Function to generate \n",
    "# and append them  \n",
    "# start = starting range, \n",
    "# end = ending range \n",
    "# num = number of  \n",
    "# elements needs to be appended \n",
    "\n",
    "def Rand(start, end, num): \n",
    "    res = [] \n",
    "  \n",
    "    for j in range(num): \n",
    "        res.append(random.randint(start, end)) \n",
    "  \n",
    "    return res \n",
    "  \n",
    "# Driver Code \n",
    "num = 220*105336\n",
    "start = 20\n",
    "end = 40\n",
    "array=Rand(start, end, num) \n",
    "print(len(array))\n",
    "#print(\"%d bytes\" % (array.size * array.itemsize))"
   ]
  },
  {
   "cell_type": "code",
   "execution_count": 13,
   "metadata": {},
   "outputs": [
    {
     "name": "stdout",
     "output_type": "stream",
     "text": [
      "88.401489 Megabytes\n"
     ]
    }
   ],
   "source": [
    "array= np.array(array)\n",
    "array.reshape(-1,209,504)\n",
    "print(\"%f Megabytes\" % (array.size * array.itemsize /1024**2))"
   ]
  },
  {
   "cell_type": "markdown",
   "metadata": {},
   "source": [
    "Also für 22 000 tausend array brauche ich ca 8 Gb Arbeitspeicher\n"
   ]
  },
  {
   "cell_type": "code",
   "execution_count": 14,
   "metadata": {},
   "outputs": [],
   "source": [
    "import numpy as np\n",
    "import matplotlib.pyplot as plt\n",
    "import os\n",
    "import cv2\n",
    "import pandas as pd # data processing, CSV file I/O (e.g. pd.read_csv)\n",
    "import copy\n",
    "import random"
   ]
  },
  {
   "cell_type": "code",
   "execution_count": 48,
   "metadata": {},
   "outputs": [],
   "source": [
    "Mappath = \"C:/Users/Deep Thought/Documents/Python/CNN_Masterarbeit/DetectorMitTopundBottem.CSV\"\n",
    "map_file = open(Mappath,'r')\n",
    "map_file_list = map_file.read() #er soll das ganze lesen\n",
    "map_file.close()\n",
    "newmaplist = copy.copy(map_file_list)"
   ]
  },
  {
   "cell_type": "code",
   "execution_count": 49,
   "metadata": {},
   "outputs": [
    {
     "name": "stdout",
     "output_type": "stream",
     "text": [
      "<class 'str'>\n"
     ]
    }
   ],
   "source": [
    "#newmaplist= np.array(newmaplist)\n",
    "print(type(newmaplist))\n",
    "newmaplist = newmaplist.replace(\"\\n\", \";\")\n",
    "newmaplist = newmaplist[:-1]\n",
    "newmaplist = newmaplist.split(';')\n",
    "#print(len(newmaplist1))\n",
    "newmaparray = np.array(newmaplist)"
   ]
  },
  {
   "cell_type": "code",
   "execution_count": 59,
   "metadata": {},
   "outputs": [],
   "source": [
    "neueliste = np.where(newmaplist==\"AAAAA\", 1,newmaplist)\n",
    "neueliste = np.where(neueliste==\"0\", 1, neueliste)"
   ]
  },
  {
   "cell_type": "code",
   "execution_count": 60,
   "metadata": {},
   "outputs": [
    {
     "name": "stdout",
     "output_type": "stream",
     "text": [
      "105336\n"
     ]
    }
   ],
   "source": [
    "print(len(neueliste))"
   ]
  },
  {
   "cell_type": "code",
   "execution_count": 61,
   "metadata": {},
   "outputs": [
    {
     "data": {
      "text/plain": [
       "array(['1', '1', '1', ..., '1', '1', '1'], dtype='<U6')"
      ]
     },
     "execution_count": 61,
     "metadata": {},
     "output_type": "execute_result"
    }
   ],
   "source": [
    "neueliste"
   ]
  },
  {
   "cell_type": "code",
   "execution_count": 62,
   "metadata": {},
   "outputs": [
    {
     "name": "stdout",
     "output_type": "stream",
     "text": [
      "['1' '1' '1' ... '1' '1' '1']\n"
     ]
    }
   ],
   "source": [
    "print(neueliste)"
   ]
  },
  {
   "cell_type": "code",
   "execution_count": null,
   "metadata": {},
   "outputs": [],
   "source": []
  }
 ],
 "metadata": {
  "kernelspec": {
   "display_name": "Tensorflow",
   "language": "python",
   "name": "myenv"
  },
  "language_info": {
   "codemirror_mode": {
    "name": "ipython",
    "version": 3
   },
   "file_extension": ".py",
   "mimetype": "text/x-python",
   "name": "python",
   "nbconvert_exporter": "python",
   "pygments_lexer": "ipython3",
   "version": "3.7.3"
  }
 },
 "nbformat": 4,
 "nbformat_minor": 2
}
