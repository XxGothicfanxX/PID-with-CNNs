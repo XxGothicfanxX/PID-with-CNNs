{
 "cells": [
  {
   "cell_type": "code",
   "execution_count": 3,
   "metadata": {},
   "outputs": [
    {
     "data": {
      "text/plain": [
       "4997.0"
      ]
     },
     "execution_count": 3,
     "metadata": {},
     "output_type": "execute_result"
    }
   ],
   "source": [
    "29982/6"
   ]
  },
  {
   "cell_type": "code",
   "execution_count": 2,
   "metadata": {},
   "outputs": [],
   "source": [
    "\n",
    "import numpy as np\n",
    "import matplotlib.pyplot as plt\n",
    "import os\n",
    "import cv2\n",
    "import pandas as pd # data processing, CSV file I/O (e.g. pd.read_csv)\n",
    "import copy\n",
    "import random\n",
    "import time\n",
    "from collections import defaultdict\n",
    "from tqdm.notebook import tqdm\n",
    "import h5py\n",
    "\n",
    "### Path to Files\n",
    "DATADIRe =\"C:/Users/Deep Thought/Documents/Python/CNN_Masterarbeit/BeamlikePI/csv/PID_e_lappd1x1_Energy/\"   #All\n",
    "DATADIRmu =\"C:/Users/Deep Thought/Documents/Python/CNN_Masterarbeit/BeamlikePI/csv/PID_Muon_lappd1x1_Energy/\"\n",
    "### Generating Combined Files\n",
    "### Generating Combined Files\n",
    "\n",
    "\n",
    "\n",
    "#all_values =np.zeros((0,96))\n",
    "#time_values =np.zeros((0,96))\n",
    "all_values =np.zeros((0,160))\n",
    "time_values =np.zeros((0,160))\n",
    "category_values = np.zeros((0,2))    # CATEGORIES = [\"e\",\"mu\"] but all will be muons in this case\n",
    "all_values_Lappd = np.zeros((0,9600))\n",
    "time_values_Lappd = np.zeros((0,9600))\n",
    "MRDHits=np.zeros((0,6))\n",
    "Rings=np.zeros((0,))\n",
    "RingsTrueFalse=[]"
   ]
  },
  {
   "cell_type": "code",
   "execution_count": 3,
   "metadata": {},
   "outputs": [
    {
     "name": "stdout",
     "output_type": "stream",
     "text": [
      "997\n",
      "400\n"
     ]
    }
   ],
   "source": [
    "numberFilese=int(len(os.listdir(DATADIRe))/7)\n",
    "print(numberFilese)\n",
    "numberFilesmu=int(len(os.listdir(DATADIRmu))/7)\n",
    "print(numberFilesmu)"
   ]
  },
  {
   "cell_type": "code",
   "execution_count": 4,
   "metadata": {},
   "outputs": [],
   "source": [
    "\n",
    "DATADIRe =\"C:/Users/Deep Thought/Documents/Python/CNN_Masterarbeit/BeamlikePI/csv/PID_e_lappd1x1_Energy/PID_Energy_e_\"\n",
    "DATADIRmu =\"C:/Users/Deep Thought/Documents/Python/CNN_Masterarbeit/BeamlikePI/csv/PID_Muon_lappd1x1_Energy/PID_Energy_Muon_\" "
   ]
  },
  {
   "cell_type": "code",
   "execution_count": 5,
   "metadata": {},
   "outputs": [],
   "source": [
    "setlen = 60000"
   ]
  },
  {
   "cell_type": "markdown",
   "metadata": {},
   "source": [
    "# Electron"
   ]
  },
  {
   "cell_type": "markdown",
   "metadata": {},
   "source": [
    "## Number"
   ]
  },
  {
   "cell_type": "code",
   "execution_count": 20,
   "metadata": {},
   "outputs": [
    {
     "data": {
      "application/vnd.jupyter.widget-view+json": {
       "model_id": "74a0d6c9883940e2aff26ba7da73f4bd",
       "version_major": 2,
       "version_minor": 0
      },
      "text/plain": [
       "HBox(children=(IntProgress(value=0, max=997), HTML(value='')))"
      ]
     },
     "metadata": {},
     "output_type": "display_data"
    },
    {
     "name": "stdout",
     "output_type": "stream",
     "text": [
      "958\n"
     ]
    },
    {
     "data": {
      "application/vnd.jupyter.widget-view+json": {
       "model_id": "1e8b6d92c5f241aeb33cfd31d9a4da00",
       "version_major": 2,
       "version_minor": 0
      },
      "text/plain": [
       "HBox(children=(IntProgress(value=0, max=400), HTML(value='')))"
      ]
     },
     "metadata": {},
     "output_type": "display_data"
    },
    {
     "name": "stdout",
     "output_type": "stream",
     "text": [
      "384\n",
      "(120005, 2)\n"
     ]
    }
   ],
   "source": [
    "\n",
    "\n",
    "all_values=np.zeros((0,2))\n",
    "\n",
    "for i in tqdm(range(numberFilese)):\n",
    "    try: \n",
    "        training_data_list = np.loadtxt(DATADIRe+str(i)+\"_EnergyElectron.csv\",delimiter=',',usecols=(0,1))\n",
    "        #print(training_data_list.shape,all_values.shape)\n",
    "\n",
    "        all_values = np.concatenate([all_values,training_data_list],axis=0)\n",
    "    except OSError:\n",
    "        print(\"File {} not found\".format(i))\n",
    "        continue\n",
    "    if len(all_values)>setlen:\n",
    "        print(i)\n",
    "        break\n",
    "for i in tqdm(range(numberFilesmu)):\n",
    "    try:\n",
    "        training_data_list = np.loadtxt(DATADIRmu+str(i)+\"_EnergyElectron.csv\",delimiter=',',usecols=(0,1))\n",
    "        #print(training_data_list.shape,all_values.shape)\n",
    "        all_values = np.concatenate([all_values,training_data_list],axis=0)\n",
    "    except OSError:\n",
    "        print(\"File {} not found\".format(i))\n",
    "        continue\n",
    "    if len(all_values)>setlen*2:\n",
    "        print(i)\n",
    "        break        \n",
    "all_values=np.array(all_values)   \n",
    "np.save('BeamlikePI/Temp/NumberElectron', all_values)\n",
    "print(all_values.shape)\n"
   ]
  },
  {
   "cell_type": "markdown",
   "metadata": {},
   "source": [
    "## Energy"
   ]
  },
  {
   "cell_type": "code",
   "execution_count": 21,
   "metadata": {},
   "outputs": [
    {
     "name": "stdout",
     "output_type": "stream",
     "text": [
      "\n"
     ]
    },
    {
     "data": {
      "application/vnd.jupyter.widget-view+json": {
       "model_id": "b28d282e0e244b14b6a460d13a35f335",
       "version_major": 2,
       "version_minor": 0
      },
      "text/plain": [
       "HBox(children=(IntProgress(value=0, max=997), HTML(value='')))"
      ]
     },
     "metadata": {},
     "output_type": "display_data"
    },
    {
     "name": "stdout",
     "output_type": "stream",
     "text": [
      "\n",
      "958\n"
     ]
    },
    {
     "data": {
      "application/vnd.jupyter.widget-view+json": {
       "model_id": "d4abcbe53211471dbe3a8e3bc1e41ee7",
       "version_major": 2,
       "version_minor": 0
      },
      "text/plain": [
       "HBox(children=(IntProgress(value=0, max=400), HTML(value='')))"
      ]
     },
     "metadata": {},
     "output_type": "display_data"
    },
    {
     "name": "stdout",
     "output_type": "stream",
     "text": [
      "384\n",
      "(120005,)\n"
     ]
    }
   ],
   "source": [
    "all_values = []\n",
    "\n",
    "for i in tqdm(range(numberFilese)):\n",
    "    try: \n",
    "        training_data_file = open(DATADIRe+str(i)+\"_EnergyElectron.csv\",'r')\n",
    "        training_data_list = training_data_file.readlines()\n",
    "        training_data_file.close()\n",
    "\n",
    "        \n",
    "\n",
    "        for zeile in training_data_list:\n",
    "\n",
    "            zeile = zeile.replace(\",\\n\", \"\")\n",
    "            #zeile = zeile.replace(\"\\n\", \"\")\n",
    "            zeile = zeile.split(',')\n",
    "            #print(len(zeile))\n",
    "            if len(zeile) <=2:\n",
    "                all_values.append(0)\n",
    "            if len(zeile)>2:\n",
    "                all_values.append(zeile[2:])\n",
    "    except OSError:\n",
    "        print(\"File {} not found\".format(i))\n",
    "        continue\n",
    "    if len(all_values)>setlen:\n",
    "        print(i)\n",
    "        break\n",
    "        \n",
    "for i in tqdm(range(numberFilesmu)):\n",
    "    try: \n",
    "        training_data_file = open(DATADIRmu+str(i)+\"_EnergyElectron.csv\",'r')\n",
    "        training_data_list = training_data_file.readlines()\n",
    "        training_data_file.close()\n",
    "\n",
    "        \n",
    "\n",
    "        for zeile in training_data_list:\n",
    "\n",
    "            zeile = zeile.replace(\",\\n\", \"\")\n",
    "            #zeile = zeile.replace(\"\\n\", \"\")\n",
    "            zeile = zeile.split(',')\n",
    "            #print(len(zeile))\n",
    "            if len(zeile) <=2:\n",
    "                all_values.append(0)\n",
    "            if len(zeile)>2:\n",
    "                all_values.append(zeile[2:])\n",
    "    except OSError:\n",
    "        print(\"File {} not found\".format(i))\n",
    "        continue\n",
    "    if len(all_values)>setlen*2:\n",
    "        print(i)\n",
    "        break\n",
    "        \n",
    "all_values=np.array(all_values)   \n",
    "np.save('BeamlikePI/Temp/EnergyElectron', all_values)\n",
    "print(all_values.shape)\n",
    "\n",
    "\n",
    "\n"
   ]
  },
  {
   "cell_type": "markdown",
   "metadata": {},
   "source": [
    "## Muon"
   ]
  },
  {
   "cell_type": "markdown",
   "metadata": {},
   "source": [
    "## Number"
   ]
  },
  {
   "cell_type": "code",
   "execution_count": 24,
   "metadata": {},
   "outputs": [
    {
     "data": {
      "application/vnd.jupyter.widget-view+json": {
       "model_id": "251b1877ce25427d853223bc47299676",
       "version_major": 2,
       "version_minor": 0
      },
      "text/plain": [
       "HBox(children=(IntProgress(value=0, max=997), HTML(value='')))"
      ]
     },
     "metadata": {},
     "output_type": "display_data"
    },
    {
     "name": "stdout",
     "output_type": "stream",
     "text": [
      "958\n",
      "\n"
     ]
    },
    {
     "data": {
      "application/vnd.jupyter.widget-view+json": {
       "model_id": "46b23901883347658f1da873b65f9b7c",
       "version_major": 2,
       "version_minor": 0
      },
      "text/plain": [
       "HBox(children=(IntProgress(value=0, max=400), HTML(value='')))"
      ]
     },
     "metadata": {},
     "output_type": "display_data"
    },
    {
     "name": "stdout",
     "output_type": "stream",
     "text": [
      "384\n",
      "(120005, 2)\n"
     ]
    }
   ],
   "source": [
    "\n",
    "\n",
    "all_values=np.zeros((0,2))\n",
    "\n",
    "for i in tqdm(range(numberFilese)):\n",
    "    try: \n",
    "        training_data_list = np.loadtxt(DATADIRe+str(i)+\"_EnergyMuon.csv\",delimiter=',',usecols=(0,1))\n",
    "        #print(training_data_list.shape,all_values.shape)\n",
    "\n",
    "        all_values = np.concatenate([all_values,training_data_list],axis=0)\n",
    "    except OSError:\n",
    "        print(\"File {} not found\".format(i))\n",
    "        continue\n",
    "    if len(all_values)>setlen:\n",
    "        print(i)\n",
    "        break\n",
    "for i in tqdm(range(numberFilesmu)):\n",
    "    try:\n",
    "        training_data_list = np.loadtxt(DATADIRmu+str(i)+\"_EnergyMuon.csv\",delimiter=',',usecols=(0,1))\n",
    "        #print(training_data_list.shape,all_values.shape)\n",
    "        all_values = np.concatenate([all_values,training_data_list],axis=0)\n",
    "    except OSError:\n",
    "        print(\"File {} not found\".format(i))\n",
    "        continue\n",
    "    if len(all_values)>setlen*2:\n",
    "        print(i)\n",
    "        break        \n",
    "all_values=np.array(all_values)   \n",
    "np.save('BeamlikePI/Temp/NumberMuon', all_values)\n",
    "print(all_values.shape)\n"
   ]
  },
  {
   "cell_type": "markdown",
   "metadata": {},
   "source": [
    "## Energy"
   ]
  },
  {
   "cell_type": "code",
   "execution_count": 25,
   "metadata": {},
   "outputs": [
    {
     "data": {
      "application/vnd.jupyter.widget-view+json": {
       "model_id": "72519ead40314dd7801d7520785ebdd2",
       "version_major": 2,
       "version_minor": 0
      },
      "text/plain": [
       "HBox(children=(IntProgress(value=0, max=997), HTML(value='')))"
      ]
     },
     "metadata": {},
     "output_type": "display_data"
    },
    {
     "name": "stdout",
     "output_type": "stream",
     "text": [
      "958\n"
     ]
    },
    {
     "data": {
      "application/vnd.jupyter.widget-view+json": {
       "model_id": "80815ca465514fc9b1d06bd5d47e432a",
       "version_major": 2,
       "version_minor": 0
      },
      "text/plain": [
       "HBox(children=(IntProgress(value=0, max=400), HTML(value='')))"
      ]
     },
     "metadata": {},
     "output_type": "display_data"
    },
    {
     "name": "stdout",
     "output_type": "stream",
     "text": [
      "\n",
      "384\n",
      "(120005,)\n"
     ]
    }
   ],
   "source": [
    "all_values = []\n",
    "\n",
    "for i in tqdm(range(numberFilese)):\n",
    "    try: \n",
    "        training_data_file = open(DATADIRe+str(i)+\"_EnergyMuon.csv\",'r')\n",
    "        training_data_list = training_data_file.readlines()\n",
    "        training_data_file.close()\n",
    "\n",
    "        \n",
    "\n",
    "        for zeile in training_data_list:\n",
    "\n",
    "            zeile = zeile.replace(\",\\n\", \"\")\n",
    "            #zeile = zeile.replace(\"\\n\", \"\")\n",
    "            zeile = zeile.split(',')\n",
    "            #print(len(zeile))\n",
    "            if len(zeile) <=2:\n",
    "                all_values.append(0)\n",
    "            if len(zeile)>2:\n",
    "                all_values.append(zeile[2:])\n",
    "    except OSError:\n",
    "        print(\"File {} not found\".format(i))\n",
    "        continue\n",
    "    if len(all_values)>setlen:\n",
    "        print(i)\n",
    "        break\n",
    "        \n",
    "for i in tqdm(range(numberFilesmu)):\n",
    "    try: \n",
    "        training_data_file = open(DATADIRmu+str(i)+\"_EnergyMuon.csv\",'r')\n",
    "        training_data_list = training_data_file.readlines()\n",
    "        training_data_file.close()\n",
    "\n",
    "        \n",
    "\n",
    "        for zeile in training_data_list:\n",
    "\n",
    "            zeile = zeile.replace(\",\\n\", \"\")\n",
    "            #zeile = zeile.replace(\"\\n\", \"\")\n",
    "            zeile = zeile.split(',')\n",
    "            #print(len(zeile))\n",
    "            if len(zeile) <=2:\n",
    "                all_values.append(0)\n",
    "            if len(zeile)>2:\n",
    "                all_values.append(zeile[2:])\n",
    "    except OSError:\n",
    "        print(\"File {} not found\".format(i))\n",
    "        continue\n",
    "    if len(all_values)>setlen*2:\n",
    "        print(i)\n",
    "        break\n",
    "        \n",
    "all_values=np.array(all_values)   \n",
    "np.save('BeamlikePI/Temp/EnergyMuon', all_values)\n",
    "print(all_values.shape)\n",
    "\n",
    "\n",
    "\n"
   ]
  },
  {
   "cell_type": "markdown",
   "metadata": {},
   "source": [
    "## Pion"
   ]
  },
  {
   "cell_type": "markdown",
   "metadata": {},
   "source": [
    "## Number"
   ]
  },
  {
   "cell_type": "code",
   "execution_count": 29,
   "metadata": {},
   "outputs": [
    {
     "data": {
      "text/plain": [
       "400"
      ]
     },
     "execution_count": 29,
     "metadata": {},
     "output_type": "execute_result"
    }
   ],
   "source": [
    "numberFilesmu"
   ]
  },
  {
   "cell_type": "code",
   "execution_count": 34,
   "metadata": {},
   "outputs": [
    {
     "data": {
      "application/vnd.jupyter.widget-view+json": {
       "model_id": "bb64e410cebd48b1983f96e6a18a0a2d",
       "version_major": 2,
       "version_minor": 0
      },
      "text/plain": [
       "HBox(children=(IntProgress(value=0, max=997), HTML(value='')))"
      ]
     },
     "metadata": {},
     "output_type": "display_data"
    },
    {
     "name": "stdout",
     "output_type": "stream",
     "text": [
      "958\n",
      "\n"
     ]
    },
    {
     "data": {
      "application/vnd.jupyter.widget-view+json": {
       "model_id": "3b5af4fe25744163ad6c49dc818b141a",
       "version_major": 2,
       "version_minor": 0
      },
      "text/plain": [
       "HBox(children=(IntProgress(value=0, max=400), HTML(value='')))"
      ]
     },
     "metadata": {},
     "output_type": "display_data"
    },
    {
     "name": "stdout",
     "output_type": "stream",
     "text": [
      "384\n",
      "(120005, 2)\n"
     ]
    }
   ],
   "source": [
    "\n",
    "\n",
    "all_values=np.zeros((0,2))\n",
    "\n",
    "for i in tqdm(range(numberFilese)):\n",
    "    try: \n",
    "        training_data_list = np.loadtxt(DATADIRe+str(i)+\"_EnergyPion.csv\",delimiter=',',usecols=(0,1))\n",
    "        #print(training_data_list.shape,all_values.shape)\n",
    "\n",
    "        all_values = np.concatenate([all_values,training_data_list],axis=0)\n",
    "    except OSError:\n",
    "        print(\"File {} not found\".format(i))\n",
    "        continue \n",
    "    if len(all_values)>setlen:\n",
    "        print(i)\n",
    "        break\n",
    "    if i==numberFilese-1:\n",
    "        print(all_values.shape)\n",
    "    \n",
    "for i in tqdm(range(numberFilesmu)):\n",
    "    try: \n",
    "        training_data_list = np.loadtxt(DATADIRmu+str(i)+\"_EnergyPion.csv\",delimiter=',',usecols=(0,1))\n",
    "        #print(training_data_list.shape,all_values.shape)\n",
    "\n",
    "        all_values = np.concatenate([all_values,training_data_list],axis=0)\n",
    "    except OSError:\n",
    "        print(\"File {} not found\".format(i))\n",
    "        continue \n",
    "    if len(all_values)>setlen*2:\n",
    "        print(i)\n",
    "        break\n",
    "all_values=np.array(all_values)   \n",
    "np.save('BeamlikePI/Temp/NumberPion', all_values)\n",
    "print(all_values.shape)\n"
   ]
  },
  {
   "cell_type": "markdown",
   "metadata": {},
   "source": [
    "## Energy"
   ]
  },
  {
   "cell_type": "code",
   "execution_count": 35,
   "metadata": {},
   "outputs": [
    {
     "data": {
      "application/vnd.jupyter.widget-view+json": {
       "model_id": "fb857f42174245a9a581dfdcda1f618f",
       "version_major": 2,
       "version_minor": 0
      },
      "text/plain": [
       "HBox(children=(IntProgress(value=0, max=997), HTML(value='')))"
      ]
     },
     "metadata": {},
     "output_type": "display_data"
    },
    {
     "name": "stdout",
     "output_type": "stream",
     "text": [
      "958\n"
     ]
    },
    {
     "data": {
      "application/vnd.jupyter.widget-view+json": {
       "model_id": "4592c9c6673b4833aa2a2deed34763ea",
       "version_major": 2,
       "version_minor": 0
      },
      "text/plain": [
       "HBox(children=(IntProgress(value=0, max=400), HTML(value='')))"
      ]
     },
     "metadata": {},
     "output_type": "display_data"
    },
    {
     "name": "stdout",
     "output_type": "stream",
     "text": [
      "384\n",
      "(120005,)\n"
     ]
    }
   ],
   "source": [
    "all_values = []\n",
    "\n",
    "for i in tqdm(range(numberFilese)):\n",
    "    try: \n",
    "        training_data_file = open(DATADIRe+str(i)+\"_EnergyPion.csv\",'r')\n",
    "        training_data_list = training_data_file.readlines()\n",
    "        training_data_file.close()\n",
    "\n",
    "        \n",
    "\n",
    "        for zeile in training_data_list:\n",
    "\n",
    "            zeile = zeile.replace(\",\\n\", \"\")\n",
    "            #zeile = zeile.replace(\"\\n\", \"\")\n",
    "            zeile = zeile.split(',')\n",
    "            #print(len(zeile))\n",
    "            if len(zeile) <=2:\n",
    "                all_values.append(0)\n",
    "            if len(zeile)>2:\n",
    "                all_values.append(zeile[2:])\n",
    "    except OSError:\n",
    "        print(\"File {} not found\".format(i))\n",
    "        continue\n",
    "    if len(all_values)>setlen:\n",
    "        print(i)\n",
    "        break\n",
    "        \n",
    "for i in tqdm(range(numberFilesmu)):\n",
    "    try: \n",
    "        training_data_file = open(DATADIRmu+str(i)+\"_EnergyPion.csv\",'r')\n",
    "        training_data_list = training_data_file.readlines()\n",
    "        training_data_file.close()\n",
    "\n",
    "        \n",
    "\n",
    "        for zeile in training_data_list:\n",
    "\n",
    "            zeile = zeile.replace(\",\\n\", \"\")\n",
    "            #zeile = zeile.replace(\"\\n\", \"\")\n",
    "            zeile = zeile.split(',')\n",
    "            #print(len(zeile))\n",
    "            if len(zeile) <=2:\n",
    "                all_values.append(0)\n",
    "            if len(zeile)>2:\n",
    "                all_values.append(zeile[2:])\n",
    "    except OSError:\n",
    "        print(\"File {} not found\".format(i))\n",
    "        continue\n",
    "    if len(all_values)>setlen*2:\n",
    "        print(i)\n",
    "        break\n",
    "        \n",
    "all_values=np.array(all_values)   \n",
    "np.save('BeamlikePI/Temp/EnergyPion', all_values)\n",
    "print(all_values.shape)\n",
    "\n",
    "\n",
    "\n"
   ]
  },
  {
   "cell_type": "markdown",
   "metadata": {},
   "source": [
    "## Kaon"
   ]
  },
  {
   "cell_type": "markdown",
   "metadata": {},
   "source": [
    "## Number"
   ]
  },
  {
   "cell_type": "code",
   "execution_count": 22,
   "metadata": {},
   "outputs": [
    {
     "data": {
      "application/vnd.jupyter.widget-view+json": {
       "model_id": "3aea7b04fd9a432d844c32ad0cd9c190",
       "version_major": 2,
       "version_minor": 0
      },
      "text/plain": [
       "HBox(children=(IntProgress(value=0, max=4997), HTML(value='')))"
      ]
     },
     "metadata": {},
     "output_type": "display_data"
    },
    {
     "name": "stdout",
     "output_type": "stream",
     "text": [
      "\n",
      "(110441, 2)\n"
     ]
    }
   ],
   "source": [
    "\n",
    "\n",
    "all_values=np.zeros((0,2))\n",
    "\n",
    "for i in tqdm(range(numberFiles)):\n",
    "    try: \n",
    "        training_data_list = np.loadtxt(DATADIR+str(i)+\"_EnergyKaon.csv\",delimiter=',',usecols=(0,1))\n",
    "        #print(training_data_list.shape,all_values.shape)\n",
    "\n",
    "        all_values = np.concatenate([all_values,training_data_list],axis=0)\n",
    "    except OSError:\n",
    "        print(\"File {} not found\".format(i))\n",
    "        continue    \n",
    "all_values=np.array(all_values)   \n",
    "np.save('BeamRingCounting/Temp/NumberKaon', all_values)\n",
    "print(all_values.shape)\n"
   ]
  },
  {
   "cell_type": "markdown",
   "metadata": {},
   "source": [
    "## Energy"
   ]
  },
  {
   "cell_type": "code",
   "execution_count": 21,
   "metadata": {},
   "outputs": [
    {
     "data": {
      "application/vnd.jupyter.widget-view+json": {
       "model_id": "90c40f5615e24511b47d73f6d54d75c1",
       "version_major": 2,
       "version_minor": 0
      },
      "text/plain": [
       "HBox(children=(IntProgress(value=0, max=4997), HTML(value='')))"
      ]
     },
     "metadata": {},
     "output_type": "display_data"
    },
    {
     "name": "stdout",
     "output_type": "stream",
     "text": [
      "\n",
      "(110441,)\n"
     ]
    }
   ],
   "source": [
    "\n",
    "\n",
    "all_values = []\n",
    "\n",
    "for i in tqdm(range(numberFiles)):\n",
    "    try: \n",
    "        training_data_file = open(DATADIR+str(i)+\"_EnergyKaon.csv\",'r')\n",
    "        training_data_list = training_data_file.readlines()\n",
    "        training_data_file.close()\n",
    "\n",
    "        \n",
    "\n",
    "        for zeile in training_data_list:\n",
    "\n",
    "            zeile = zeile.replace(\",\\n\", \"\")\n",
    "            #zeile = zeile.replace(\"\\n\", \"\")\n",
    "            zeile = zeile.split(',')\n",
    "            #print(len(zeile))\n",
    "            if len(zeile) <=2:\n",
    "                all_values.append(0)\n",
    "            if len(zeile)>2:\n",
    "                all_values.append(zeile[2:])\n",
    "    except OSError:\n",
    "        print(\"File {} not found\".format(i))\n",
    "        continue\n",
    "        \n",
    "all_values=np.array(all_values)   \n",
    "np.save('BeamRingCounting/Temp/EnergyKaon', all_values)\n",
    "print(all_values.shape)\n",
    "\n",
    "\n",
    "\n"
   ]
  },
  {
   "cell_type": "markdown",
   "metadata": {},
   "source": [
    "## Parent Energy"
   ]
  },
  {
   "cell_type": "code",
   "execution_count": null,
   "metadata": {},
   "outputs": [],
   "source": [
    " "
   ]
  },
  {
   "cell_type": "code",
   "execution_count": 49,
   "metadata": {},
   "outputs": [
    {
     "data": {
      "application/vnd.jupyter.widget-view+json": {
       "model_id": "421fb3e72daf4a09897a5a3717c9597d",
       "version_major": 2,
       "version_minor": 0
      },
      "text/plain": [
       "HBox(children=(IntProgress(value=0, max=997), HTML(value='')))"
      ]
     },
     "metadata": {},
     "output_type": "display_data"
    },
    {
     "name": "stdout",
     "output_type": "stream",
     "text": [
      "958\n"
     ]
    },
    {
     "data": {
      "application/vnd.jupyter.widget-view+json": {
       "model_id": "d6cf40fa580d464aaa56206a7a7b2248",
       "version_major": 2,
       "version_minor": 0
      },
      "text/plain": [
       "HBox(children=(IntProgress(value=0, max=400), HTML(value='')))"
      ]
     },
     "metadata": {},
     "output_type": "display_data"
    },
    {
     "name": "stdout",
     "output_type": "stream",
     "text": [
      "0\n",
      "1\n",
      "2\n",
      "3\n",
      "4\n",
      "5\n",
      "6\n",
      "7\n",
      "8\n",
      "9\n",
      "10\n",
      "11\n",
      "12\n",
      "13\n",
      "14\n",
      "15\n",
      "16\n",
      "17\n",
      "18\n",
      "19\n",
      "20\n",
      "21\n",
      "22\n",
      "23\n",
      "24\n",
      "25\n",
      "26\n",
      "27\n",
      "28\n",
      "29\n",
      "30\n",
      "31\n",
      "32\n",
      "33\n",
      "34\n",
      "35\n",
      "36\n",
      "37\n",
      "38\n",
      "39\n",
      "40\n",
      "41\n",
      "42\n",
      "43\n",
      "44\n",
      "45\n",
      "46\n",
      "47\n",
      "48\n",
      "49\n",
      "50\n",
      "51\n",
      "52\n",
      "53\n",
      "54\n",
      "55\n",
      "56\n",
      "57\n",
      "58\n",
      "59\n",
      "60\n",
      "61\n",
      "62\n",
      "63\n",
      "64\n",
      "65\n",
      "66\n",
      "67\n",
      "68\n",
      "69\n",
      "70\n",
      "71\n",
      "72\n",
      "73\n",
      "74\n",
      "75\n",
      "76\n",
      "77\n",
      "78\n",
      "79\n",
      "80\n",
      "81\n",
      "82\n",
      "83\n",
      "84\n",
      "85\n",
      "86\n",
      "87\n",
      "88\n",
      "89\n",
      "90\n",
      "91\n",
      "92\n",
      "93\n",
      "94\n",
      "95\n",
      "96\n",
      "97\n",
      "98\n",
      "99\n",
      "100\n",
      "101\n",
      "102\n",
      "103\n",
      "104\n",
      "105\n",
      "106\n",
      "107\n",
      "108\n",
      "109\n",
      "110\n",
      "111\n",
      "112\n",
      "113\n",
      "114\n",
      "115\n",
      "116\n",
      "117\n",
      "118\n",
      "119\n",
      "120\n",
      "121\n",
      "122\n",
      "123\n",
      "124\n",
      "125\n",
      "126\n",
      "127\n",
      "128\n",
      "129\n",
      "130\n",
      "131\n",
      "132\n",
      "133\n",
      "134\n",
      "135\n",
      "136\n",
      "137\n",
      "138\n",
      "139\n",
      "140\n",
      "141\n",
      "142\n",
      "143\n",
      "144\n",
      "145\n",
      "146\n",
      "147\n",
      "148\n",
      "149\n",
      "150\n",
      "151\n",
      "152\n",
      "153\n",
      "154\n",
      "155\n",
      "156\n",
      "157\n",
      "158\n",
      "159\n",
      "160\n",
      "161\n",
      "162\n",
      "163\n",
      "164\n",
      "165\n",
      "166\n",
      "167\n",
      "168\n",
      "169\n",
      "170\n",
      "171\n",
      "172\n",
      "173\n",
      "174\n",
      "175\n",
      "176\n",
      "177\n",
      "178\n",
      "179\n",
      "180\n",
      "181\n",
      "182\n",
      "183\n",
      "184\n",
      "185\n",
      "186\n",
      "187\n",
      "188\n",
      "189\n",
      "190\n",
      "191\n",
      "192\n",
      "193\n",
      "194\n",
      "195\n",
      "196\n",
      "197\n",
      "198\n",
      "199\n",
      "200\n",
      "201\n",
      "202\n",
      "203\n",
      "204\n",
      "205\n",
      "206\n",
      "207\n",
      "208\n",
      "209\n",
      "210\n",
      "211\n",
      "212\n",
      "213\n",
      "214\n",
      "215\n",
      "216\n",
      "217\n",
      "218\n",
      "219\n",
      "220\n",
      "221\n",
      "222\n",
      "223\n",
      "224\n",
      "225\n",
      "226\n",
      "227\n",
      "228\n",
      "229\n",
      "230\n",
      "231\n",
      "232\n",
      "233\n",
      "234\n",
      "235\n",
      "236\n",
      "237\n",
      "238\n",
      "239\n",
      "240\n",
      "241\n",
      "242\n",
      "243\n",
      "244\n",
      "245\n",
      "246\n",
      "247\n",
      "248\n",
      "249\n",
      "250\n",
      "251\n",
      "252\n",
      "253\n",
      "254\n",
      "255\n",
      "256\n",
      "257\n",
      "258\n",
      "259\n",
      "260\n",
      "261\n",
      "262\n",
      "263\n",
      "264\n",
      "265\n",
      "266\n",
      "267\n",
      "268\n",
      "269\n",
      "270\n",
      "271\n",
      "272\n",
      "273\n",
      "274\n",
      "275\n",
      "276\n",
      "277\n",
      "278\n",
      "279\n",
      "280\n",
      "281\n",
      "282\n",
      "283\n",
      "284\n",
      "285\n",
      "286\n",
      "287\n",
      "288\n",
      "289\n",
      "290\n",
      "291\n",
      "292\n",
      "293\n",
      "294\n",
      "295\n",
      "296\n",
      "297\n",
      "298\n",
      "299\n",
      "300\n",
      "301\n",
      "302\n",
      "303\n",
      "304\n",
      "305\n",
      "306\n",
      "307\n",
      "308\n",
      "309\n",
      "310\n",
      "311\n",
      "312\n",
      "313\n",
      "314\n",
      "315\n",
      "316\n",
      "317\n",
      "318\n",
      "319\n",
      "320\n",
      "321\n",
      "322\n",
      "323\n",
      "324\n",
      "325\n",
      "326\n",
      "327\n",
      "328\n",
      "329\n",
      "330\n",
      "331\n",
      "332\n",
      "333\n",
      "334\n",
      "335\n",
      "336\n",
      "337\n",
      "338\n",
      "339\n",
      "340\n",
      "341\n",
      "342\n",
      "343\n",
      "344\n",
      "345\n",
      "346\n",
      "347\n",
      "348\n",
      "349\n",
      "350\n",
      "351\n",
      "352\n",
      "353\n",
      "354\n",
      "355\n",
      "356\n",
      "357\n",
      "358\n",
      "359\n",
      "360\n",
      "361\n",
      "362\n",
      "363\n",
      "364\n",
      "365\n",
      "366\n",
      "367\n",
      "368\n",
      "369\n",
      "370\n",
      "371\n",
      "372\n",
      "373\n",
      "374\n",
      "375\n",
      "376\n",
      "377\n",
      "378\n",
      "379\n",
      "380\n",
      "381\n",
      "382\n",
      "383\n",
      "384\n",
      "384\n",
      "(120005,)\n"
     ]
    }
   ],
   "source": [
    "\n",
    "\n",
    "all_values=np.zeros((0))\n",
    "\n",
    "for i in tqdm(range(numberFilese)):\n",
    "    try: \n",
    "        training_data_list = np.loadtxt(DATADIRe+str(i)+\"_EnergyNeutrino.csv\",delimiter=',',usecols=(0))\n",
    "        #print(training_data_list.shape,all_values.shape)\n",
    "\n",
    "        all_values = np.concatenate([all_values,training_data_list],axis=0)\n",
    "    except OSError:\n",
    "        print(\"File {} not found\".format(i))\n",
    "        continue    \n",
    "    if len(all_values)>setlen:\n",
    "        print(i)\n",
    "        break\n",
    "for i in tqdm(range(numberFilesmu)):\n",
    "    try:\n",
    "        print(i)\n",
    "        training_data_list = np.loadtxt(DATADIRmu+str(i)+\"_EnergyNeutrino.csv\",delimiter=',',usecols=(0))\n",
    "        #print(training_data_list.shape,all_values.shape)\n",
    "\n",
    "        all_values = np.concatenate([all_values,training_data_list],axis=0)\n",
    "    except OSError:\n",
    "        print(\"File {} not found\".format(i))\n",
    "        continue \n",
    "    if len(all_values)>setlen*2:\n",
    "        print(i)\n",
    "        break\n",
    "all_values=np.array(all_values)   \n",
    "np.save('BeamlikePI/Temp/EnergyMother', all_values)\n",
    "print(all_values.shape)\n"
   ]
  },
  {
   "cell_type": "markdown",
   "metadata": {},
   "source": [
    "## Neutron counting"
   ]
  },
  {
   "cell_type": "code",
   "execution_count": 52,
   "metadata": {},
   "outputs": [
    {
     "data": {
      "application/vnd.jupyter.widget-view+json": {
       "model_id": "029e3087ff3748668380f6abff80dbd2",
       "version_major": 2,
       "version_minor": 0
      },
      "text/plain": [
       "HBox(children=(IntProgress(value=0, max=997), HTML(value='')))"
      ]
     },
     "metadata": {},
     "output_type": "display_data"
    },
    {
     "name": "stdout",
     "output_type": "stream",
     "text": [
      "958\n",
      "\n"
     ]
    },
    {
     "data": {
      "application/vnd.jupyter.widget-view+json": {
       "model_id": "6882d381184e48fc9c7df6a1b7b61106",
       "version_major": 2,
       "version_minor": 0
      },
      "text/plain": [
       "HBox(children=(IntProgress(value=0, max=400), HTML(value='')))"
      ]
     },
     "metadata": {},
     "output_type": "display_data"
    },
    {
     "name": "stdout",
     "output_type": "stream",
     "text": [
      "384\n",
      "(120005,)\n"
     ]
    }
   ],
   "source": [
    "\n",
    "all_values=np.zeros((0))\n",
    "\n",
    "for i in tqdm(range(numberFilese)):\n",
    "    try: \n",
    "        training_data_list = np.loadtxt(DATADIRe+str(i)+\"_NeutronNumber.csv\",delimiter=',',usecols=(0))\n",
    "        #print(training_data_list.shape,all_values.shape)\n",
    "\n",
    "        all_values = np.concatenate([all_values,training_data_list],axis=0)\n",
    "    except OSError:\n",
    "        print(\"File {} not found\".format(i))\n",
    "        continue\n",
    "    if len(all_values)>setlen:\n",
    "        print(i)\n",
    "        break\n",
    "for i in tqdm(range(numberFilesmu)):\n",
    "    try: \n",
    "        training_data_list = np.loadtxt(DATADIRmu+str(i)+\"_NeutronNumber.csv\",delimiter=',',usecols=(0))\n",
    "        #print(training_data_list.shape,all_values.shape)\n",
    "\n",
    "        all_values = np.concatenate([all_values,training_data_list],axis=0)\n",
    "    except OSError:\n",
    "        print(\"File {} not found\".format(i))\n",
    "        continue \n",
    "    if len(all_values)>setlen*2:\n",
    "        print(i)\n",
    "        break\n",
    "all_values=np.array(all_values)   \n",
    "np.save('BeamlikePI/Temp/NN', all_values)\n",
    "print(all_values.shape)\n"
   ]
  },
  {
   "cell_type": "markdown",
   "metadata": {},
   "source": [
    "# Visible Energy"
   ]
  },
  {
   "cell_type": "code",
   "execution_count": 9,
   "metadata": {},
   "outputs": [
    {
     "data": {
      "application/vnd.jupyter.widget-view+json": {
       "model_id": "62176da557874a7fbd04c5fb83074e43",
       "version_major": 2,
       "version_minor": 0
      },
      "text/plain": [
       "HBox(children=(IntProgress(value=0, max=997), HTML(value='')))"
      ]
     },
     "metadata": {},
     "output_type": "display_data"
    },
    {
     "name": "stdout",
     "output_type": "stream",
     "text": [
      "958\n"
     ]
    },
    {
     "data": {
      "application/vnd.jupyter.widget-view+json": {
       "model_id": "74626c622d6b431e840dc87943694081",
       "version_major": 2,
       "version_minor": 0
      },
      "text/plain": [
       "HBox(children=(IntProgress(value=0, max=400), HTML(value='')))"
      ]
     },
     "metadata": {},
     "output_type": "display_data"
    },
    {
     "name": "stdout",
     "output_type": "stream",
     "text": [
      "384\n",
      "(120005, 2)\n"
     ]
    }
   ],
   "source": [
    "all_values=np.zeros((0,2))\n",
    "\n",
    "for i in tqdm(range(numberFilese)):\n",
    "    try: \n",
    "        training_data_list = np.loadtxt(DATADIRe+str(i)+\"_VisibleEnergy.csv\",delimiter=',',usecols=(0,1))\n",
    "        #print(training_data_list.shape,all_values.shape)\n",
    "\n",
    "        all_values = np.concatenate([all_values,training_data_list],axis=0)\n",
    "    except OSError:\n",
    "        print(\"File {} not found\".format(i))\n",
    "        continue    \n",
    "    if len(all_values)>setlen:\n",
    "        print(i)\n",
    "        break\n",
    "for i in tqdm(range(numberFilesmu)):\n",
    "    try:\n",
    "        \n",
    "        training_data_list = np.loadtxt(DATADIRmu+str(i)+\"_VisibleEnergy.csv\",delimiter=',',usecols=(0,1))\n",
    "        #print(training_data_list.shape,all_values.shape)\n",
    "\n",
    "        all_values = np.concatenate([all_values,training_data_list],axis=0)\n",
    "    except OSError:\n",
    "        print(\"File {} not found\".format(i))\n",
    "        continue \n",
    "    if len(all_values)>setlen*2:\n",
    "        print(i)\n",
    "        break\n",
    "all_values=np.array(all_values)   \n",
    "np.save('BeamlikePI/Temp/VisibleEnergy', all_values)\n",
    "print(all_values.shape)"
   ]
  },
  {
   "cell_type": "code",
   "execution_count": null,
   "metadata": {},
   "outputs": [],
   "source": []
  }
 ],
 "metadata": {
  "kernelspec": {
   "display_name": "Tensorflow",
   "language": "python",
   "name": "myenv"
  },
  "language_info": {
   "codemirror_mode": {
    "name": "ipython",
    "version": 3
   },
   "file_extension": ".py",
   "mimetype": "text/x-python",
   "name": "python",
   "nbconvert_exporter": "python",
   "pygments_lexer": "ipython3",
   "version": "3.7.3"
  }
 },
 "nbformat": 4,
 "nbformat_minor": 2
}
