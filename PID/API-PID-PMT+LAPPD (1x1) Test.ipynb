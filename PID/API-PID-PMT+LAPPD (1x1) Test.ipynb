{
 "cells": [
  {
   "cell_type": "markdown",
   "metadata": {},
   "source": [
    "# Laden"
   ]
  },
  {
   "cell_type": "code",
   "execution_count": 1,
   "metadata": {},
   "outputs": [],
   "source": [
    "\n",
    "\n",
    "#  CSV erkennen by David Maksimovic 24.06.2019\n",
    "from __future__ import absolute_import, division, print_function, unicode_literals\n",
    "\n",
    "import tensorflow as tf\n",
    "#import keras\n",
    "\n",
    "#from keras import regularizers\n",
    "from tensorflow import keras\n",
    "from tensorflow.keras import regularizers, layers\n",
    "from tensorflow.keras.utils import to_categorical\n",
    "from tensorflow.keras.models import Sequential\n",
    "from tensorflow.keras.layers import Dense, Dropout,LeakyReLU, Activation, Flatten, Conv2D, MaxPooling2D, BatchNormalization, AveragePooling2D, GlobalAveragePooling2D\n",
    "from tensorflow.keras.callbacks import TensorBoard, ModelCheckpoint, EarlyStopping\n",
    "import time\n",
    "import pickle\n",
    "from sklearn.metrics import confusion_matrix\n",
    "import itertools\n",
    "import matplotlib.pyplot as plt\n",
    "import pydot_ng as pydot\n",
    "import numpy as np\n",
    "import glob\n",
    "import os\n",
    "import random\n",
    "\n",
    "\n",
    "\n",
    "########### Normalisieren ###########\n",
    "\n",
    "#Ist schon normalisiert\n",
    "########### Normalisieren ###########\n",
    "\n",
    "#Ist schon normalisiert"
   ]
  },
  {
   "cell_type": "code",
   "execution_count": 2,
   "metadata": {},
   "outputs": [],
   "source": [
    "\n",
    "########### Daten laden ###########\n",
    "X= pickle.load(open(\"C:/Users/Deep Thought/Documents/Python/CNN_Masterarbeit/BeamlikePI/pickle/X_Beamlike_PID_gn_PMT160andLAPPD1x1_120k_Files_mitTopBottom.pickle\",\"rb\"))\n",
    "Y= pickle.load(open(\"C:/Users/Deep Thought/Documents/Python/CNN_Masterarbeit/BeamlikePI/pickle/Y_Beamlike_PID_gn_PMT160andLAPPD1x1_120k_Files_mitTopBottom.pickle\",\"rb\"))\n",
    "XMRD = np.load(\"C:/Users/Deep Thought/Documents/Python/CNN_Masterarbeit/BeamlikePI/Temp/MRD.npy\")\n"
   ]
  },
  {
   "cell_type": "code",
   "execution_count": 3,
   "metadata": {},
   "outputs": [
    {
     "name": "stdout",
     "output_type": "stream",
     "text": [
      "[59977 60028]\n",
      "[[0 1]\n",
      " [1 0]]\n",
      "50.021249114620225\n"
     ]
    }
   ],
   "source": [
    "unique, counts = np.unique(Y, return_counts=True, axis=0)\n",
    "print(counts)\n",
    "print(unique)\n",
    "print(100/(counts[0]+counts[1])*counts[1])\n",
    "\n"
   ]
  },
  {
   "cell_type": "code",
   "execution_count": 74,
   "metadata": {},
   "outputs": [
    {
     "data": {
      "text/plain": [
       "1.0"
      ]
     },
     "execution_count": 74,
     "metadata": {},
     "output_type": "execute_result"
    }
   ],
   "source": [
    "XMRD[:,0]"
   ]
  },
  {
   "cell_type": "markdown",
   "metadata": {},
   "source": [
    "mrdeventcounter, num_mrd_paddles, num_mrd_layers, num_mrd_conslayers, num_mrd_adjacent,mrd_padperlayer"
   ]
  },
  {
   "cell_type": "code",
   "execution_count": 132,
   "metadata": {},
   "outputs": [
    {
     "name": "stdout",
     "output_type": "stream",
     "text": [
      "Mrd Cluster Counter How do they look like:  [0. 1. 2.]\n",
      "Mrd Cluster Counter (4 Hits innerhalb von 30 ns):  [56354  3621     2]\n",
      "\n",
      " \n",
      " \n",
      "Mrd Cluster Counter How do they look like:  [0. 1. 2.]\n",
      "Mrd Cluster Counter (4 Hits innerhalb von 30 ns):  [54110  5912     6]\n",
      "\n",
      " \n",
      " \n",
      "number of mrd-paddles Hit: How do they look like: \n",
      "  [ 0.  1.  2.  3.  4.  5.  6.  7.  8.  9. 10. 11. 12. 13. 14. 15. 16. 17.\n",
      " 18. 19. 23. 24.]\n",
      "num_mrd_paddles: \n",
      " [46805   323  1042  1876  2388  2243  1862  1305   902   547   297   183\n",
      "   106    41    27    14     5     5     2     2     1     1]\n",
      "\n",
      " \n",
      " \n",
      "number of mrd-layers [ 0.  1.  2.  3.  4.  5.  6.  7.  8.  9. 10.]\n",
      "num_mrd_layers [46810   609  2109  3374  3351  2331   972   342    67    11     1]\n",
      "\n",
      " \n",
      " \n",
      "number of mrd-consecutive layers [0. 1. 2. 3. 4. 5. 6. 7.]\n",
      "num_mrd_conslayers [48541  5840  3352  1450   554   176    56     8]\n",
      "\n",
      " \n",
      " \n",
      "number of adjacent events [0. 1. 2. 3.]\n",
      "num_mrd_adjacent [59216   721    37     3]\n",
      "\n",
      " \n",
      " \n",
      "mrd_padperlayer \n",
      " [0.      1.      1.11111 ...     nan     nan     nan]\n",
      "mrd_padperlayer \n",
      " [42626  3624     1 ...     1     1     1]\n",
      "\n",
      " \n",
      " \n"
     ]
    }
   ],
   "source": [
    "unique, counts = np.unique(XMRD[:59977 ,0], return_counts=True, axis=0)\n",
    "print(\"Mrd Cluster Counter How do they look like: \",unique)\n",
    "print(\"Mrd Cluster Counter (4 Hits innerhalb von 30 ns): \",counts)\n",
    "print( \"\\n \\n \")\n",
    "unique, counts = np.unique(XMRD[59977: ,0], return_counts=True, axis=0)\n",
    "print(\"Mrd Cluster Counter How do they look like: \",unique)\n",
    "print(\"Mrd Cluster Counter (4 Hits innerhalb von 30 ns): \",counts)\n",
    "print( \"\\n \\n \")\n",
    "#print(100/(counts[0]+counts[1])*counts[1])\n",
    "unique, counts = np.unique(XMRD[:59977 ,1], return_counts=True, axis=0)\n",
    "print(\"number of mrd-paddles Hit: How do they look like: \\n \",unique)\n",
    "print(\"num_mrd_paddles: \\n\" ,counts)\n",
    "print( \"\\n \\n \")\n",
    "#print(100/(counts[0]+counts[1])*counts[1])\n",
    "unique, counts = np.unique(XMRD[:59977 ,2], return_counts=True, axis=0)\n",
    "print(\"number of mrd-layers\", unique)\n",
    "print(\"num_mrd_layers\",counts)\n",
    "print( \"\\n \\n \")\n",
    "#print(100/(counts[0]+counts[1])*counts[1])\n",
    "unique, counts = np.unique(XMRD[:59977 ,3], return_counts=True, axis=0)\n",
    "print(\"number of mrd-consecutive layers\",unique)\n",
    "print(\"num_mrd_conslayers\",counts)\n",
    "print( \"\\n \\n \")\n",
    "#print(100/(counts[0]+counts[1])*counts[1])\n",
    "unique, counts = np.unique(XMRD[:59977 ,4], return_counts=True, axis=0)\n",
    "print(\"number of adjacent events\",unique)\n",
    "print(\"num_mrd_adjacent\",counts)\n",
    "print( \"\\n \\n \")\n",
    "#print(100/(counts[0]+counts[1])*counts[1])\n",
    "unique, counts = np.unique(XMRD[:59977 ,5], return_counts=True, axis=0)\n",
    "print(\"mrd_padperlayer\",\"\\n\",unique)\n",
    "print(\"mrd_padperlayer\",\"\\n\",counts)\n",
    "print( \"\\n \\n \")\n",
    "#print(100/(counts[0]+counts[1])*counts[1])\n",
    "\n",
    "#120.005 \n",
    "#60.000 #12 % Der Fälle\n",
    "#In 5 Prozten der Fälle \n",
    "\n",
    "#In 10 Prozen der Fälle  "
   ]
  },
  {
   "cell_type": "code",
   "execution_count": null,
   "metadata": {},
   "outputs": [],
   "source": [
    "unique, counts = np.unique(NMRD[:,0], return_counts=True, axis=0)\n",
    "print(\"Mrd Cluster Counter How do they look like: \",unique)\n",
    "print(\"Mrd Cluster Counter (4 Hits innerhalb von 30 ns): \",counts)\n",
    "print( \"\\n \\n \")\n",
    "#print(100/(counts[0]+counts[1])*counts[1])\n",
    "unique, counts = np.unique(XMRD[:,1], return_counts=True, axis=0)\n",
    "print(\"number of mrd-paddles Hit: How do they look like: \\n \",unique)\n",
    "print(\"num_mrd_paddles: \\n\" ,counts)\n",
    "print( \"\\n \\n \")\n",
    "#print(100/(counts[0]+counts[1])*counts[1])\n",
    "unique, counts = np.unique(XMRD[:,2], return_counts=True, axis=0)\n",
    "print(\"number of mrd-layers\", unique)\n",
    "print(\"num_mrd_layers\",counts)\n",
    "print( \"\\n \\n \")\n",
    "#print(100/(counts[0]+counts[1])*counts[1])\n",
    "unique, counts = np.unique(XMRD[:,3], return_counts=True, axis=0)\n",
    "print(\"number of mrd-consecutive layers\",unique)\n",
    "print(\"num_mrd_conslayers\",counts)\n",
    "print( \"\\n \\n \")\n",
    "#print(100/(counts[0]+counts[1])*counts[1])\n",
    "unique, counts = np.unique(XMRD[:,4], return_counts=True, axis=0)\n",
    "print(\"number of adjacent events\",unique)\n",
    "print(\"num_mrd_adjacent\",counts)\n",
    "print( \"\\n \\n \")\n",
    "#print(100/(counts[0]+counts[1])*counts[1])\n",
    "unique, counts = np.unique(XMRD[:,5], return_counts=True, axis=0)\n",
    "print(\"mrd_padperlayer\",\"\\n\",unique)\n",
    "print(\"mrd_padperlayer\",\"\\n\",counts)\n",
    "print( \"\\n \\n \")\n",
    "#print(100/(counts[0]+counts[1])*counts[1])\n",
    "\n",
    "120.005 \n",
    "60.000 #12 % Der Fälle"
   ]
  },
  {
   "cell_type": "code",
   "execution_count": 4,
   "metadata": {},
   "outputs": [
    {
     "data": {
      "text/plain": [
       "((120005, 6), (120005, 10, 24, 2))"
      ]
     },
     "execution_count": 4,
     "metadata": {},
     "output_type": "execute_result"
    }
   ],
   "source": [
    "XMRD.shape,X.shape"
   ]
  },
  {
   "cell_type": "code",
   "execution_count": 5,
   "metadata": {},
   "outputs": [
    {
     "data": {
      "text/plain": [
       "<matplotlib.image.AxesImage at 0x1ca0aa6c160>"
      ]
     },
     "execution_count": 5,
     "metadata": {},
     "output_type": "execute_result"
    },
    {
     "data": {
      "image/png": "[encoded data removed]",
      "text/plain": [
       "<Figure size 432x288 with 1 Axes>"
      ]
     },
     "metadata": {
      "needs_background": "light"
     },
     "output_type": "display_data"
    }
   ],
   "source": [
    "plt.imshow(X[7,:,:,0], cmap='viridis', interpolation='None')"
   ]
  },
  {
   "cell_type": "markdown",
   "metadata": {},
   "source": [
    "## 120 k files"
   ]
  },
  {
   "cell_type": "code",
   "execution_count": 7,
   "metadata": {},
   "outputs": [
    {
     "name": "stdout",
     "output_type": "stream",
     "text": [
      "Eintrag \n",
      " [1 0]\n",
      "Eintrag \n",
      " [1 0]\n",
      "Eintrag \n",
      " [1 0]\n",
      "Eintrag \n",
      " [1 0]\n",
      "Eintrag \n",
      " [1 0]\n",
      "(85000, 10, 24, 2) (20000, 10, 24, 2) (15005, 10, 24, 2)\n"
     ]
    }
   ],
   "source": [
    "training_data = list(zip(X, Y,XMRD))\n",
    "import random\n",
    "random.shuffle(training_data)\n",
    "\n",
    "for sample in Y[:5]:\n",
    "    print(\"Eintrag \\n\", sample)\n",
    "\n",
    "X1 =[]\n",
    "Y1 =[]\n",
    "XMRD1=[]\n",
    "\n",
    "for x in training_data[:85000]:\n",
    "    \n",
    "    X1.append(x[0])\n",
    "    Y1.append(x[1])\n",
    "    XMRD1.append(x[2])\n",
    "    \n",
    "XTraining = np.array(X1)\n",
    "YTraining = np.array(Y1)\n",
    "XMRDTraing= np.array(XMRD1)\n",
    "\n",
    "X2 =[]\n",
    "Y2 =[]\n",
    "XMRD2=[]\n",
    "\n",
    "for x in training_data[85000:105000]:\n",
    "    \n",
    "    X2.append(x[0])\n",
    "    Y2.append(x[1])\n",
    "    XMRD2.append(x[2])\n",
    "    \n",
    "    \n",
    "XVal = np.array(X2)\n",
    "YVal = np.array(Y2)\n",
    "XMRDVal=np.array(XMRD2)\n",
    "\n",
    "X3 =[]\n",
    "Y3 =[]\n",
    "XMRD3=[]\n",
    "\n",
    "for x in training_data[105000:]:\n",
    "    \n",
    "    X3.append(x[0])\n",
    "    Y3.append(x[1])\n",
    "    XMRD3.append(x[2])\n",
    "    \n",
    "XTest = np.array(X3)\n",
    "YTest = np.array(Y3)\n",
    "XMRDTest=np.array(XMRD3)\n",
    "\n",
    "print(XTraining.shape,XVal.shape,XTest.shape)\n",
    "del X,Y,X1,X2,X3,Y1,Y2,Y3,XMRD3,XMRD2,XMRD1"
   ]
  },
  {
   "cell_type": "code",
   "execution_count": 9,
   "metadata": {},
   "outputs": [
    {
     "data": {
      "text/plain": [
       "((85000, 6), (20000, 6), (15005, 6))"
      ]
     },
     "execution_count": 9,
     "metadata": {},
     "output_type": "execute_result"
    }
   ],
   "source": [
    "XMRDTraing.shape,XMRDVal.shape,XMRDTest.shape"
   ]
  },
  {
   "cell_type": "code",
   "execution_count": 3,
   "metadata": {},
   "outputs": [
    {
     "ename": "NameError",
     "evalue": "name 'XMRDTraing' is not defined",
     "output_type": "error",
     "traceback": [
      "\u001b[1;31m---------------------------------------------------------------------------\u001b[0m",
      "\u001b[1;31mNameError\u001b[0m                                 Traceback (most recent call last)",
      "\u001b[1;32m<ipython-input-3-3afedf6512a7>\u001b[0m in \u001b[0;36m<module>\u001b[1;34m\u001b[0m\n\u001b[0;32m     12\u001b[0m \u001b[0mNewMRDTest\u001b[0m\u001b[1;33m=\u001b[0m\u001b[1;33m[\u001b[0m\u001b[1;33m]\u001b[0m\u001b[1;33m\u001b[0m\u001b[1;33m\u001b[0m\u001b[0m\n\u001b[0;32m     13\u001b[0m \u001b[1;33m\u001b[0m\u001b[0m\n\u001b[1;32m---> 14\u001b[1;33m \u001b[1;32mfor\u001b[0m \u001b[0mx\u001b[0m \u001b[1;32min\u001b[0m \u001b[0mXMRDTraing\u001b[0m\u001b[1;33m:\u001b[0m\u001b[1;33m\u001b[0m\u001b[1;33m\u001b[0m\u001b[0m\n\u001b[0m\u001b[0;32m     15\u001b[0m     \u001b[1;32mif\u001b[0m \u001b[0mx\u001b[0m\u001b[1;33m[\u001b[0m\u001b[1;36m0\u001b[0m\u001b[1;33m]\u001b[0m\u001b[1;33m>=\u001b[0m\u001b[1;36m1\u001b[0m\u001b[1;33m:\u001b[0m\u001b[1;33m\u001b[0m\u001b[1;33m\u001b[0m\u001b[0m\n\u001b[0;32m     16\u001b[0m         \u001b[0mNewXTraining\u001b[0m\u001b[1;33m.\u001b[0m\u001b[0mappend\u001b[0m\u001b[1;33m(\u001b[0m\u001b[0mXTraining\u001b[0m\u001b[1;33m[\u001b[0m\u001b[0mcounter\u001b[0m\u001b[1;33m]\u001b[0m\u001b[1;33m)\u001b[0m\u001b[1;33m\u001b[0m\u001b[1;33m\u001b[0m\u001b[0m\n",
      "\u001b[1;31mNameError\u001b[0m: name 'XMRDTraing' is not defined"
     ]
    }
   ],
   "source": [
    "####### MRD Cluster Set#######\n",
    "\n",
    "counter=0\n",
    "NewXTraining=[]\n",
    "NewYTraining=[]\n",
    "NewMRDTraining=[]\n",
    "NewXVal=[]\n",
    "NewYVal=[]\n",
    "NewMRDVal=[]\n",
    "NewXTest=[]\n",
    "NewYTest=[]\n",
    "NewMRDTest=[]\n",
    "\n",
    "for x in XMRDTraing:\n",
    "    if x[0]>=1:\n",
    "        NewXTraining.append(XTraining[counter])\n",
    "        NewYTraining.append(YTraining[counter])\n",
    "        NewMRDTraining.append(XMRDTraing[counter])\n",
    "    counter=counter+1\n",
    "counter=0\n",
    "for x in XMRDVal:\n",
    "    if x[0]>=1:\n",
    "        NewXVal.append(XVal[counter])\n",
    "        NewYVal.append(YVal[counter])\n",
    "        NewMRDVal.append(XMRDVal[counter])\n",
    "    counter=counter+1\n",
    "for x in XMRDTest:\n",
    "    if x[0]>=1:\n",
    "        NewXVTest.append(XTest[counter])\n",
    "        NewYTest.append(YTest[counter])\n",
    "        NewMRDTest.append(XMRDTest[counter])\n",
    "    counter=counter+1\n",
    "    \n",
    "NewYVal = np.array(NewYVal)\n",
    "NewYTraining = np.array(NewYTraining)\n",
    "NewYTest=np.array(NewYTest)\n",
    "NewXVal= np.array(NewXVal)\n",
    "NewXTraining=np.array(NewXTraining)\n",
    "NewXTest=np.array(NewXTest)\n",
    "NewMRDTraining=np.array(NewMRDTraining)\n",
    "NewMRDVal=np.array(NewMRDVal)\n",
    "NewMRDTest=np.array(NewMRDTest)"
   ]
  },
  {
   "cell_type": "code",
   "execution_count": 4,
   "metadata": {},
   "outputs": [
    {
     "ename": "NameError",
     "evalue": "name 'XMRDTraing' is not defined",
     "output_type": "error",
     "traceback": [
      "\u001b[1;31m---------------------------------------------------------------------------\u001b[0m",
      "\u001b[1;31mNameError\u001b[0m                                 Traceback (most recent call last)",
      "\u001b[1;32m<ipython-input-4-2313af3c1400>\u001b[0m in \u001b[0;36m<module>\u001b[1;34m\u001b[0m\n\u001b[1;32m----> 1\u001b[1;33m \u001b[0mXMRDTraing\u001b[0m\u001b[1;33m\u001b[0m\u001b[1;33m\u001b[0m\u001b[0m\n\u001b[0m",
      "\u001b[1;31mNameError\u001b[0m: name 'XMRDTraing' is not defined"
     ]
    }
   ],
   "source": [
    "XMRDTraing"
   ]
  },
  {
   "cell_type": "markdown",
   "metadata": {},
   "source": [
    "# Testen der besten Methode"
   ]
  },
  {
   "cell_type": "code",
   "execution_count": 5,
   "metadata": {},
   "outputs": [
    {
     "ename": "NameError",
     "evalue": "name 'XTraining' is not defined",
     "output_type": "error",
     "traceback": [
      "\u001b[1;31m---------------------------------------------------------------------------\u001b[0m",
      "\u001b[1;31mNameError\u001b[0m                                 Traceback (most recent call last)",
      "\u001b[1;32m<ipython-input-5-662a6e94f512>\u001b[0m in \u001b[0;36m<module>\u001b[1;34m\u001b[0m\n\u001b[1;32m----> 1\u001b[1;33m \u001b[0mXTraining\u001b[0m\u001b[1;33m.\u001b[0m\u001b[0mshape\u001b[0m\u001b[1;33m[\u001b[0m\u001b[1;36m1\u001b[0m\u001b[1;33m:\u001b[0m\u001b[1;33m]\u001b[0m\u001b[1;33m\u001b[0m\u001b[1;33m\u001b[0m\u001b[0m\n\u001b[0m",
      "\u001b[1;31mNameError\u001b[0m: name 'XTraining' is not defined"
     ]
    }
   ],
   "source": [
    "XTraining.shape[1:]"
   ]
  },
  {
   "cell_type": "code",
   "execution_count": 128,
   "metadata": {
    "scrolled": true
   },
   "outputs": [
    {
     "name": "stdout",
     "output_type": "stream",
     "text": [
      "Model: \"Model\"\n",
      "__________________________________________________________________________________________________\n",
      "Layer (type)                    Output Shape         Param #     Connected to                     \n",
      "==================================================================================================\n",
      "PMT (InputLayer)                [(None, 10, 24, 2)]  0                                            \n",
      "__________________________________________________________________________________________________\n",
      "conv2d_79 (Conv2D)              (None, 10, 24, 160)  3040        PMT[0][0]                        \n",
      "__________________________________________________________________________________________________\n",
      "max_pooling2d_79 (MaxPooling2D) (None, 5, 12, 160)   0           conv2d_79[0][0]                  \n",
      "__________________________________________________________________________________________________\n",
      "batch_normalization_189 (BatchN (None, 5, 12, 160)   640         max_pooling2d_79[0][0]           \n",
      "__________________________________________________________________________________________________\n",
      "dropout_183 (Dropout)           (None, 5, 12, 160)   0           batch_normalization_189[0][0]    \n",
      "__________________________________________________________________________________________________\n",
      "conv2d_80 (Conv2D)              (None, 5, 12, 160)   230560      dropout_183[0][0]                \n",
      "__________________________________________________________________________________________________\n",
      "max_pooling2d_80 (MaxPooling2D) (None, 3, 6, 160)    0           conv2d_80[0][0]                  \n",
      "__________________________________________________________________________________________________\n",
      "batch_normalization_190 (BatchN (None, 3, 6, 160)    640         max_pooling2d_80[0][0]           \n",
      "__________________________________________________________________________________________________\n",
      "dropout_184 (Dropout)           (None, 3, 6, 160)    0           batch_normalization_190[0][0]    \n",
      "__________________________________________________________________________________________________\n",
      "conv2d_81 (Conv2D)              (None, 3, 6, 160)    230560      dropout_184[0][0]                \n",
      "__________________________________________________________________________________________________\n",
      "max_pooling2d_81 (MaxPooling2D) (None, 2, 3, 160)    0           conv2d_81[0][0]                  \n",
      "__________________________________________________________________________________________________\n",
      "batch_normalization_191 (BatchN (None, 2, 3, 160)    640         max_pooling2d_81[0][0]           \n",
      "__________________________________________________________________________________________________\n",
      "dropout_185 (Dropout)           (None, 2, 3, 160)    0           batch_normalization_191[0][0]    \n",
      "__________________________________________________________________________________________________\n",
      "flatten_49 (Flatten)            (None, 960)          0           dropout_185[0][0]                \n",
      "__________________________________________________________________________________________________\n",
      "dense_161 (Dense)               (None, 512)          492032      flatten_49[0][0]                 \n",
      "__________________________________________________________________________________________________\n",
      "batch_normalization_192 (BatchN (None, 512)          2048        dense_161[0][0]                  \n",
      "__________________________________________________________________________________________________\n",
      "dropout_186 (Dropout)           (None, 512)          0           batch_normalization_192[0][0]    \n",
      "__________________________________________________________________________________________________\n",
      "dense_162 (Dense)               (None, 492)          252396      dropout_186[0][0]                \n",
      "__________________________________________________________________________________________________\n",
      "batch_normalization_193 (BatchN (None, 492)          1968        dense_162[0][0]                  \n",
      "__________________________________________________________________________________________________\n",
      "dropout_187 (Dropout)           (None, 492)          0           batch_normalization_193[0][0]    \n",
      "__________________________________________________________________________________________________\n",
      "dense_163 (Dense)               (None, 32)           15776       dropout_187[0][0]                \n",
      "__________________________________________________________________________________________________\n",
      "MRD (InputLayer)                [(None, 5)]          0                                            \n",
      "__________________________________________________________________________________________________\n",
      "batch_normalization_194 (BatchN (None, 32)           128         dense_163[0][0]                  \n",
      "__________________________________________________________________________________________________\n",
      "dense_164 (Dense)               (None, 6)            36          MRD[0][0]                        \n",
      "__________________________________________________________________________________________________\n",
      "dropout_188 (Dropout)           (None, 32)           0           batch_normalization_194[0][0]    \n",
      "__________________________________________________________________________________________________\n",
      "flatten_50 (Flatten)            (None, 6)            0           dense_164[0][0]                  \n",
      "__________________________________________________________________________________________________\n",
      "concatenate_20 (Concatenate)    (None, 38)           0           dropout_188[0][0]                \n",
      "                                                                 flatten_50[0][0]                 \n",
      "__________________________________________________________________________________________________\n",
      "dense_165 (Dense)               (None, 10)           390         concatenate_20[0][0]             \n",
      "__________________________________________________________________________________________________\n",
      "batch_normalization_195 (BatchN (None, 10)           40          dense_165[0][0]                  \n",
      "__________________________________________________________________________________________________\n",
      "dense_166 (Dense)               (None, 10)           110         batch_normalization_195[0][0]    \n",
      "__________________________________________________________________________________________________\n",
      "batch_normalization_196 (BatchN (None, 10)           40          dense_166[0][0]                  \n",
      "__________________________________________________________________________________________________\n",
      "dense_167 (Dense)               (None, 10)           110         batch_normalization_196[0][0]    \n",
      "__________________________________________________________________________________________________\n",
      "batch_normalization_197 (BatchN (None, 10)           40          dense_167[0][0]                  \n",
      "__________________________________________________________________________________________________\n",
      "dense_168 (Dense)               (None, 2)            22          batch_normalization_197[0][0]    \n",
      "==================================================================================================\n",
      "Total params: 1,231,216\n",
      "Trainable params: 1,228,124\n",
      "Non-trainable params: 3,092\n",
      "__________________________________________________________________________________________________\n"
     ]
    }
   ],
   "source": [
    "# dense_layers = [3]\n",
    "# layer_sizes = [160]\n",
    "# conv_layers = [3]\n",
    "# kernal_size = [(3,3)]\n",
    "#Ist schon normalisiert\n",
    "\n",
    "#NAME =\"BigData_Beamlike-32k-toy_res\"\n",
    "\n",
    "#tensorboard = TensorBoard(log_dir = 'logs\\{}'.format(NAME))\n",
    "\n",
    "\n",
    "inputDet = tf.keras.Input(shape=XTraining.shape[1:], name='PMT')\n",
    "inputMRD = tf.keras.Input(shape=(5), name='MRD')\n",
    "\n",
    "\n",
    "x = layers.Conv2D(160, kernel_size=(3,3),activation ='relu',padding='same')(inputDet)\n",
    "x = layers.MaxPooling2D(2,padding='same')(x)\n",
    "x = layers.BatchNormalization()(x)\n",
    "x = layers.Dropout(0.2)(x)\n",
    "\n",
    "x = layers.Conv2D(160, kernel_size=(3,3),activation ='relu',padding='same')(x)\n",
    "x = layers.MaxPooling2D(2,padding='same')(x)\n",
    "x = layers.BatchNormalization()(x)\n",
    "x = layers.Dropout(0.2)(x)\n",
    "\n",
    "x = layers.Conv2D(160, kernel_size=(3,3),activation ='relu',padding='same')(x)\n",
    "x = layers.MaxPooling2D(2,padding='same')(x)\n",
    "x = layers.BatchNormalization()(x)\n",
    "x = layers.Dropout(0.2)(x)\n",
    "\n",
    "#xP = layers.GlobalAveragePooling2D()(x)\n",
    "x = layers.Flatten()(x)\n",
    "\n",
    "x = layers.Dense(512, activation='sigmoid')(x)\n",
    "x = layers.BatchNormalization()(x)\n",
    "x = layers.Dropout(0.2)(x)\n",
    "\n",
    "x = layers.Dense(492, activation='sigmoid')(x)\n",
    "x = layers.BatchNormalization()(x)\n",
    "x = layers.Dropout(0.2)(x)\n",
    "\n",
    "x = layers.Dense(32, activation='sigmoid')(x)\n",
    "x = layers.BatchNormalization()(x)\n",
    "xP = layers.Dropout(0.2)(x)\n",
    "\n",
    "\n",
    "mrd = layers.Dense(6, activation='sigmoid')(inputMRD)\n",
    "#mrd =layers.Flatten()(mrd)\n",
    "\n",
    "\n",
    "x = layers.concatenate([xP, mrd]) #38\n",
    "#x = layers.Dropout(0.5)(x)\n",
    "x= layers.Dense(100, activation='sigmoid')(x)\n",
    "x= layers.BatchNormalization()(x)\n",
    "\n",
    "x= layers.Dense(100, activation='sigmoid')(x)\n",
    "x= layers.BatchNormalization()(x)\n",
    "\n",
    "\n",
    "outputs = layers.Dense(2, activation='softmax')(x)\n",
    "\n",
    "\n",
    "\n",
    "model = tf.keras.Model(inputs=[inputDet, inputMRD], outputs=[outputs], name='Model')\n",
    "\n",
    "model.summary()\n",
    "\n",
    "\n"
   ]
  },
  {
   "cell_type": "code",
   "execution_count": 129,
   "metadata": {},
   "outputs": [],
   "source": [
    "\n",
    "\n",
    "#Model compile\n",
    "model.compile(\n",
    "            optimizer='adam',\n",
    "            #optimizer = keras.optimizers.RMSprop(1e-3),\n",
    "            loss='categorical_crossentropy',\n",
    "            metrics=['acc'])\n",
    "\n",
    "\n",
    "#filepath=\"weights-improvement-{epoch:02d}-{val_acc:.2f}.hdf5\"\n",
    "filepath=\"PMTOnly_RingCounting-improvement-val-acc_{val_acc:.2f}.model\" \n",
    "checkpoint = ModelCheckpoint(filepath, monitor='val_acc', verbose=1, save_best_only=True, mode='max')\n",
    "monitor = EarlyStopping(monitor='val_loss', min_delta=1e-3, patience=10, verbose=1, mode='auto', restore_best_weights=False)\n",
    "\n",
    "\n",
    "#model Fit\n"
   ]
  },
  {
   "cell_type": "code",
   "execution_count": null,
   "metadata": {},
   "outputs": [],
   "source": [
    "XMRDTraing"
   ]
  },
  {
   "cell_type": "code",
   "execution_count": 130,
   "metadata": {
    "scrolled": true
   },
   "outputs": [
    {
     "name": "stdout",
     "output_type": "stream",
     "text": [
      "Train on 85000 samples, validate on 20000 samples\n",
      "Epoch 1/30\n",
      "85000/85000 [==============================] - 21s 246us/sample - loss: 0.3394 - acc: 0.8517 - val_loss: 0.2362 - val_acc: 0.9029\n",
      "Epoch 2/30\n",
      "85000/85000 [==============================] - 17s 196us/sample - loss: 0.2444 - acc: 0.8999 - val_loss: 0.1987 - val_acc: 0.9193\n",
      "Epoch 3/30\n",
      "85000/85000 [==============================] - 17s 197us/sample - loss: 0.2142 - acc: 0.9118 - val_loss: 0.2446 - val_acc: 0.9002\n",
      "Epoch 4/30\n",
      "85000/85000 [==============================] - 17s 199us/sample - loss: 0.1971 - acc: 0.9187 - val_loss: 0.2595 - val_acc: 0.8985\n",
      "Epoch 5/30\n",
      "85000/85000 [==============================] - 17s 199us/sample - loss: 0.1882 - acc: 0.9239 - val_loss: 0.1896 - val_acc: 0.9220\n",
      "Epoch 6/30\n",
      "85000/85000 [==============================] - 17s 200us/sample - loss: 0.1766 - acc: 0.9284 - val_loss: 0.1763 - val_acc: 0.9299\n",
      "Epoch 7/30\n",
      "85000/85000 [==============================] - 17s 205us/sample - loss: 0.1662 - acc: 0.9333 - val_loss: 0.1926 - val_acc: 0.9185\n",
      "Epoch 8/30\n",
      "85000/85000 [==============================] - 17s 204us/sample - loss: 0.1611 - acc: 0.9352 - val_loss: 0.1818 - val_acc: 0.9265\n",
      "Epoch 9/30\n",
      "85000/85000 [==============================] - 17s 202us/sample - loss: 0.1543 - acc: 0.9385 - val_loss: 0.1682 - val_acc: 0.9333\n",
      "Epoch 10/30\n",
      "85000/85000 [==============================] - 17s 204us/sample - loss: 0.1476 - acc: 0.9409 - val_loss: 0.1620 - val_acc: 0.9342\n",
      "Epoch 11/30\n",
      "85000/85000 [==============================] - 17s 204us/sample - loss: 0.1418 - acc: 0.9431 - val_loss: 0.1986 - val_acc: 0.9225\n",
      "Epoch 12/30\n",
      "85000/85000 [==============================] - 17s 205us/sample - loss: 0.1374 - acc: 0.9455 - val_loss: 0.1724 - val_acc: 0.9325\n",
      "Epoch 13/30\n",
      "85000/85000 [==============================] - 18s 214us/sample - loss: 0.1304 - acc: 0.9477 - val_loss: 0.1840 - val_acc: 0.9215\n",
      "Epoch 14/30\n",
      "85000/85000 [==============================] - 17s 198us/sample - loss: 0.1261 - acc: 0.9494 - val_loss: 0.2179 - val_acc: 0.9039\n",
      "Epoch 15/30\n",
      "85000/85000 [==============================] - 17s 203us/sample - loss: 0.1205 - acc: 0.9525 - val_loss: 0.1845 - val_acc: 0.9311\n",
      "Epoch 16/30\n",
      "85000/85000 [==============================] - 18s 209us/sample - loss: 0.1164 - acc: 0.9546 - val_loss: 0.1652 - val_acc: 0.9386\n",
      "Epoch 17/30\n",
      "85000/85000 [==============================] - 17s 198us/sample - loss: 0.1130 - acc: 0.9560 - val_loss: 0.1745 - val_acc: 0.9316\n",
      "Epoch 18/30\n",
      "85000/85000 [==============================] - 17s 197us/sample - loss: 0.1064 - acc: 0.9570 - val_loss: 0.1708 - val_acc: 0.9341\n",
      "Epoch 19/30\n",
      "85000/85000 [==============================] - 17s 197us/sample - loss: 0.1033 - acc: 0.9598 - val_loss: 0.1937 - val_acc: 0.9324\n",
      "Epoch 20/30\n",
      "85000/85000 [==============================] - 18s 206us/sample - loss: 0.1005 - acc: 0.9609 - val_loss: 0.1797 - val_acc: 0.9246\n",
      "Epoch 21/30\n",
      "85000/85000 [==============================] - 17s 206us/sample - loss: 0.0967 - acc: 0.9629 - val_loss: 0.2269 - val_acc: 0.9244\n",
      "Epoch 22/30\n",
      "85000/85000 [==============================] - 17s 202us/sample - loss: 0.0937 - acc: 0.9642 - val_loss: 0.1839 - val_acc: 0.9334\n",
      "Epoch 23/30\n",
      "85000/85000 [==============================] - 17s 204us/sample - loss: 0.0913 - acc: 0.9649 - val_loss: 0.1911 - val_acc: 0.9315\n",
      "Epoch 24/30\n",
      "85000/85000 [==============================] - 17s 200us/sample - loss: 0.0871 - acc: 0.9656 - val_loss: 0.1734 - val_acc: 0.9353\n",
      "Epoch 25/30\n",
      "85000/85000 [==============================] - 17s 199us/sample - loss: 0.0855 - acc: 0.9673 - val_loss: 0.1826 - val_acc: 0.9341\n",
      "Epoch 26/30\n",
      "85000/85000 [==============================] - 17s 199us/sample - loss: 0.0850 - acc: 0.9668 - val_loss: 0.1817 - val_acc: 0.9347\n",
      "Epoch 27/30\n",
      "85000/85000 [==============================] - 17s 199us/sample - loss: 0.0788 - acc: 0.9696 - val_loss: 0.1920 - val_acc: 0.9313\n",
      "Epoch 28/30\n",
      "85000/85000 [==============================] - 17s 203us/sample - loss: 0.0793 - acc: 0.9695 - val_loss: 0.1903 - val_acc: 0.9373\n",
      "Epoch 29/30\n",
      "85000/85000 [==============================] - 17s 199us/sample - loss: 0.0750 - acc: 0.9712 - val_loss: 0.1865 - val_acc: 0.9324\n",
      "Epoch 30/30\n",
      "85000/85000 [==============================] - 17s 198us/sample - loss: 0.0743 - acc: 0.9721 - val_loss: 0.1948 - val_acc: 0.9284\n",
      "dict_keys(['loss', 'acc', 'val_loss', 'val_acc'])\n"
     ]
    },
    {
     "data": {
      "image/png": "[encoded data removed]",
      "text/plain": [
       "<Figure size 432x288 with 1 Axes>"
      ]
     },
     "metadata": {
      "needs_background": "light"
     },
     "output_type": "display_data"
    },
    {
     "data": {
      "image/png": "[encoded data removed]",
      "text/plain": [
       "<Figure size 432x288 with 1 Axes>"
      ]
     },
     "metadata": {
      "needs_background": "light"
     },
     "output_type": "display_data"
    },
    {
     "name": "stdout",
     "output_type": "stream",
     "text": [
      "Ende des Versuchs: \n"
     ]
    }
   ],
   "source": [
    "\n",
    "history = model.fit([XTraining,XMRDTraing[:,:5]],\n",
    "                    YTraining,\n",
    "                    batch_size=100,\n",
    "                    #validation_split=0.2,\n",
    "                    \n",
    "                    validation_data=([XVal,XMRDVal[:,:5]],YVal),\n",
    "                    epochs= 30,\n",
    "                    \n",
    "                    shuffle=True,\n",
    "                    class_weight='balanced',\n",
    "                    callbacks=[\n",
    "                                #monitor,\n",
    "                                #checkpoint,\n",
    "                                #tensorboard \n",
    "                    ],\n",
    "                    verbose=1)\n",
    "\n",
    "# list all data in history\n",
    "print(history.history.keys())\n",
    "# summarize history for accuracy\n",
    "plt.plot(history.history['acc'])\n",
    "plt.plot(history.history['val_acc'])\n",
    "plt.title('model accuracy')\n",
    "plt.ylabel('accuracy')\n",
    "plt.xlabel('epoch')\n",
    "plt.legend(['train', 'test'], loc='upper left')\n",
    "plt.show()\n",
    "# summarize history for loss\n",
    "plt.plot(history.history['loss'])\n",
    "plt.plot(history.history['val_loss'])\n",
    "plt.title('model loss')\n",
    "plt.ylabel('loss')\n",
    "plt.xlabel('epoch')\n",
    "plt.legend(['train', 'test'], loc='upper left')\n",
    "plt.show()\n",
    "\n",
    "print(\"Ende des Versuchs: \")"
   ]
  },
  {
   "cell_type": "markdown",
   "metadata": {},
   "source": [
    "# Test with just Cluster approvements"
   ]
  },
  {
   "cell_type": "code",
   "execution_count": 104,
   "metadata": {},
   "outputs": [],
   "source": [
    "NewYVal = np.array(NewYVal)\n",
    "NewYVal.shape\n",
    "NewYTraining = np.array(NewYTraining )\n",
    "NewYTraining .shape\n",
    "NewXVal= np.array(NewXVal)\n",
    "NewXTraining=np.array(NewXTraining)\n",
    "NewMRDTraining=np.array(NewMRDTraining)\n",
    "NewMRDVal=np.array(NewMRDVal)"
   ]
  },
  {
   "cell_type": "code",
   "execution_count": 127,
   "metadata": {},
   "outputs": [
    {
     "name": "stdout",
     "output_type": "stream",
     "text": [
      "Model: \"sequential_10\"\n",
      "_________________________________________________________________\n",
      "Layer (type)                 Output Shape              Param #   \n",
      "=================================================================\n",
      "conv2d_76 (Conv2D)           (None, 10, 24, 160)       3040      \n",
      "_________________________________________________________________\n",
      "max_pooling2d_76 (MaxPooling (None, 5, 12, 160)        0         \n",
      "_________________________________________________________________\n",
      "batch_normalization_183 (Bat (None, 5, 12, 160)        640       \n",
      "_________________________________________________________________\n",
      "dropout_177 (Dropout)        (None, 5, 12, 160)        0         \n",
      "_________________________________________________________________\n",
      "conv2d_77 (Conv2D)           (None, 5, 12, 160)        230560    \n",
      "_________________________________________________________________\n",
      "max_pooling2d_77 (MaxPooling (None, 3, 6, 160)         0         \n",
      "_________________________________________________________________\n",
      "batch_normalization_184 (Bat (None, 3, 6, 160)         640       \n",
      "_________________________________________________________________\n",
      "dropout_178 (Dropout)        (None, 3, 6, 160)         0         \n",
      "_________________________________________________________________\n",
      "conv2d_78 (Conv2D)           (None, 3, 6, 160)         230560    \n",
      "_________________________________________________________________\n",
      "max_pooling2d_78 (MaxPooling (None, 2, 3, 160)         0         \n",
      "_________________________________________________________________\n",
      "batch_normalization_185 (Bat (None, 2, 3, 160)         640       \n",
      "_________________________________________________________________\n",
      "dropout_179 (Dropout)        (None, 2, 3, 160)         0         \n",
      "_________________________________________________________________\n",
      "flatten_48 (Flatten)         (None, 960)               0         \n",
      "_________________________________________________________________\n",
      "dense_157 (Dense)            (None, 512)               492032    \n",
      "_________________________________________________________________\n",
      "batch_normalization_186 (Bat (None, 512)               2048      \n",
      "_________________________________________________________________\n",
      "dropout_180 (Dropout)        (None, 512)               0         \n",
      "_________________________________________________________________\n",
      "dense_158 (Dense)            (None, 492)               252396    \n",
      "_________________________________________________________________\n",
      "batch_normalization_187 (Bat (None, 492)               1968      \n",
      "_________________________________________________________________\n",
      "dropout_181 (Dropout)        (None, 492)               0         \n",
      "_________________________________________________________________\n",
      "dense_159 (Dense)            (None, 32)                15776     \n",
      "_________________________________________________________________\n",
      "batch_normalization_188 (Bat (None, 32)                128       \n",
      "_________________________________________________________________\n",
      "dropout_182 (Dropout)        (None, 32)                0         \n",
      "_________________________________________________________________\n",
      "dense_160 (Dense)            (None, 2)                 66        \n",
      "_________________________________________________________________\n",
      "activation_9 (Activation)    (None, 2)                 0         \n",
      "=================================================================\n",
      "Total params: 1,230,494\n",
      "Trainable params: 1,227,462\n",
      "Non-trainable params: 3,032\n",
      "_________________________________________________________________\n",
      "Train on 6725 samples, validate on 1616 samples\n",
      "Epoch 1/60\n",
      "6725/6725 [==============================] - 5s 720us/sample - loss: 0.2890 - acc: 0.8901 - val_loss: 2.2974 - val_acc: 0.3731\n",
      "Epoch 2/60\n",
      "6725/6725 [==============================] - 1s 166us/sample - loss: 0.1737 - acc: 0.9435 - val_loss: 3.1895 - val_acc: 0.3731\n",
      "Epoch 3/60\n",
      "6725/6725 [==============================] - 1s 167us/sample - loss: 0.1377 - acc: 0.9548 - val_loss: 2.6999 - val_acc: 0.3731\n",
      "Epoch 4/60\n",
      "6725/6725 [==============================] - 1s 167us/sample - loss: 0.1203 - acc: 0.9596 - val_loss: 2.3722 - val_acc: 0.3731\n",
      "Epoch 5/60\n",
      "6725/6725 [==============================] - 1s 176us/sample - loss: 0.1030 - acc: 0.9659 - val_loss: 1.4178 - val_acc: 0.3731\n",
      "Epoch 6/60\n",
      "6725/6725 [==============================] - 1s 170us/sample - loss: 0.0944 - acc: 0.9670 - val_loss: 1.3083 - val_acc: 0.3824\n",
      "Epoch 7/60\n",
      "6725/6725 [==============================] - 1s 174us/sample - loss: 0.0812 - acc: 0.9726 - val_loss: 1.4187 - val_acc: 0.3929\n",
      "Epoch 8/60\n",
      "6725/6725 [==============================] - 1s 170us/sample - loss: 0.0712 - acc: 0.9753 - val_loss: 0.3536 - val_acc: 0.8515\n",
      "Epoch 9/60\n",
      "6725/6725 [==============================] - 1s 170us/sample - loss: 0.0728 - acc: 0.9756 - val_loss: 0.3151 - val_acc: 0.8762\n",
      "Epoch 10/60\n",
      "6725/6725 [==============================] - 1s 174us/sample - loss: 0.0633 - acc: 0.9772 - val_loss: 0.1455 - val_acc: 0.9493\n",
      "Epoch 11/60\n",
      "6725/6725 [==============================] - 1s 172us/sample - loss: 0.0636 - acc: 0.9781 - val_loss: 0.1776 - val_acc: 0.9598\n",
      "Epoch 12/60\n",
      "6725/6725 [==============================] - 1s 172us/sample - loss: 0.0548 - acc: 0.9799 - val_loss: 0.1697 - val_acc: 0.9616\n",
      "Epoch 13/60\n",
      "6725/6725 [==============================] - 1s 167us/sample - loss: 0.0524 - acc: 0.9805 - val_loss: 0.2875 - val_acc: 0.9115\n",
      "Epoch 14/60\n",
      "6725/6725 [==============================] - 1s 174us/sample - loss: 0.0447 - acc: 0.9836 - val_loss: 0.2132 - val_acc: 0.9499\n",
      "Epoch 15/60\n",
      "6725/6725 [==============================] - 1s 185us/sample - loss: 0.0421 - acc: 0.9850 - val_loss: 0.2025 - val_acc: 0.9418\n",
      "Epoch 16/60\n",
      "6725/6725 [==============================] - 1s 175us/sample - loss: 0.0365 - acc: 0.9880 - val_loss: 0.2489 - val_acc: 0.9486\n",
      "Epoch 17/60\n",
      "6725/6725 [==============================] - 1s 153us/sample - loss: 0.0396 - acc: 0.9872 - val_loss: 0.1498 - val_acc: 0.9567\n",
      "Epoch 18/60\n",
      "6725/6725 [==============================] - 1s 165us/sample - loss: 0.0227 - acc: 0.9933 - val_loss: 0.2197 - val_acc: 0.9542\n",
      "Epoch 19/60\n",
      "6725/6725 [==============================] - 1s 167us/sample - loss: 0.0189 - acc: 0.9948 - val_loss: 0.2676 - val_acc: 0.9363\n",
      "Epoch 20/60\n",
      "6725/6725 [==============================] - 1s 153us/sample - loss: 0.0688 - acc: 0.9767 - val_loss: 0.2166 - val_acc: 0.9369\n",
      "Epoch 21/60\n",
      "6725/6725 [==============================] - 1s 174us/sample - loss: 0.0354 - acc: 0.9875 - val_loss: 0.1989 - val_acc: 0.9573\n",
      "Epoch 22/60\n",
      "6725/6725 [==============================] - 1s 174us/sample - loss: 0.0231 - acc: 0.9929 - val_loss: 0.1849 - val_acc: 0.9610\n",
      "Epoch 23/60\n",
      "6725/6725 [==============================] - 1s 167us/sample - loss: 0.0403 - acc: 0.9860 - val_loss: 0.1872 - val_acc: 0.9567\n",
      "Epoch 24/60\n",
      "6725/6725 [==============================] - 1s 167us/sample - loss: 0.0298 - acc: 0.9896 - val_loss: 0.1957 - val_acc: 0.9554\n",
      "Epoch 25/60\n",
      "6725/6725 [==============================] - 1s 166us/sample - loss: 0.0181 - acc: 0.9936 - val_loss: 0.2075 - val_acc: 0.9616\n",
      "Epoch 26/60\n",
      "6725/6725 [==============================] - 1s 158us/sample - loss: 0.0310 - acc: 0.9884 - val_loss: 0.1802 - val_acc: 0.9524\n",
      "Epoch 27/60\n",
      "6725/6725 [==============================] - 1s 160us/sample - loss: 0.0215 - acc: 0.9936 - val_loss: 0.1764 - val_acc: 0.9598\n",
      "Epoch 28/60\n",
      "6725/6725 [==============================] - 1s 167us/sample - loss: 0.0162 - acc: 0.9941 - val_loss: 0.2327 - val_acc: 0.9604\n",
      "Epoch 29/60\n",
      "6725/6725 [==============================] - 1s 170us/sample - loss: 0.0141 - acc: 0.9958 - val_loss: 0.1729 - val_acc: 0.9653\n",
      "Epoch 30/60\n",
      "6725/6725 [==============================] - 1s 167us/sample - loss: 0.0165 - acc: 0.9942 - val_loss: 0.2554 - val_acc: 0.9350\n",
      "Epoch 31/60\n",
      "6725/6725 [==============================] - 1s 163us/sample - loss: 0.0278 - acc: 0.9908 - val_loss: 0.1786 - val_acc: 0.9647\n",
      "Epoch 32/60\n",
      "6725/6725 [==============================] - 1s 163us/sample - loss: 0.0144 - acc: 0.9954 - val_loss: 0.1875 - val_acc: 0.9666\n",
      "Epoch 33/60\n",
      "6725/6725 [==============================] - 1s 179us/sample - loss: 0.0227 - acc: 0.9924 - val_loss: 0.1595 - val_acc: 0.9629\n",
      "Epoch 34/60\n",
      "6725/6725 [==============================] - 1s 160us/sample - loss: 0.0095 - acc: 0.9966 - val_loss: 0.2472 - val_acc: 0.9548\n",
      "Epoch 35/60\n",
      "6725/6725 [==============================] - 1s 165us/sample - loss: 0.0184 - acc: 0.9938 - val_loss: 0.1881 - val_acc: 0.9660\n",
      "Epoch 36/60\n",
      "6725/6725 [==============================] - 1s 158us/sample - loss: 0.0207 - acc: 0.9923 - val_loss: 0.1792 - val_acc: 0.9666\n",
      "Epoch 37/60\n",
      "6725/6725 [==============================] - 1s 160us/sample - loss: 0.0139 - acc: 0.9957 - val_loss: 0.1847 - val_acc: 0.9623\n",
      "Epoch 38/60\n",
      "6725/6725 [==============================] - 1s 170us/sample - loss: 0.0131 - acc: 0.9955 - val_loss: 0.1745 - val_acc: 0.9573\n",
      "Epoch 39/60\n",
      "6725/6725 [==============================] - 1s 160us/sample - loss: 0.0090 - acc: 0.9976 - val_loss: 0.2764 - val_acc: 0.9505\n",
      "Epoch 40/60\n",
      "6725/6725 [==============================] - 1s 163us/sample - loss: 0.0100 - acc: 0.9963 - val_loss: 0.2989 - val_acc: 0.9418\n",
      "Epoch 41/60\n",
      "6725/6725 [==============================] - 1s 167us/sample - loss: 0.0114 - acc: 0.9964 - val_loss: 0.2087 - val_acc: 0.9623\n",
      "Epoch 42/60\n",
      "6725/6725 [==============================] - 1s 163us/sample - loss: 0.0232 - acc: 0.9921 - val_loss: 0.2193 - val_acc: 0.9455\n",
      "Epoch 43/60\n",
      "6725/6725 [==============================] - 1s 170us/sample - loss: 0.0271 - acc: 0.9908 - val_loss: 0.2844 - val_acc: 0.9486\n",
      "Epoch 44/60\n",
      "6725/6725 [==============================] - 1s 160us/sample - loss: 0.0146 - acc: 0.9955 - val_loss: 0.2043 - val_acc: 0.9573\n",
      "Epoch 45/60\n",
      "6725/6725 [==============================] - 1s 165us/sample - loss: 0.0126 - acc: 0.9952 - val_loss: 0.2386 - val_acc: 0.9511\n",
      "Epoch 46/60\n",
      "6725/6725 [==============================] - 1s 160us/sample - loss: 0.0231 - acc: 0.9927 - val_loss: 0.2220 - val_acc: 0.9567\n",
      "Epoch 47/60\n",
      "6725/6725 [==============================] - 1s 163us/sample - loss: 0.0165 - acc: 0.9945 - val_loss: 0.1798 - val_acc: 0.9672\n",
      "Epoch 48/60\n",
      "6725/6725 [==============================] - 1s 172us/sample - loss: 0.0080 - acc: 0.9969 - val_loss: 0.1672 - val_acc: 0.9660\n",
      "Epoch 49/60\n",
      "6725/6725 [==============================] - 1s 167us/sample - loss: 0.0165 - acc: 0.9954 - val_loss: 0.1834 - val_acc: 0.9629\n",
      "Epoch 50/60\n",
      "6725/6725 [==============================] - 1s 165us/sample - loss: 0.0100 - acc: 0.9976 - val_loss: 0.1591 - val_acc: 0.9672\n",
      "Epoch 51/60\n",
      "6725/6725 [==============================] - 1s 167us/sample - loss: 0.0076 - acc: 0.9973 - val_loss: 0.1749 - val_acc: 0.9678\n",
      "Epoch 52/60\n",
      "6725/6725 [==============================] - 1s 174us/sample - loss: 0.0117 - acc: 0.9958 - val_loss: 0.2314 - val_acc: 0.9530\n",
      "Epoch 53/60\n",
      "6725/6725 [==============================] - 1s 160us/sample - loss: 0.0247 - acc: 0.9917 - val_loss: 0.1936 - val_acc: 0.9666\n",
      "Epoch 54/60\n",
      "6725/6725 [==============================] - 1s 165us/sample - loss: 0.0090 - acc: 0.9978 - val_loss: 0.2907 - val_acc: 0.9474\n",
      "Epoch 55/60\n",
      "6725/6725 [==============================] - 1s 167us/sample - loss: 0.0080 - acc: 0.9976 - val_loss: 0.2465 - val_acc: 0.9554\n",
      "Epoch 56/60\n",
      "6725/6725 [==============================] - 1s 166us/sample - loss: 0.0085 - acc: 0.9975 - val_loss: 0.2474 - val_acc: 0.9579\n",
      "Epoch 57/60\n",
      "6725/6725 [==============================] - 1s 170us/sample - loss: 0.0071 - acc: 0.9969 - val_loss: 0.2047 - val_acc: 0.9684\n",
      "Epoch 58/60\n",
      "6725/6725 [==============================] - 1s 170us/sample - loss: 0.0067 - acc: 0.9978 - val_loss: 0.1741 - val_acc: 0.9684\n",
      "Epoch 59/60\n",
      "6725/6725 [==============================] - 1s 165us/sample - loss: 0.0072 - acc: 0.9972 - val_loss: 0.2129 - val_acc: 0.9635\n",
      "Epoch 60/60\n",
      "6725/6725 [==============================] - 1s 170us/sample - loss: 0.0154 - acc: 0.9952 - val_loss: 0.1772 - val_acc: 0.9660\n",
      "dict_keys(['loss', 'acc', 'val_loss', 'val_acc'])\n"
     ]
    },
    {
     "data": {
      "image/png": "[encoded data removed]",
      "text/plain": [
       "<Figure size 432x288 with 1 Axes>"
      ]
     },
     "metadata": {
      "needs_background": "light"
     },
     "output_type": "display_data"
    },
    {
     "data": {
      "image/png": "[encoded data removed]",
      "text/plain": [
       "<Figure size 432x288 with 1 Axes>"
      ]
     },
     "metadata": {
      "needs_background": "light"
     },
     "output_type": "display_data"
    },
    {
     "name": "stdout",
     "output_type": "stream",
     "text": [
      "Ende des Versuchs: \n"
     ]
    }
   ],
   "source": [
    "dense_layers = [3]\n",
    "layer_sizes = [160]\n",
    "conv_layers = [3]\n",
    "kernal_size = [(3,3)]\n",
    "for filter_size in kernal_size:\n",
    "    for dense_layer in dense_layers:\n",
    "        for layer_size in layer_sizes:\n",
    "            for conv_layer in conv_layers:\n",
    "\n",
    "                NAME =\"PMT-MuEl-{}-filter_size-{}-conv-{}-nodes-{}-dense\".format(filter_size,conv_layer, layer_size, dense_layer) #,int(time.time())\n",
    "                tensorboard = TensorBoard(log_dir = 'logs\\PMTplusLAPPD_CNN\\{}'.format(NAME))\n",
    "\n",
    "\n",
    "                model = Sequential()\n",
    "                model.add(Conv2D(layer_size,filter_size,strides=1, input_shape= NewXTraining.shape[1:],activation=\"relu\", padding='same'))                                               \n",
    "                model.add(MaxPooling2D(pool_size=(2,2),padding='same'))\n",
    "                model.add(BatchNormalization())\n",
    "                model.add(Dropout(0.2))\n",
    "                for l in range(conv_layer-1):                   \n",
    "                    model.add(Conv2D(layer_size,filter_size,padding='same',activation=\"relu\"))              \n",
    "                    model.add(MaxPooling2D(pool_size=(2,2),padding='same'))\n",
    "                    model.add(BatchNormalization())\n",
    "                    model.add(Dropout(0.2))            \n",
    "                #model.add(GlobalAveragePooling2D())\n",
    "                model.add(Flatten())\n",
    "                for l in range(dense_layer-1):\n",
    "                    model.add(Dense(512-l*20 ,activation=\"relu\" ))\n",
    "                    model.add(BatchNormalization())\n",
    "                    model.add(Dropout(0.2))\n",
    "                model.add(Dense(32,activation=\"relu\"))\n",
    "                model.add(BatchNormalization())\n",
    "                model.add(Dropout(0.2))\n",
    "                model.add(Dense(2))\n",
    "                model.add(Activation('softmax'))\n",
    "                #adam = tf.keras.optimizers.Adam(learning_rate=0.01, beta_1=0.9, beta_2=0.999, amsgrad=True, epsilon = 0.001)\n",
    "                model.compile(loss=\"binary_crossentropy\",\n",
    "                             optimizer=\"adam\",\n",
    "                              metrics=['accuracy']\n",
    "                             )   \n",
    "                filepath=\"CNN_PMT+LAPPD(1x1)_PID_120k_V3-improvement-val-acc_{val_acc:.2f}.model\"  \n",
    "                checkpoint = ModelCheckpoint(filepath, monitor='val_acc', verbose=1, save_best_only=True, mode='max')\n",
    "                #monitor = EarlyStopping(monitor='val_loss', min_delta=1e-3, patience=10, verbose=1, mode='auto', restore_best_weights=False)\n",
    "                model.summary()\n",
    "                history=model.fit(\n",
    "                    \n",
    "                    NewXTraining,NewYTraining,\n",
    "              #validation_data=(XVal,Yval)\n",
    "                 validation_data=(NewXVal,NewYVal)   \n",
    "                    \n",
    "              ,batch_size=100,\n",
    "                shuffle=True,\n",
    "                class_weight='balanced',\n",
    "                callbacks=[\n",
    "                            #monitor,\n",
    "                            #checkpoint,\n",
    "                            #tensorboard \n",
    "                ],\n",
    "              epochs= 60)\n",
    "                print(history.history.keys())\n",
    "                # summarize history for accuracy\n",
    "                plt.plot(history.history['acc'])\n",
    "                plt.plot(history.history['val_acc'])\n",
    "                plt.title('model accuracy')\n",
    "                plt.ylabel('accuracy')\n",
    "                plt.xlabel('epoch')\n",
    "                plt.legend(['train', 'test'], loc='upper left')\n",
    "                plt.show()\n",
    "                # summarize history for loss\n",
    "                plt.plot(history.history['loss'])\n",
    "                plt.plot(history.history['val_loss'])\n",
    "                plt.title('model loss')\n",
    "                plt.ylabel('loss')\n",
    "                plt.xlabel('epoch')\n",
    "                plt.legend(['train', 'test'], loc='upper left')\n",
    "                plt.show()\n",
    "\n",
    "                print(\"Ende des Versuchs: \")\n",
    "            "
   ]
  },
  {
   "cell_type": "code",
   "execution_count": null,
   "metadata": {},
   "outputs": [],
   "source": []
  },
  {
   "cell_type": "code",
   "execution_count": 122,
   "metadata": {
    "scrolled": true
   },
   "outputs": [
    {
     "name": "stdout",
     "output_type": "stream",
     "text": [
      "Model: \"Model\"\n",
      "__________________________________________________________________________________________________\n",
      "Layer (type)                    Output Shape         Param #     Connected to                     \n",
      "==================================================================================================\n",
      "PMT (InputLayer)                [(None, 10, 24, 2)]  0                                            \n",
      "__________________________________________________________________________________________________\n",
      "conv2d_70 (Conv2D)              (None, 10, 24, 160)  3040        PMT[0][0]                        \n",
      "__________________________________________________________________________________________________\n",
      "max_pooling2d_70 (MaxPooling2D) (None, 5, 12, 160)   0           conv2d_70[0][0]                  \n",
      "__________________________________________________________________________________________________\n",
      "batch_normalization_170 (BatchN (None, 5, 12, 160)   640         max_pooling2d_70[0][0]           \n",
      "__________________________________________________________________________________________________\n",
      "dropout_165 (Dropout)           (None, 5, 12, 160)   0           batch_normalization_170[0][0]    \n",
      "__________________________________________________________________________________________________\n",
      "conv2d_71 (Conv2D)              (None, 5, 12, 160)   230560      dropout_165[0][0]                \n",
      "__________________________________________________________________________________________________\n",
      "max_pooling2d_71 (MaxPooling2D) (None, 3, 6, 160)    0           conv2d_71[0][0]                  \n",
      "__________________________________________________________________________________________________\n",
      "batch_normalization_171 (BatchN (None, 3, 6, 160)    640         max_pooling2d_71[0][0]           \n",
      "__________________________________________________________________________________________________\n",
      "dropout_166 (Dropout)           (None, 3, 6, 160)    0           batch_normalization_171[0][0]    \n",
      "__________________________________________________________________________________________________\n",
      "conv2d_72 (Conv2D)              (None, 3, 6, 160)    230560      dropout_166[0][0]                \n",
      "__________________________________________________________________________________________________\n",
      "max_pooling2d_72 (MaxPooling2D) (None, 2, 3, 160)    0           conv2d_72[0][0]                  \n",
      "__________________________________________________________________________________________________\n",
      "batch_normalization_172 (BatchN (None, 2, 3, 160)    640         max_pooling2d_72[0][0]           \n",
      "__________________________________________________________________________________________________\n",
      "dropout_167 (Dropout)           (None, 2, 3, 160)    0           batch_normalization_172[0][0]    \n",
      "__________________________________________________________________________________________________\n",
      "flatten_45 (Flatten)            (None, 960)          0           dropout_167[0][0]                \n",
      "__________________________________________________________________________________________________\n",
      "dense_147 (Dense)               (None, 512)          492032      flatten_45[0][0]                 \n",
      "__________________________________________________________________________________________________\n",
      "batch_normalization_173 (BatchN (None, 512)          2048        dense_147[0][0]                  \n",
      "__________________________________________________________________________________________________\n",
      "dropout_168 (Dropout)           (None, 512)          0           batch_normalization_173[0][0]    \n",
      "__________________________________________________________________________________________________\n",
      "dense_148 (Dense)               (None, 492)          252396      dropout_168[0][0]                \n",
      "__________________________________________________________________________________________________\n",
      "batch_normalization_174 (BatchN (None, 492)          1968        dense_148[0][0]                  \n",
      "__________________________________________________________________________________________________\n",
      "dropout_169 (Dropout)           (None, 492)          0           batch_normalization_174[0][0]    \n",
      "__________________________________________________________________________________________________\n",
      "dense_149 (Dense)               (None, 32)           15776       dropout_169[0][0]                \n",
      "__________________________________________________________________________________________________\n",
      "MRD (InputLayer)                [(None, 5)]          0                                            \n",
      "__________________________________________________________________________________________________\n",
      "batch_normalization_175 (BatchN (None, 32)           128         dense_149[0][0]                  \n",
      "__________________________________________________________________________________________________\n",
      "dense_150 (Dense)               (None, 6)            36          MRD[0][0]                        \n",
      "__________________________________________________________________________________________________\n",
      "dropout_170 (Dropout)           (None, 32)           0           batch_normalization_175[0][0]    \n",
      "__________________________________________________________________________________________________\n",
      "flatten_46 (Flatten)            (None, 6)            0           dense_150[0][0]                  \n",
      "__________________________________________________________________________________________________\n",
      "concatenate_19 (Concatenate)    (None, 38)           0           dropout_170[0][0]                \n",
      "                                                                 flatten_46[0][0]                 \n",
      "__________________________________________________________________________________________________\n",
      "dense_151 (Dense)               (None, 10)           390         concatenate_19[0][0]             \n",
      "__________________________________________________________________________________________________\n",
      "batch_normalization_176 (BatchN (None, 10)           40          dense_151[0][0]                  \n",
      "__________________________________________________________________________________________________\n",
      "dense_152 (Dense)               (None, 2)            22          batch_normalization_176[0][0]    \n",
      "==================================================================================================\n",
      "Total params: 1,230,916\n",
      "Trainable params: 1,227,864\n",
      "Non-trainable params: 3,052\n",
      "__________________________________________________________________________________________________\n"
     ]
    }
   ],
   "source": [
    "# dense_layers = [3]\n",
    "# layer_sizes = [160]\n",
    "# conv_layers = [3]\n",
    "# kernal_size = [(3,3)]\n",
    "#Ist schon normalisiert\n",
    "\n",
    "#NAME =\"BigData_Beamlike-32k-toy_res\"\n",
    "\n",
    "#tensorboard = TensorBoard(log_dir = 'logs\\{}'.format(NAME))\n",
    "\n",
    "\n",
    "inputDet = tf.keras.Input(shape=NewXTraining.shape[1:], name='PMT')\n",
    "inputMRD = tf.keras.Input(shape=(5), name='MRD')\n",
    "\n",
    "\n",
    "x = layers.Conv2D(160, kernel_size=(3,3),activation ='relu',padding='same')(inputDet)\n",
    "x = layers.MaxPooling2D(2,padding='same')(x)\n",
    "x = layers.BatchNormalization()(x)\n",
    "x = layers.Dropout(0.2)(x)\n",
    "\n",
    "x = layers.Conv2D(160, kernel_size=(3,3),activation ='relu',padding='same')(x)\n",
    "x = layers.MaxPooling2D(2,padding='same')(x)\n",
    "x = layers.BatchNormalization()(x)\n",
    "x = layers.Dropout(0.2)(x)\n",
    "\n",
    "x = layers.Conv2D(160, kernel_size=(3,3),activation ='relu',padding='same')(x)\n",
    "x = layers.MaxPooling2D(2,padding='same')(x)\n",
    "x = layers.BatchNormalization()(x)\n",
    "x = layers.Dropout(0.2)(x)\n",
    "\n",
    "#xP = layers.GlobalAveragePooling2D()(x)\n",
    "x = layers.Flatten()(x)\n",
    "\n",
    "x = layers.Dense(512, activation='sigmoid')(x)\n",
    "x = layers.BatchNormalization()(x)\n",
    "x = layers.Dropout(0.2)(x)\n",
    "\n",
    "x = layers.Dense(492, activation='sigmoid')(x)\n",
    "x = layers.BatchNormalization()(x)\n",
    "x = layers.Dropout(0.2)(x)\n",
    "\n",
    "x = layers.Dense(32, activation='sigmoid')(x)\n",
    "x = layers.BatchNormalization()(x)\n",
    "xP = layers.Dropout(0.2)(x)\n",
    "\n",
    "\n",
    "mrd = layers.Dense(6, activation='sigmoid')(inputMRD)\n",
    "mrd =layers.Flatten()(mrd)\n",
    "\n",
    "\n",
    "x = layers.concatenate([xP, mrd])\n",
    "#x = layers.Dropout(0.5)(x)\n",
    "x= layers.Dense(10, activation='sigmoid')(x)\n",
    "x= layers.BatchNormalization()(x)\n",
    "\n",
    "\n",
    "outputs = layers.Dense(2, activation='softmax')(x)\n",
    "\n",
    "\n",
    "\n",
    "model = tf.keras.Model(inputs=[inputDet, inputMRD], outputs=[outputs], name='Model')\n",
    "\n",
    "model.summary()\n",
    "\n",
    "\n"
   ]
  },
  {
   "cell_type": "code",
   "execution_count": 112,
   "metadata": {},
   "outputs": [
    {
     "data": {
      "text/plain": [
       "(6725, 6)"
      ]
     },
     "execution_count": 112,
     "metadata": {},
     "output_type": "execute_result"
    }
   ],
   "source": [
    "NewMRDTraining.shape"
   ]
  },
  {
   "cell_type": "code",
   "execution_count": 113,
   "metadata": {},
   "outputs": [
    {
     "data": {
      "text/plain": [
       "(6725, 10, 24, 2)"
      ]
     },
     "execution_count": 113,
     "metadata": {},
     "output_type": "execute_result"
    }
   ],
   "source": [
    "NewXTraining.shape"
   ]
  },
  {
   "cell_type": "code",
   "execution_count": 117,
   "metadata": {},
   "outputs": [
    {
     "name": "stdout",
     "output_type": "stream",
     "text": [
      "[1013  603]\n",
      "[[0 1]\n",
      " [1 0]]\n",
      "37.31435643564357\n"
     ]
    }
   ],
   "source": [
    "unique, counts = np.unique(NewYVal, return_counts=True, axis=0)\n",
    "print(counts)\n",
    "print(unique)\n",
    "print(100/(counts[0]+counts[1])*counts[1])\n"
   ]
  },
  {
   "cell_type": "code",
   "execution_count": 116,
   "metadata": {},
   "outputs": [
    {
     "name": "stdout",
     "output_type": "stream",
     "text": [
      "[4134 2591]\n",
      "[[0 1]\n",
      " [1 0]]\n",
      "38.52788104089219\n"
     ]
    }
   ],
   "source": [
    "unique, counts = np.unique(NewYTraining, return_counts=True, axis=0)\n",
    "print(counts)\n",
    "print(unique)\n",
    "print(100/(counts[0]+counts[1])*counts[1])\n"
   ]
  },
  {
   "cell_type": "code",
   "execution_count": 123,
   "metadata": {},
   "outputs": [],
   "source": [
    "\n",
    "\n",
    "#Model compile\n",
    "model.compile(\n",
    "            #optimizer='adam',\n",
    "            optimizer = keras.optimizers.RMSprop(1e-3),\n",
    "            loss='categorical_crossentropy',\n",
    "            metrics=['acc'])\n",
    "\n",
    "\n",
    "#filepath=\"weights-improvement-{epoch:02d}-{val_acc:.2f}.hdf5\"\n",
    "filepath=\"PMTOnly_RingCounting-improvement-val-acc_{val_acc:.2f}.model\" \n",
    "checkpoint = ModelCheckpoint(filepath, monitor='val_acc', verbose=1, save_best_only=True, mode='max')\n",
    "monitor = EarlyStopping(monitor='val_loss', min_delta=1e-3, patience=10, verbose=1, mode='auto', restore_best_weights=False)\n",
    "\n",
    "\n",
    "#model Fit\n"
   ]
  },
  {
   "cell_type": "code",
   "execution_count": null,
   "metadata": {},
   "outputs": [],
   "source": [
    "XMRDTraing"
   ]
  },
  {
   "cell_type": "code",
   "execution_count": 125,
   "metadata": {
    "scrolled": true
   },
   "outputs": [
    {
     "name": "stdout",
     "output_type": "stream",
     "text": [
      "Train on 6725 samples, validate on 1616 samples\n",
      "Epoch 1/50\n",
      "6725/6725 [==============================] - 1s 184us/sample - loss: 0.0147 - acc: 0.9955 - val_loss: 0.1320 - val_acc: 0.9703\n",
      "Epoch 2/50\n",
      "6725/6725 [==============================] - 1s 177us/sample - loss: 0.0140 - acc: 0.9955 - val_loss: 0.1833 - val_acc: 0.9635\n",
      "Epoch 3/50\n",
      "6725/6725 [==============================] - 1s 174us/sample - loss: 0.0141 - acc: 0.9951 - val_loss: 0.1531 - val_acc: 0.9691\n",
      "Epoch 4/50\n",
      "6725/6725 [==============================] - 1s 177us/sample - loss: 0.0088 - acc: 0.9976 - val_loss: 0.1989 - val_acc: 0.9684\n",
      "Epoch 5/50\n",
      "6725/6725 [==============================] - 1s 185us/sample - loss: 0.0097 - acc: 0.9969 - val_loss: 0.1942 - val_acc: 0.9536\n",
      "Epoch 6/50\n",
      "6725/6725 [==============================] - 1s 190us/sample - loss: 0.0127 - acc: 0.9957 - val_loss: 0.1872 - val_acc: 0.9610\n",
      "Epoch 7/50\n",
      "6725/6725 [==============================] - 1s 184us/sample - loss: 0.0101 - acc: 0.9972 - val_loss: 0.2281 - val_acc: 0.9592\n",
      "Epoch 8/50\n",
      "6725/6725 [==============================] - 1s 184us/sample - loss: 0.0076 - acc: 0.9967 - val_loss: 0.1615 - val_acc: 0.9709\n",
      "Epoch 9/50\n",
      "6725/6725 [==============================] - 1s 183us/sample - loss: 0.0098 - acc: 0.9972 - val_loss: 0.2386 - val_acc: 0.9616\n",
      "Epoch 10/50\n",
      "6725/6725 [==============================] - 1s 184us/sample - loss: 0.0082 - acc: 0.9978 - val_loss: 0.2045 - val_acc: 0.9660\n",
      "Epoch 11/50\n",
      "6725/6725 [==============================] - 1s 176us/sample - loss: 0.0070 - acc: 0.9978 - val_loss: 0.1713 - val_acc: 0.9703\n",
      "Epoch 12/50\n",
      "6725/6725 [==============================] - 1s 176us/sample - loss: 0.0098 - acc: 0.9970 - val_loss: 0.2094 - val_acc: 0.9548\n",
      "Epoch 13/50\n",
      "6725/6725 [==============================] - 1s 177us/sample - loss: 0.0085 - acc: 0.9979 - val_loss: 0.1539 - val_acc: 0.9703\n",
      "Epoch 14/50\n",
      "6725/6725 [==============================] - 1s 186us/sample - loss: 0.0056 - acc: 0.9981 - val_loss: 0.2818 - val_acc: 0.9431\n",
      "Epoch 15/50\n",
      "6725/6725 [==============================] - 1s 179us/sample - loss: 0.0084 - acc: 0.9976 - val_loss: 0.1337 - val_acc: 0.9734\n",
      "Epoch 16/50\n",
      "6725/6725 [==============================] - 1s 177us/sample - loss: 0.0111 - acc: 0.9954 - val_loss: 0.1455 - val_acc: 0.9722\n",
      "Epoch 17/50\n",
      "6725/6725 [==============================] - 1s 179us/sample - loss: 0.0064 - acc: 0.9982 - val_loss: 0.1731 - val_acc: 0.9709\n",
      "Epoch 18/50\n",
      "6725/6725 [==============================] - 1s 179us/sample - loss: 0.0084 - acc: 0.9973 - val_loss: 0.1493 - val_acc: 0.9666\n",
      "Epoch 19/50\n",
      "6725/6725 [==============================] - 1s 184us/sample - loss: 0.0091 - acc: 0.9972 - val_loss: 0.2126 - val_acc: 0.9468\n",
      "Epoch 20/50\n",
      "6725/6725 [==============================] - 1s 174us/sample - loss: 0.0112 - acc: 0.9975 - val_loss: 0.1579 - val_acc: 0.9684\n",
      "Epoch 21/50\n",
      "6725/6725 [==============================] - 1s 179us/sample - loss: 0.0074 - acc: 0.9972 - val_loss: 0.1967 - val_acc: 0.9653\n",
      "Epoch 22/50\n",
      "6725/6725 [==============================] - 1s 177us/sample - loss: 0.0097 - acc: 0.9967 - val_loss: 0.1644 - val_acc: 0.9672\n",
      "Epoch 23/50\n",
      "6725/6725 [==============================] - 1s 184us/sample - loss: 0.0062 - acc: 0.9985 - val_loss: 0.1983 - val_acc: 0.9697\n",
      "Epoch 24/50\n",
      "6725/6725 [==============================] - 1s 177us/sample - loss: 0.0043 - acc: 0.9985 - val_loss: 0.2289 - val_acc: 0.9623\n",
      "Epoch 25/50\n",
      "6725/6725 [==============================] - 1s 174us/sample - loss: 0.0060 - acc: 0.9982 - val_loss: 0.1888 - val_acc: 0.9647\n",
      "Epoch 26/50\n",
      "6725/6725 [==============================] - 1s 174us/sample - loss: 0.0063 - acc: 0.9982 - val_loss: 0.2161 - val_acc: 0.9567\n",
      "Epoch 27/50\n",
      "6725/6725 [==============================] - 1s 184us/sample - loss: 0.0071 - acc: 0.9969 - val_loss: 0.1900 - val_acc: 0.9616\n",
      "Epoch 28/50\n",
      "6725/6725 [==============================] - 1s 174us/sample - loss: 0.0065 - acc: 0.9979 - val_loss: 0.2321 - val_acc: 0.9598\n",
      "Epoch 29/50\n",
      "6725/6725 [==============================] - 1s 177us/sample - loss: 0.0057 - acc: 0.9978 - val_loss: 0.2449 - val_acc: 0.9635\n",
      "Epoch 30/50\n",
      "6725/6725 [==============================] - 1s 177us/sample - loss: 0.0077 - acc: 0.9979 - val_loss: 0.2385 - val_acc: 0.9567\n",
      "Epoch 31/50\n",
      "6725/6725 [==============================] - 1s 179us/sample - loss: 0.0054 - acc: 0.9988 - val_loss: 0.2267 - val_acc: 0.9524\n",
      "Epoch 32/50\n",
      "6725/6725 [==============================] - 1s 184us/sample - loss: 0.0054 - acc: 0.9987 - val_loss: 0.1910 - val_acc: 0.9623\n",
      "Epoch 33/50\n",
      "6725/6725 [==============================] - 1s 177us/sample - loss: 0.0053 - acc: 0.9984 - val_loss: 0.2320 - val_acc: 0.9561\n",
      "Epoch 34/50\n",
      "6725/6725 [==============================] - 1s 177us/sample - loss: 0.0020 - acc: 0.9997 - val_loss: 0.2553 - val_acc: 0.9647\n",
      "Epoch 35/50\n",
      "6725/6725 [==============================] - 1s 177us/sample - loss: 0.0065 - acc: 0.9981 - val_loss: 0.2628 - val_acc: 0.9635\n",
      "Epoch 36/50\n",
      "6725/6725 [==============================] - 1s 179us/sample - loss: 0.0032 - acc: 0.9988 - val_loss: 0.2230 - val_acc: 0.9660\n",
      "Epoch 37/50\n",
      "6725/6725 [==============================] - 1s 179us/sample - loss: 0.0063 - acc: 0.9976 - val_loss: 0.2147 - val_acc: 0.9641\n",
      "Epoch 38/50\n",
      "6725/6725 [==============================] - 1s 171us/sample - loss: 0.0088 - acc: 0.9969 - val_loss: 0.2658 - val_acc: 0.9530\n",
      "Epoch 39/50\n",
      "6725/6725 [==============================] - 1s 175us/sample - loss: 0.0033 - acc: 0.9987 - val_loss: 0.2132 - val_acc: 0.9660\n",
      "Epoch 40/50\n",
      "6725/6725 [==============================] - 1s 182us/sample - loss: 0.0064 - acc: 0.9985 - val_loss: 0.1952 - val_acc: 0.9703\n",
      "Epoch 41/50\n",
      "6725/6725 [==============================] - 1s 178us/sample - loss: 0.0037 - acc: 0.9988 - val_loss: 0.1723 - val_acc: 0.9697\n",
      "Epoch 42/50\n",
      "6725/6725 [==============================] - 1s 172us/sample - loss: 0.0032 - acc: 0.9985 - val_loss: 0.1914 - val_acc: 0.9709\n",
      "Epoch 43/50\n",
      "6725/6725 [==============================] - 1s 174us/sample - loss: 0.0047 - acc: 0.9984 - val_loss: 0.1957 - val_acc: 0.9641\n",
      "Epoch 44/50\n",
      "6725/6725 [==============================] - 1s 177us/sample - loss: 0.0052 - acc: 0.9981 - val_loss: 0.2010 - val_acc: 0.9684\n",
      "Epoch 45/50\n",
      "6725/6725 [==============================] - 1s 181us/sample - loss: 0.0052 - acc: 0.9988 - val_loss: 0.1973 - val_acc: 0.9691\n",
      "Epoch 46/50\n",
      "6725/6725 [==============================] - 1s 177us/sample - loss: 0.0059 - acc: 0.9987 - val_loss: 0.1686 - val_acc: 0.9722\n",
      "Epoch 47/50\n",
      "6725/6725 [==============================] - 1s 172us/sample - loss: 0.0016 - acc: 0.9996 - val_loss: 0.1713 - val_acc: 0.9734\n",
      "Epoch 48/50\n",
      "6725/6725 [==============================] - 1s 175us/sample - loss: 0.0055 - acc: 0.9981 - val_loss: 0.3354 - val_acc: 0.9406\n",
      "Epoch 49/50\n",
      "6725/6725 [==============================] - 1s 185us/sample - loss: 0.0066 - acc: 0.9985 - val_loss: 0.2253 - val_acc: 0.9703\n",
      "Epoch 50/50\n",
      "6725/6725 [==============================] - 1s 172us/sample - loss: 0.0022 - acc: 0.9994 - val_loss: 0.2403 - val_acc: 0.9641\n",
      "dict_keys(['loss', 'acc', 'val_loss', 'val_acc'])\n"
     ]
    },
    {
     "data": {
      "image/png": "[encoded data removed]",
      "text/plain": [
       "<Figure size 432x288 with 1 Axes>"
      ]
     },
     "metadata": {
      "needs_background": "light"
     },
     "output_type": "display_data"
    },
    {
     "data": {
      "image/png": "[encoded data removed]",
      "text/plain": [
       "<Figure size 432x288 with 1 Axes>"
      ]
     },
     "metadata": {
      "needs_background": "light"
     },
     "output_type": "display_data"
    },
    {
     "name": "stdout",
     "output_type": "stream",
     "text": [
      "Ende des Versuchs: \n"
     ]
    }
   ],
   "source": [
    "\n",
    "history = model.fit([NewXTraining,NewMRDTraining[:,:5]],\n",
    "                    NewYTraining,\n",
    "                    batch_size=100,\n",
    "                    #validation_split=0.2,\n",
    "                    \n",
    "                    validation_data=([NewXVal,NewMRDVal[:,:5]],NewYVal),\n",
    "                    epochs= 50,\n",
    "                    \n",
    "                    shuffle=True,\n",
    "                    class_weight='balanced',\n",
    "                    callbacks=[\n",
    "                                #monitor,\n",
    "                                #checkpoint,\n",
    "                                #tensorboard \n",
    "                    ],\n",
    "                    verbose=1)\n",
    "\n",
    "# list all data in history\n",
    "print(history.history.keys())\n",
    "# summarize history for accuracy\n",
    "plt.plot(history.history['acc'])\n",
    "plt.plot(history.history['val_acc'])\n",
    "plt.title('model accuracy')\n",
    "plt.ylabel('accuracy')\n",
    "plt.xlabel('epoch')\n",
    "plt.legend(['train', 'test'], loc='upper left')\n",
    "plt.show()\n",
    "# summarize history for loss\n",
    "plt.plot(history.history['loss'])\n",
    "plt.plot(history.history['val_loss'])\n",
    "plt.title('model loss')\n",
    "plt.ylabel('loss')\n",
    "plt.xlabel('epoch')\n",
    "plt.legend(['train', 'test'], loc='upper left')\n",
    "plt.show()\n",
    "\n",
    "print(\"Ende des Versuchs: \")"
   ]
  },
  {
   "cell_type": "markdown",
   "metadata": {},
   "source": [
    "# Test with just feature map"
   ]
  },
  {
   "cell_type": "code",
   "execution_count": 56,
   "metadata": {},
   "outputs": [
    {
     "name": "stdout",
     "output_type": "stream",
     "text": [
      "Model: \"Model\"\n",
      "__________________________________________________________________________________________________\n",
      "Layer (type)                    Output Shape         Param #     Connected to                     \n",
      "==================================================================================================\n",
      "PMT (InputLayer)                [(None, 2)]          0                                            \n",
      "__________________________________________________________________________________________________\n",
      "MRD (InputLayer)                [(None, 6)]          0                                            \n",
      "__________________________________________________________________________________________________\n",
      "dense_84 (Dense)                (None, 2)            6           PMT[0][0]                        \n",
      "__________________________________________________________________________________________________\n",
      "dense_85 (Dense)                (None, 6)            42          MRD[0][0]                        \n",
      "__________________________________________________________________________________________________\n",
      "dropout_103 (Dropout)           (None, 2)            0           dense_84[0][0]                   \n",
      "__________________________________________________________________________________________________\n",
      "flatten_32 (Flatten)            (None, 6)            0           dense_85[0][0]                   \n",
      "__________________________________________________________________________________________________\n",
      "flatten_31 (Flatten)            (None, 2)            0           dropout_103[0][0]                \n",
      "__________________________________________________________________________________________________\n",
      "concatenate_15 (Concatenate)    (None, 8)            0           flatten_32[0][0]                 \n",
      "                                                                 flatten_31[0][0]                 \n",
      "__________________________________________________________________________________________________\n",
      "dense_86 (Dense)                (None, 8)            72          concatenate_15[0][0]             \n",
      "__________________________________________________________________________________________________\n",
      "batch_normalization_105 (BatchN (None, 8)            32          dense_86[0][0]                   \n",
      "__________________________________________________________________________________________________\n",
      "dropout_105 (Dropout)           (None, 8)            0           batch_normalization_105[0][0]    \n",
      "__________________________________________________________________________________________________\n",
      "dense_87 (Dense)                (None, 8)            72          dropout_105[0][0]                \n",
      "__________________________________________________________________________________________________\n",
      "batch_normalization_106 (BatchN (None, 8)            32          dense_87[0][0]                   \n",
      "__________________________________________________________________________________________________\n",
      "dropout_106 (Dropout)           (None, 8)            0           batch_normalization_106[0][0]    \n",
      "__________________________________________________________________________________________________\n",
      "dense_88 (Dense)                (None, 6)            54          dropout_106[0][0]                \n",
      "__________________________________________________________________________________________________\n",
      "batch_normalization_107 (BatchN (None, 6)            24          dense_88[0][0]                   \n",
      "__________________________________________________________________________________________________\n",
      "dropout_107 (Dropout)           (None, 6)            0           batch_normalization_107[0][0]    \n",
      "__________________________________________________________________________________________________\n",
      "dense_89 (Dense)                (None, 2)            14          dropout_107[0][0]                \n",
      "==================================================================================================\n",
      "Total params: 348\n",
      "Trainable params: 304\n",
      "Non-trainable params: 44\n",
      "__________________________________________________________________________________________________\n"
     ]
    }
   ],
   "source": [
    "# dense_layers = [3]\n",
    "# layer_sizes = [160]\n",
    "# conv_layers = [3]\n",
    "# kernal_size = [(3,3)]\n",
    "#Ist schon normalisiert\n",
    "\n",
    "#NAME =\"BigData_Beamlike-32k-toy_res\"\n",
    "\n",
    "#tensorboard = TensorBoard(log_dir = 'logs\\{}'.format(NAME))\n",
    "\n",
    "\n",
    "inputDet = tf.keras.Input(shape=predictionTraining.shape[1:], name='PMT')\n",
    "inputMRD = tf.keras.Input(shape=(6), name='MRD')\n",
    "\n",
    "\n",
    "x = layers.Dense(2, activation='sigmoid')(inputDet)\n",
    "x = layers.Dropout(0.5)(x)\n",
    "xP =layers.Flatten()(x)\n",
    "\n",
    "\n",
    "\n",
    "mrd = layers.Dense(6, activation='sigmoid')(inputMRD)\n",
    "x = layers.Dropout(0.5)(x)\n",
    "mrd =layers.Flatten()(mrd)\n",
    "\n",
    "x = layers.concatenate([mrd, xP])\n",
    "#x = layers.concatenate([xP, mrd])\n",
    "\n",
    "\n",
    "x= layers.Dense(8, activation='sigmoid')(x)\n",
    "x= layers.BatchNormalization()(x)\n",
    "x= layers.Dropout(0.2)(x)\n",
    "\n",
    "x= layers.Dense(8, activation='sigmoid')(x)\n",
    "x= layers.BatchNormalization()(x)\n",
    "x= layers.Dropout(0.2)(x)\n",
    "\n",
    "\n",
    "x= layers.Dense(6, activation='sigmoid')(x)\n",
    "x= layers.BatchNormalization()(x)\n",
    "x= layers.Dropout(0.2)(x)\n",
    "\n",
    "\n",
    "outputs = layers.Dense(2, activation='softmax')(x)\n",
    "\n",
    "\n",
    "\n",
    "model = tf.keras.Model(inputs=[inputDet, inputMRD], outputs=[outputs], name='Model')\n",
    "\n",
    "model.summary()\n",
    "\n",
    "\n"
   ]
  },
  {
   "cell_type": "code",
   "execution_count": 57,
   "metadata": {
    "scrolled": true
   },
   "outputs": [
    {
     "name": "stdout",
     "output_type": "stream",
     "text": [
      "Train on 85000 samples, validate on 20000 samples\n",
      "Epoch 1/30\n",
      "85000/85000 [==============================] - 3s 33us/sample - loss: 0.7029 - acc: 0.5654 - val_loss: 0.7128 - val_acc: 0.5020\n",
      "Epoch 2/30\n",
      "85000/85000 [==============================] - 1s 9us/sample - loss: 0.6265 - acc: 0.6126 - val_loss: 0.7097 - val_acc: 0.5020\n",
      "Epoch 3/30\n",
      "85000/85000 [==============================] - 1s 10us/sample - loss: 0.5784 - acc: 0.6533 - val_loss: 0.7339 - val_acc: 0.5020\n",
      "Epoch 4/30\n",
      "85000/85000 [==============================] - 1s 9us/sample - loss: 0.5314 - acc: 0.7004 - val_loss: 0.8156 - val_acc: 0.5020\n",
      "Epoch 5/30\n",
      "85000/85000 [==============================] - 1s 10us/sample - loss: 0.4882 - acc: 0.7363 - val_loss: 0.9815 - val_acc: 0.5020\n",
      "Epoch 6/30\n",
      "85000/85000 [==============================] - 1s 10us/sample - loss: 0.4508 - acc: 0.7658 - val_loss: 1.1382 - val_acc: 0.5020\n",
      "Epoch 7/30\n",
      "85000/85000 [==============================] - 1s 9us/sample - loss: 0.4244 - acc: 0.7820 - val_loss: 0.9212 - val_acc: 0.5020\n",
      "Epoch 8/30\n",
      "85000/85000 [==============================] - 1s 10us/sample - loss: 0.4043 - acc: 0.7945 - val_loss: 0.8198 - val_acc: 0.5020\n",
      "Epoch 9/30\n",
      "85000/85000 [==============================] - 1s 10us/sample - loss: 0.3882 - acc: 0.8003 - val_loss: 1.2040 - val_acc: 0.5020\n",
      "Epoch 10/30\n",
      "85000/85000 [==============================] - 1s 10us/sample - loss: 0.3740 - acc: 0.8076 - val_loss: 1.3004 - val_acc: 0.5020\n",
      "Epoch 11/30\n",
      "85000/85000 [==============================] - 1s 10us/sample - loss: 0.3613 - acc: 0.8151 - val_loss: 1.3197 - val_acc: 0.5020\n",
      "Epoch 12/30\n",
      "85000/85000 [==============================] - 1s 10us/sample - loss: 0.3498 - acc: 0.8209 - val_loss: 1.4004 - val_acc: 0.5020\n",
      "Epoch 13/30\n",
      "85000/85000 [==============================] - 1s 10us/sample - loss: 0.3471 - acc: 0.8224 - val_loss: 1.5222 - val_acc: 0.5020\n",
      "Epoch 14/30\n",
      "85000/85000 [==============================] - 1s 10us/sample - loss: 0.3392 - acc: 0.8239 - val_loss: 1.4656 - val_acc: 0.5020\n",
      "Epoch 15/30\n",
      "85000/85000 [==============================] - 1s 10us/sample - loss: 0.3373 - acc: 0.8293 - val_loss: 1.5110 - val_acc: 0.5020\n",
      "Epoch 16/30\n",
      "85000/85000 [==============================] - 1s 10us/sample - loss: 0.3315 - acc: 0.8320 - val_loss: 1.4989 - val_acc: 0.5020\n",
      "Epoch 17/30\n",
      "85000/85000 [==============================] - 1s 10us/sample - loss: 0.3295 - acc: 0.8342 - val_loss: 1.4513 - val_acc: 0.5020\n",
      "Epoch 18/30\n",
      "85000/85000 [==============================] - 1s 10us/sample - loss: 0.3263 - acc: 0.8362 - val_loss: 1.5776 - val_acc: 0.5020\n",
      "Epoch 19/30\n",
      "85000/85000 [==============================] - 1s 10us/sample - loss: 0.3222 - acc: 0.8388 - val_loss: 1.5093 - val_acc: 0.5020\n",
      "Epoch 20/30\n",
      "85000/85000 [==============================] - 1s 10us/sample - loss: 0.3210 - acc: 0.8380 - val_loss: 1.5275 - val_acc: 0.5020\n",
      "Epoch 21/30\n",
      "85000/85000 [==============================] - 1s 10us/sample - loss: 0.3219 - acc: 0.8377 - val_loss: 1.5098 - val_acc: 0.5020\n",
      "Epoch 22/30\n",
      "85000/85000 [==============================] - 1s 10us/sample - loss: 0.3216 - acc: 0.8374 - val_loss: 1.5688 - val_acc: 0.5020\n",
      "Epoch 23/30\n",
      "85000/85000 [==============================] - 1s 10us/sample - loss: 0.3179 - acc: 0.8396 - val_loss: 1.6160 - val_acc: 0.5020\n",
      "Epoch 24/30\n",
      "85000/85000 [==============================] - 1s 10us/sample - loss: 0.3163 - acc: 0.8421 - val_loss: 1.6060 - val_acc: 0.5020\n",
      "Epoch 25/30\n",
      "85000/85000 [==============================] - 1s 9us/sample - loss: 0.3173 - acc: 0.8414 - val_loss: 1.5828 - val_acc: 0.5020\n",
      "Epoch 26/30\n",
      "85000/85000 [==============================] - 1s 10us/sample - loss: 0.3124 - acc: 0.8443 - val_loss: 1.5052 - val_acc: 0.5020\n",
      "Epoch 27/30\n",
      "85000/85000 [==============================] - 1s 9us/sample - loss: 0.3100 - acc: 0.8465 - val_loss: 1.6591 - val_acc: 0.5020\n",
      "Epoch 28/30\n",
      "85000/85000 [==============================] - 1s 9us/sample - loss: 0.3101 - acc: 0.8470 - val_loss: 1.6494 - val_acc: 0.5020\n",
      "Epoch 29/30\n",
      "85000/85000 [==============================] - 1s 9us/sample - loss: 0.3126 - acc: 0.8462 - val_loss: 1.6525 - val_acc: 0.5020\n",
      "Epoch 30/30\n",
      "85000/85000 [==============================] - 1s 9us/sample - loss: 0.3114 - acc: 0.8445 - val_loss: 1.6588 - val_acc: 0.5020\n",
      "dict_keys(['loss', 'acc', 'val_loss', 'val_acc'])\n"
     ]
    },
    {
     "data": {
      "image/png": "[encoded data removed]",
      "text/plain": [
       "<Figure size 432x288 with 1 Axes>"
      ]
     },
     "metadata": {
      "needs_background": "light"
     },
     "output_type": "display_data"
    },
    {
     "data": {
      "image/png": "[encoded data removed]",
      "text/plain": [
       "<Figure size 432x288 with 1 Axes>"
      ]
     },
     "metadata": {
      "needs_background": "light"
     },
     "output_type": "display_data"
    },
    {
     "name": "stdout",
     "output_type": "stream",
     "text": [
      "Ende des Versuchs: \n"
     ]
    }
   ],
   "source": [
    "\n",
    "\n",
    "#Model compile\n",
    "model.compile(\n",
    "            optimizer='adam',\n",
    "            #optimizer = keras.optimizers.RMSprop(1e-3),\n",
    "            loss='categorical_crossentropy',\n",
    "            metrics=['acc'])\n",
    "\n",
    "\n",
    "#filepath=\"weights-improvement-{epoch:02d}-{val_acc:.2f}.hdf5\"\n",
    "filepath=\"PMTOnly_RingCounting-improvement-val-acc_{val_acc:.2f}.model\" \n",
    "checkpoint = ModelCheckpoint(filepath, monitor='val_acc', verbose=1, save_best_only=True, mode='max')\n",
    "monitor = EarlyStopping(monitor='val_loss', min_delta=1e-3, patience=10, verbose=1, mode='auto', restore_best_weights=False)\n",
    "\n",
    "\n",
    "#model Fit\n",
    "\n",
    "history = model.fit([predictionTraining,XMRDTraing],\n",
    "                    YTraining,\n",
    "                    batch_size=1000,\n",
    "                    #validation_split=0.2,\n",
    "                    \n",
    "                    validation_data=([predictionVal,XMRDVal],YVal),\n",
    "                    epochs= 30,\n",
    "                    \n",
    "                    shuffle=True,\n",
    "                    class_weight='balanced',\n",
    "                    callbacks=[\n",
    "                                #monitor,\n",
    "                                #checkpoint,\n",
    "                                #tensorboard \n",
    "                    ],\n",
    "                    verbose=1)\n",
    "\n",
    "# list all data in history\n",
    "print(history.history.keys())\n",
    "# summarize history for accuracy\n",
    "plt.plot(history.history['acc'])\n",
    "plt.plot(history.history['val_acc'])\n",
    "plt.title('model accuracy')\n",
    "plt.ylabel('accuracy')\n",
    "plt.xlabel('epoch')\n",
    "plt.legend(['train', 'test'], loc='upper left')\n",
    "plt.show()\n",
    "# summarize history for loss\n",
    "plt.plot(history.history['loss'])\n",
    "plt.plot(history.history['val_loss'])\n",
    "plt.title('model loss')\n",
    "plt.ylabel('loss')\n",
    "plt.xlabel('epoch')\n",
    "plt.legend(['train', 'test'], loc='upper left')\n",
    "plt.show()\n",
    "\n",
    "print(\"Ende des Versuchs: \")"
   ]
  },
  {
   "cell_type": "markdown",
   "metadata": {},
   "source": [
    "# Test MRD"
   ]
  },
  {
   "cell_type": "code",
   "execution_count": 66,
   "metadata": {},
   "outputs": [
    {
     "name": "stdout",
     "output_type": "stream",
     "text": [
      "Model: \"Model\"\n",
      "_________________________________________________________________\n",
      "Layer (type)                 Output Shape              Param #   \n",
      "=================================================================\n",
      "MRD (InputLayer)             [(None, 6)]               0         \n",
      "_________________________________________________________________\n",
      "dense_105 (Dense)            (None, 6)                 42        \n",
      "_________________________________________________________________\n",
      "dense_106 (Dense)            (None, 2)                 14        \n",
      "=================================================================\n",
      "Total params: 56\n",
      "Trainable params: 56\n",
      "Non-trainable params: 0\n",
      "_________________________________________________________________\n"
     ]
    }
   ],
   "source": [
    "# dense_layers = [3]\n",
    "# layer_sizes = [160]\n",
    "# conv_layers = [3]\n",
    "# kernal_size = [(3,3)]\n",
    "#Ist schon normalisiert\n",
    "\n",
    "#NAME =\"BigData_Beamlike-32k-toy_res\"\n",
    "\n",
    "#tensorboard = TensorBoard(log_dir = 'logs\\{}'.format(NAME))\n",
    "\n",
    "\n",
    "\n",
    "inputMRD = tf.keras.Input(shape=(6), name='MRD')\n",
    "\n",
    "\n",
    "mrd = layers.Dense(6, activation='sigmoid')(inputMRD)\n",
    "\n",
    "\n",
    "\n",
    "#x = layers.concatenate([xP, mrd])\n",
    "\n",
    "\n",
    "outputs = layers.Dense(2, activation='softmax')(mrd)\n",
    "\n",
    "\n",
    "\n",
    "model = tf.keras.Model(inputs=[inputMRD], outputs=[outputs], name='Model')\n",
    "\n",
    "model.summary()\n",
    "\n",
    "\n"
   ]
  },
  {
   "cell_type": "code",
   "execution_count": 61,
   "metadata": {},
   "outputs": [
    {
     "data": {
      "text/plain": [
       "((85000, 6), (20000, 6))"
      ]
     },
     "execution_count": 61,
     "metadata": {},
     "output_type": "execute_result"
    }
   ],
   "source": [
    "XMRDTraing.shape,XMRDVal.shape"
   ]
  },
  {
   "cell_type": "code",
   "execution_count": 67,
   "metadata": {},
   "outputs": [
    {
     "name": "stdout",
     "output_type": "stream",
     "text": [
      "Train on 85000 samples, validate on 20000 samples\n",
      "Epoch 1/30\n",
      "85000/85000 [==============================] - 2s 24us/sample - loss: 0.7099 - acc: 0.5000 - val_loss: 0.6932 - val_acc: 0.4980\n",
      "Epoch 2/30\n",
      "85000/85000 [==============================] - 0s 4us/sample - loss: 0.6932 - acc: 0.4972 - val_loss: 0.6932 - val_acc: 0.4980\n",
      "Epoch 3/30\n",
      "85000/85000 [==============================] - 0s 4us/sample - loss: 0.6932 - acc: 0.5017 - val_loss: 0.6932 - val_acc: 0.5020\n",
      "Epoch 4/30\n",
      "85000/85000 [==============================] - 0s 4us/sample - loss: 0.6932 - acc: 0.4973 - val_loss: 0.6931 - val_acc: 0.4980\n",
      "Epoch 5/30\n",
      "85000/85000 [==============================] - 0s 4us/sample - loss: 0.6932 - acc: 0.4983 - val_loss: 0.6931 - val_acc: 0.5020\n",
      "Epoch 6/30\n",
      "85000/85000 [==============================] - 0s 4us/sample - loss: 0.6932 - acc: 0.5012 - val_loss: 0.6931 - val_acc: 0.5020\n",
      "Epoch 7/30\n",
      "85000/85000 [==============================] - 0s 4us/sample - loss: 0.6932 - acc: 0.5001 - val_loss: 0.6933 - val_acc: 0.4980\n",
      "Epoch 8/30\n",
      "85000/85000 [==============================] - 0s 4us/sample - loss: 0.6932 - acc: 0.4997 - val_loss: 0.6932 - val_acc: 0.5020\n",
      "Epoch 9/30\n",
      "85000/85000 [==============================] - 0s 5us/sample - loss: 0.6932 - acc: 0.5007 - val_loss: 0.6932 - val_acc: 0.5020\n",
      "Epoch 10/30\n",
      "85000/85000 [==============================] - 0s 4us/sample - loss: 0.6932 - acc: 0.4993 - val_loss: 0.6932 - val_acc: 0.4980\n",
      "Epoch 11/30\n",
      "85000/85000 [==============================] - 0s 5us/sample - loss: 0.6932 - acc: 0.4976 - val_loss: 0.6932 - val_acc: 0.4980\n",
      "Epoch 12/30\n",
      "85000/85000 [==============================] - 0s 4us/sample - loss: 0.6932 - acc: 0.4958 - val_loss: 0.6932 - val_acc: 0.4980\n",
      "Epoch 13/30\n",
      "85000/85000 [==============================] - 0s 5us/sample - loss: 0.6932 - acc: 0.4968 - val_loss: 0.6931 - val_acc: 0.5020\n",
      "Epoch 14/30\n",
      "85000/85000 [==============================] - 0s 4us/sample - loss: 0.6932 - acc: 0.5005 - val_loss: 0.6932 - val_acc: 0.5020\n",
      "Epoch 15/30\n",
      "85000/85000 [==============================] - 0s 5us/sample - loss: 0.6932 - acc: 0.4987 - val_loss: 0.6932 - val_acc: 0.4980\n",
      "Epoch 16/30\n",
      "85000/85000 [==============================] - 0s 4us/sample - loss: 0.6932 - acc: 0.5023 - val_loss: 0.6933 - val_acc: 0.4980\n",
      "Epoch 17/30\n",
      "85000/85000 [==============================] - 0s 4us/sample - loss: 0.6932 - acc: 0.5012 - val_loss: 0.6931 - val_acc: 0.5020\n",
      "Epoch 18/30\n",
      "85000/85000 [==============================] - 0s 4us/sample - loss: 0.6932 - acc: 0.5008 - val_loss: 0.6932 - val_acc: 0.4980\n",
      "Epoch 19/30\n",
      "85000/85000 [==============================] - 0s 4us/sample - loss: 0.6932 - acc: 0.5008 - val_loss: 0.6932 - val_acc: 0.4980\n",
      "Epoch 20/30\n",
      "85000/85000 [==============================] - 0s 4us/sample - loss: 0.6932 - acc: 0.4968 - val_loss: 0.6932 - val_acc: 0.5020\n",
      "Epoch 21/30\n",
      "85000/85000 [==============================] - 0s 4us/sample - loss: 0.6932 - acc: 0.5004 - val_loss: 0.6932 - val_acc: 0.4980\n",
      "Epoch 22/30\n",
      "85000/85000 [==============================] - 0s 5us/sample - loss: 0.6932 - acc: 0.4998 - val_loss: 0.6932 - val_acc: 0.4980\n",
      "Epoch 23/30\n",
      "85000/85000 [==============================] - 0s 4us/sample - loss: 0.6932 - acc: 0.5002 - val_loss: 0.6932 - val_acc: 0.4980\n",
      "Epoch 24/30\n",
      "85000/85000 [==============================] - 0s 4us/sample - loss: 0.6932 - acc: 0.4969 - val_loss: 0.6931 - val_acc: 0.5020\n",
      "Epoch 25/30\n",
      "85000/85000 [==============================] - 0s 4us/sample - loss: 0.6932 - acc: 0.4999 - val_loss: 0.6932 - val_acc: 0.4980\n",
      "Epoch 26/30\n",
      "85000/85000 [==============================] - 0s 5us/sample - loss: 0.6932 - acc: 0.4989 - val_loss: 0.6932 - val_acc: 0.5020\n",
      "Epoch 27/30\n",
      "85000/85000 [==============================] - 0s 4us/sample - loss: 0.6932 - acc: 0.4992 - val_loss: 0.6931 - val_acc: 0.5020\n",
      "Epoch 28/30\n",
      "85000/85000 [==============================] - 0s 5us/sample - loss: 0.6932 - acc: 0.5030 - val_loss: 0.6932 - val_acc: 0.4980\n",
      "Epoch 29/30\n",
      "85000/85000 [==============================] - 0s 4us/sample - loss: 0.6932 - acc: 0.4950 - val_loss: 0.6931 - val_acc: 0.5020\n",
      "Epoch 30/30\n",
      "85000/85000 [==============================] - 0s 4us/sample - loss: 0.6932 - acc: 0.5002 - val_loss: 0.6932 - val_acc: 0.5020\n",
      "dict_keys(['loss', 'acc', 'val_loss', 'val_acc'])\n"
     ]
    },
    {
     "data": {
      "image/png": "[encoded data removed]",
      "text/plain": [
       "<Figure size 432x288 with 1 Axes>"
      ]
     },
     "metadata": {
      "needs_background": "light"
     },
     "output_type": "display_data"
    },
    {
     "data": {
      "image/png": "[encoded data removed]",
      "text/plain": [
       "<Figure size 432x288 with 1 Axes>"
      ]
     },
     "metadata": {
      "needs_background": "light"
     },
     "output_type": "display_data"
    },
    {
     "name": "stdout",
     "output_type": "stream",
     "text": [
      "Ende des Versuchs: \n"
     ]
    }
   ],
   "source": [
    "\n",
    "\n",
    "#Model compile\n",
    "model.compile(\n",
    "            optimizer='adam',\n",
    "            #optimizer = keras.optimizers.RMSprop(1e-3),\n",
    "            loss='categorical_crossentropy',\n",
    "            metrics=['acc'])\n",
    "\n",
    "\n",
    "#filepath=\"weights-improvement-{epoch:02d}-{val_acc:.2f}.hdf5\"\n",
    "filepath=\"PMTOnly_RingCounting-improvement-val-acc_{val_acc:.2f}.model\" \n",
    "checkpoint = ModelCheckpoint(filepath, monitor='val_acc', verbose=1, save_best_only=True, mode='max')\n",
    "monitor = EarlyStopping(monitor='val_loss', min_delta=1e-3, patience=10, verbose=1, mode='auto', restore_best_weights=False)\n",
    "\n",
    "\n",
    "#model Fit\n",
    "\n",
    "history = model.fit(XMRDTraing,\n",
    "                    YTraining,\n",
    "                    batch_size=1000,\n",
    "                    #validation_split=0.2,\n",
    "                    \n",
    "                    validation_data=(XMRDVal,YVal),\n",
    "                    epochs= 30,\n",
    "                    \n",
    "                    shuffle=True,\n",
    "                    class_weight='balanced',\n",
    "                    callbacks=[\n",
    "                                #monitor,\n",
    "                                #checkpoint,\n",
    "                                #tensorboard \n",
    "                    ],\n",
    "                    verbose=1)\n",
    "\n",
    "# list all data in history\n",
    "print(history.history.keys())\n",
    "# summarize history for accuracy\n",
    "plt.plot(history.history['acc'])\n",
    "plt.plot(history.history['val_acc'])\n",
    "plt.title('model accuracy')\n",
    "plt.ylabel('accuracy')\n",
    "plt.xlabel('epoch')\n",
    "plt.legend(['train', 'test'], loc='upper left')\n",
    "plt.show()\n",
    "# summarize history for loss\n",
    "plt.plot(history.history['loss'])\n",
    "plt.plot(history.history['val_loss'])\n",
    "plt.title('model loss')\n",
    "plt.ylabel('loss')\n",
    "plt.xlabel('epoch')\n",
    "plt.legend(['train', 'test'], loc='upper left')\n",
    "plt.show()\n",
    "\n",
    "print(\"Ende des Versuchs: \")"
   ]
  },
  {
   "cell_type": "markdown",
   "metadata": {},
   "source": [
    "# Ende"
   ]
  },
  {
   "cell_type": "code",
   "execution_count": null,
   "metadata": {},
   "outputs": [],
   "source": [
    "dense_layers = [3]\n",
    "layer_sizes = [160]\n",
    "conv_layers = [3]\n",
    "kernal_size = [(3,3)]\n",
    "for filter_size in kernal_size:\n",
    "    for dense_layer in dense_layers:\n",
    "        for layer_size in layer_sizes:\n",
    "            for conv_layer in conv_layers:\n",
    "\n",
    "                NAME =\"PMT-MuEl-{}-filter_size-{}-conv-{}-nodes-{}-dense\".format(filter_size,conv_layer, layer_size, dense_layer) #,int(time.time())\n",
    "                tensorboard = TensorBoard(log_dir = 'logs\\PMTplusLAPPD_CNN\\{}'.format(NAME))\n",
    "\n",
    "\n",
    "                model = Sequential()\n",
    "                model.add(Conv2D(layer_size,filter_size,strides=1, input_shape= XTraining.shape[1:],activation=\"relu\", padding='same'))                                               \n",
    "                model.add(MaxPooling2D(pool_size=(2,2),padding='same'))\n",
    "                model.add(BatchNormalization())\n",
    "                model.add(Dropout(0.2))\n",
    "                for l in range(conv_layer-1):                   \n",
    "                    model.add(Conv2D(layer_size,filter_size,padding='same',activation=\"relu\"))              \n",
    "                    model.add(MaxPooling2D(pool_size=(2,2),padding='same'))\n",
    "                    model.add(BatchNormalization())\n",
    "                    model.add(Dropout(0.2))            \n",
    "                #model.add(GlobalAveragePooling2D())\n",
    "                model.add(Flatten())\n",
    "                for l in range(dense_layer-1):\n",
    "                    model.add(Dense(512-l*20 ,activation=\"relu\" ))\n",
    "                    model.add(BatchNormalization())\n",
    "                    model.add(Dropout(0.2))\n",
    "                model.add(Dense(32,activation=\"relu\"))\n",
    "                model.add(BatchNormalization())\n",
    "                model.add(Dropout(0.2))\n",
    "                model.add(Dense(2))\n",
    "                model.add(Activation('softmax'))\n",
    "                #adam = tf.keras.optimizers.Adam(learning_rate=0.01, beta_1=0.9, beta_2=0.999, amsgrad=True, epsilon = 0.001)\n",
    "                model.compile(loss=\"binary_crossentropy\",\n",
    "                             optimizer=\"adam\",\n",
    "                              metrics=['accuracy']\n",
    "                             )   \n",
    "                filepath=\"CNN_InputModel-improvement-val-acc_{val_acc:.2f}.model\"  \n",
    "                checkpoint = ModelCheckpoint(filepath, monitor='val_acc', verbose=1, save_best_only=True, mode='max')\n",
    "                #monitor = EarlyStopping(monitor='val_loss', min_delta=1e-3, patience=10, verbose=1, mode='auto', restore_best_weights=False)\n",
    "                model.summary()\n",
    "                history=model.fit(\n",
    "                    \n",
    "                    XTraining,YTraining,\n",
    "              #validation_data=(XVal,Yval)\n",
    "                 validation_data=(XVal,YVal)   \n",
    "                    \n",
    "              ,batch_size=100,\n",
    "                shuffle=True,\n",
    "                class_weight='balanced',\n",
    "                callbacks=[\n",
    "                            #monitor,\n",
    "                            checkpoint,\n",
    "                            #tensorboard \n",
    "                ],\n",
    "              epochs= 38)\n",
    "                print(history.history.keys())\n",
    "                # summarize history for accuracy\n",
    "                plt.plot(history.history['acc'])\n",
    "                plt.plot(history.history['val_acc'])\n",
    "                plt.title('model accuracy')\n",
    "                plt.ylabel('accuracy')\n",
    "                plt.xlabel('epoch')\n",
    "                plt.legend(['train', 'test'], loc='upper left')\n",
    "                plt.show()\n",
    "                # summarize history for loss\n",
    "                plt.plot(history.history['loss'])\n",
    "                plt.plot(history.history['val_loss'])\n",
    "                plt.title('model loss')\n",
    "                plt.ylabel('loss')\n",
    "                plt.xlabel('epoch')\n",
    "                plt.legend(['train', 'test'], loc='upper left')\n",
    "                plt.show()\n",
    "\n",
    "                print(\"Ende des Versuchs: \")\n",
    "            "
   ]
  },
  {
   "cell_type": "code",
   "execution_count": 47,
   "metadata": {},
   "outputs": [],
   "source": [
    "predictionTraining = model.predict(XTraining)\n",
    "predictionVal = model.predict(XVal)\n",
    "predictionTest = model.predict(XTest)"
   ]
  },
  {
   "cell_type": "markdown",
   "metadata": {},
   "source": [
    "# Evaluate"
   ]
  },
  {
   "cell_type": "code",
   "execution_count": 46,
   "metadata": {},
   "outputs": [
    {
     "name": "stderr",
     "output_type": "stream",
     "text": [
      "W0602 18:26:49.188539  8156 deprecation.py:506] From C:\\Program Files (x86)\\Microsoft Visual Studio\\Shared\\Anaconda3_64\\envs\\Tensorflow\\lib\\site-packages\\tensorflow\\python\\ops\\init_ops.py:97: calling GlorotUniform.__init__ (from tensorflow.python.ops.init_ops) with dtype is deprecated and will be removed in a future version.\n",
      "Instructions for updating:\n",
      "Call initializer instance with the dtype argument instead of passing it to the constructor\n",
      "W0602 18:26:49.188539  8156 deprecation.py:506] From C:\\Program Files (x86)\\Microsoft Visual Studio\\Shared\\Anaconda3_64\\envs\\Tensorflow\\lib\\site-packages\\tensorflow\\python\\ops\\init_ops.py:97: calling Zeros.__init__ (from tensorflow.python.ops.init_ops) with dtype is deprecated and will be removed in a future version.\n",
      "Instructions for updating:\n",
      "Call initializer instance with the dtype argument instead of passing it to the constructor\n",
      "W0602 18:26:49.204197  8156 deprecation.py:506] From C:\\Program Files (x86)\\Microsoft Visual Studio\\Shared\\Anaconda3_64\\envs\\Tensorflow\\lib\\site-packages\\tensorflow\\python\\ops\\init_ops.py:97: calling Ones.__init__ (from tensorflow.python.ops.init_ops) with dtype is deprecated and will be removed in a future version.\n",
      "Instructions for updating:\n",
      "Call initializer instance with the dtype argument instead of passing it to the constructor\n"
     ]
    }
   ],
   "source": [
    "model = tf.keras.models.load_model(\"CNN_InputModel-improvement-val-acc_0.94.model\")"
   ]
  },
  {
   "cell_type": "code",
   "execution_count": 24,
   "metadata": {},
   "outputs": [
    {
     "name": "stdout",
     "output_type": "stream",
     "text": [
      "Test score:  0.16184363836290358\n",
      "Test accuracy:  0.9361546\n"
     ]
    }
   ],
   "source": [
    "score = model.evaluate(XTest, YTest, verbose=False) \n",
    "model.metrics_names\n",
    "print('Test score: ', score[0])    #Loss on test\n",
    "print('Test accuracy: ', score[1])"
   ]
  },
  {
   "cell_type": "code",
   "execution_count": 25,
   "metadata": {},
   "outputs": [
    {
     "name": "stdout",
     "output_type": "stream",
     "text": [
      "[[6794  606]\n",
      " [ 352 7253]]\n"
     ]
    }
   ],
   "source": [
    "\n",
    "\n",
    "rounded_labels =np.argmax(YTest, axis=1)\n",
    "y_prob = np.array(model.predict(XTest, batch_size=128, verbose=0))\n",
    "y_classes = y_prob.argmax(axis=-1)\n",
    "cm = confusion_matrix(rounded_labels, y_classes)\n",
    "print(cm)\n"
   ]
  },
  {
   "cell_type": "code",
   "execution_count": 26,
   "metadata": {},
   "outputs": [],
   "source": [
    "def plot_confusion_matrix(cm, classes,\n",
    "                          normalize=False,\n",
    "                          title='Confusion matrix',\n",
    "                          cmap=plt.cm.Blues):\n",
    "    \n",
    " \n",
    "    if normalize:\n",
    "        cm = cm.astype('float') / cm.sum(axis=1)[:, np.newaxis]\n",
    " \n",
    "    print(cm)\n",
    " \n",
    "    plt.imshow(cm, interpolation='nearest', cmap=cmap)\n",
    "    plt.title(title)\n",
    "    plt.colorbar()\n",
    "    tick_marks = np.arange(len(classes))\n",
    "    plt.xticks(tick_marks, classes, rotation=45)\n",
    "    plt.yticks(tick_marks, classes)\n",
    " \n",
    "    fmt = '.3f' if normalize else 'd'\n",
    "    thresh = cm.max() / 2.\n",
    "    for i, j in itertools.product(range(cm.shape[0]), range(cm.shape[1])):\n",
    "        plt.text(j, i, format(cm[i, j], fmt),\n",
    "                 horizontalalignment=\"center\",\n",
    "                 color=\"white\" if cm[i, j] > thresh else \"black\")\n",
    " \n",
    "    plt.tight_layout()\n",
    "    plt.ylabel('True label')\n",
    "    plt.xlabel('Predicted label')"
   ]
  },
  {
   "cell_type": "code",
   "execution_count": 28,
   "metadata": {},
   "outputs": [
    {
     "name": "stdout",
     "output_type": "stream",
     "text": [
      "[[0.91810811 0.08189189]\n",
      " [0.04628534 0.95371466]]\n"
     ]
    },
    {
     "data": {
      "image/png": "[encoded data removed]",
      "text/plain": [
       "<Figure size 432x288 with 2 Axes>"
      ]
     },
     "metadata": {
      "needs_background": "light"
     },
     "output_type": "display_data"
    }
   ],
   "source": [
    "# Reshape into 2 x 2 matrix\n",
    "cm = cm.reshape((2,2))\n",
    " \n",
    "class_names = [\"e\", \"muon\"]\n",
    " \n",
    "    \n",
    "# Plot normalized confusion matrix\n",
    "f=plt.figure()\n",
    "plot_confusion_matrix(cm, classes=class_names, normalize=True,\n",
    "                      title='Normalized confusion matrix \\n CNN-model with 94% accuracy \\n PMT+LAPPD (1x1 res)')\n",
    "#f.savefig(\"Confusion-CNN-85-Prozent-MultiChannel-2-conv-130-nodes-2-dense.pdf\",format =\"pdf\", bbox_inches='tight') \n",
    "plt.show()"
   ]
  },
  {
   "cell_type": "markdown",
   "metadata": {},
   "source": [
    "# Does Charge learn better than Charge+Time?"
   ]
  },
  {
   "cell_type": "code",
   "execution_count": 21,
   "metadata": {},
   "outputs": [],
   "source": [
    "XTrainingT= XTraining[:,:,:,1].reshape(XTraining.shape[0],XTraining.shape[1],XTraining.shape[2],1)\n",
    "XTestT = XTest[:,:,:,1].reshape(XTest.shape[0],XTest.shape[1],XTest.shape[2],1)\n",
    "XValT = XVal[:,:,:,1].reshape(XVal.shape[0],XVal.shape[1],XVal.shape[2],1)\n",
    "\n",
    "XTrainingC= XTraining[:,:,:,0].reshape(XTraining.shape[0],XTraining.shape[1],XTraining.shape[2],1)\n",
    "XTestC = XTest[:,:,:,0].reshape(XTest.shape[0],XTest.shape[1],XTest.shape[2],1)\n",
    "XValC = XVal[:,:,:,0].reshape(XVal.shape[0],XVal.shape[1],XVal.shape[2],1)"
   ]
  },
  {
   "cell_type": "code",
   "execution_count": 22,
   "metadata": {},
   "outputs": [
    {
     "name": "stdout",
     "output_type": "stream",
     "text": [
      "Model: \"sequential_113\"\n",
      "_________________________________________________________________\n",
      "Layer (type)                 Output Shape              Param #   \n",
      "=================================================================\n",
      "conv2d_339 (Conv2D)          (None, 10, 24, 160)       1600      \n",
      "_________________________________________________________________\n",
      "max_pooling2d_339 (MaxPoolin (None, 5, 12, 160)        0         \n",
      "_________________________________________________________________\n",
      "batch_normalization_562 (Bat (None, 5, 12, 160)        640       \n",
      "_________________________________________________________________\n",
      "dropout_562 (Dropout)        (None, 5, 12, 160)        0         \n",
      "_________________________________________________________________\n",
      "conv2d_340 (Conv2D)          (None, 5, 12, 160)        230560    \n",
      "_________________________________________________________________\n",
      "max_pooling2d_340 (MaxPoolin (None, 3, 6, 160)         0         \n",
      "_________________________________________________________________\n",
      "batch_normalization_563 (Bat (None, 3, 6, 160)         640       \n",
      "_________________________________________________________________\n",
      "dropout_563 (Dropout)        (None, 3, 6, 160)         0         \n",
      "_________________________________________________________________\n",
      "conv2d_341 (Conv2D)          (None, 3, 6, 160)         230560    \n",
      "_________________________________________________________________\n",
      "max_pooling2d_341 (MaxPoolin (None, 2, 3, 160)         0         \n",
      "_________________________________________________________________\n",
      "batch_normalization_564 (Bat (None, 2, 3, 160)         640       \n",
      "_________________________________________________________________\n",
      "dropout_564 (Dropout)        (None, 2, 3, 160)         0         \n",
      "_________________________________________________________________\n",
      "flatten_113 (Flatten)        (None, 960)               0         \n",
      "_________________________________________________________________\n",
      "dense_336 (Dense)            (None, 512)               492032    \n",
      "_________________________________________________________________\n",
      "batch_normalization_565 (Bat (None, 512)               2048      \n",
      "_________________________________________________________________\n",
      "dropout_565 (Dropout)        (None, 512)               0         \n",
      "_________________________________________________________________\n",
      "dense_337 (Dense)            (None, 492)               252396    \n",
      "_________________________________________________________________\n",
      "batch_normalization_566 (Bat (None, 492)               1968      \n",
      "_________________________________________________________________\n",
      "dropout_566 (Dropout)        (None, 492)               0         \n",
      "_________________________________________________________________\n",
      "dense_338 (Dense)            (None, 32)                15776     \n",
      "_________________________________________________________________\n",
      "batch_normalization_567 (Bat (None, 32)                128       \n",
      "_________________________________________________________________\n",
      "dropout_567 (Dropout)        (None, 32)                0         \n",
      "_________________________________________________________________\n",
      "dense_339 (Dense)            (None, 2)                 66        \n",
      "_________________________________________________________________\n",
      "activation_113 (Activation)  (None, 2)                 0         \n",
      "=================================================================\n",
      "Total params: 1,229,054\n",
      "Trainable params: 1,226,022\n",
      "Non-trainable params: 3,032\n",
      "_________________________________________________________________\n",
      "Train on 85000 samples, validate on 20000 samples\n",
      "Epoch 1/38\n",
      "84800/85000 [============================>.] - ETA: 0s - loss: 0.4377 - acc: 0.7810\n",
      "Epoch 00001: val_acc improved from -inf to 0.78345, saving model to CNN_Charge_PMT+LAPPD(1x1)_PID_120k_V3-improvement-val-acc_0.78.model\n",
      "85000/85000 [==============================] - 204s 2ms/sample - loss: 0.4374 - acc: 0.7813 - val_loss: 0.4608 - val_acc: 0.7835\n",
      "Epoch 2/38\n",
      "84800/85000 [============================>.] - ETA: 0s - loss: 0.2565 - acc: 0.8907\n",
      "Epoch 00002: val_acc improved from 0.78345 to 0.84685, saving model to CNN_Charge_PMT+LAPPD(1x1)_PID_120k_V3-improvement-val-acc_0.85.model\n",
      "85000/85000 [==============================] - 26s 312us/sample - loss: 0.2564 - acc: 0.8907 - val_loss: 0.3381 - val_acc: 0.8468\n",
      "Epoch 3/38\n",
      "84800/85000 [============================>.] - ETA: 0s - loss: 0.2302 - acc: 0.9032\n",
      "Epoch 00003: val_acc improved from 0.84685 to 0.87815, saving model to CNN_Charge_PMT+LAPPD(1x1)_PID_120k_V3-improvement-val-acc_0.88.model\n",
      "85000/85000 [==============================] - 29s 339us/sample - loss: 0.2304 - acc: 0.9031 - val_loss: 0.2627 - val_acc: 0.8781\n",
      "Epoch 4/38\n",
      "84700/85000 [============================>.] - ETA: 0s - loss: 0.2175 - acc: 0.9086\n",
      "Epoch 00004: val_acc did not improve from 0.87815\n",
      "85000/85000 [==============================] - 26s 307us/sample - loss: 0.2175 - acc: 0.9086 - val_loss: 0.3308 - val_acc: 0.8521\n",
      "Epoch 5/38\n",
      "84900/85000 [============================>.] - ETA: 0s - loss: 0.2085 - acc: 0.9126\n",
      "Epoch 00005: val_acc did not improve from 0.87815\n",
      "85000/85000 [==============================] - 27s 321us/sample - loss: 0.2086 - acc: 0.9126 - val_loss: 0.4561 - val_acc: 0.7760\n",
      "Epoch 6/38\n",
      "84900/85000 [============================>.] - ETA: 0s - loss: 0.1982 - acc: 0.9181\n",
      "Epoch 00006: val_acc improved from 0.87815 to 0.90415, saving model to CNN_Charge_PMT+LAPPD(1x1)_PID_120k_V3-improvement-val-acc_0.90.model\n",
      "85000/85000 [==============================] - 28s 332us/sample - loss: 0.1982 - acc: 0.9182 - val_loss: 0.2274 - val_acc: 0.9042\n",
      "Epoch 7/38\n",
      "84800/85000 [============================>.] - ETA: 0s - loss: 0.1918 - acc: 0.9202\n",
      "Epoch 00007: val_acc did not improve from 0.90415\n",
      "85000/85000 [==============================] - 27s 314us/sample - loss: 0.1918 - acc: 0.9201 - val_loss: 0.2992 - val_acc: 0.8723\n",
      "Epoch 8/38\n",
      "84700/85000 [============================>.] - ETA: 0s - loss: 0.1854 - acc: 0.9226\n",
      "Epoch 00008: val_acc improved from 0.90415 to 0.92445, saving model to CNN_Charge_PMT+LAPPD(1x1)_PID_120k_V3-improvement-val-acc_0.92.model\n",
      "85000/85000 [==============================] - 28s 324us/sample - loss: 0.1854 - acc: 0.9226 - val_loss: 0.1860 - val_acc: 0.9244\n",
      "Epoch 9/38\n",
      "84900/85000 [============================>.] - ETA: 0s - loss: 0.1774 - acc: 0.9266\n",
      "Epoch 00009: val_acc improved from 0.92445 to 0.92680, saving model to CNN_Charge_PMT+LAPPD(1x1)_PID_120k_V3-improvement-val-acc_0.93.model\n",
      "85000/85000 [==============================] - 26s 301us/sample - loss: 0.1775 - acc: 0.9266 - val_loss: 0.1788 - val_acc: 0.9268\n",
      "Epoch 10/38\n",
      "84800/85000 [============================>.] - ETA: 0s - loss: 0.1746 - acc: 0.9276\n",
      "Epoch 00010: val_acc did not improve from 0.92680\n",
      "85000/85000 [==============================] - 27s 322us/sample - loss: 0.1746 - acc: 0.9276 - val_loss: 0.2912 - val_acc: 0.8683\n",
      "Epoch 11/38\n",
      "84900/85000 [============================>.] - ETA: 0s - loss: 0.1697 - acc: 0.9301\n",
      "Epoch 00011: val_acc did not improve from 0.92680\n",
      "85000/85000 [==============================] - 27s 318us/sample - loss: 0.1697 - acc: 0.9301 - val_loss: 0.2380 - val_acc: 0.8984\n",
      "Epoch 12/38\n",
      "84800/85000 [============================>.] - ETA: 0s - loss: 0.1610 - acc: 0.9333\n",
      "Epoch 00012: val_acc did not improve from 0.92680\n",
      "85000/85000 [==============================] - 26s 310us/sample - loss: 0.1611 - acc: 0.9332 - val_loss: 0.3514 - val_acc: 0.8390\n",
      "Epoch 13/38\n",
      "84800/85000 [============================>.] - ETA: 0s - loss: 0.1583 - acc: 0.9359\n",
      "Epoch 00013: val_acc did not improve from 0.92680\n",
      "85000/85000 [==============================] - 26s 307us/sample - loss: 0.1582 - acc: 0.9359 - val_loss: 0.2202 - val_acc: 0.9104\n",
      "Epoch 14/38\n",
      "84800/85000 [============================>.] - ETA: 0s - loss: 0.1529 - acc: 0.9365\n",
      "Epoch 00014: val_acc did not improve from 0.92680\n",
      "85000/85000 [==============================] - 26s 304us/sample - loss: 0.1528 - acc: 0.9365 - val_loss: 0.5878 - val_acc: 0.7714\n",
      "Epoch 15/38\n",
      "84900/85000 [============================>.] - ETA: 0s - loss: 0.1496 - acc: 0.9385\n",
      "Epoch 00015: val_acc did not improve from 0.92680\n",
      "85000/85000 [==============================] - 27s 317us/sample - loss: 0.1497 - acc: 0.9384 - val_loss: 1.1103 - val_acc: 0.6933\n"
     ]
    },
    {
     "name": "stdout",
     "output_type": "stream",
     "text": [
      "Epoch 16/38\n",
      "84900/85000 [============================>.] - ETA: 0s - loss: 0.1461 - acc: 0.9408\n",
      "Epoch 00016: val_acc did not improve from 0.92680\n",
      "85000/85000 [==============================] - 25s 300us/sample - loss: 0.1461 - acc: 0.9408 - val_loss: 0.2501 - val_acc: 0.8924\n",
      "Epoch 17/38\n",
      "84900/85000 [============================>.] - ETA: 0s - loss: 0.1418 - acc: 0.9414\n",
      "Epoch 00017: val_acc did not improve from 0.92680\n",
      "85000/85000 [==============================] - 25s 299us/sample - loss: 0.1417 - acc: 0.9415 - val_loss: 0.2068 - val_acc: 0.9194\n",
      "Epoch 18/38\n",
      "84800/85000 [============================>.] - ETA: 0s - loss: 0.1374 - acc: 0.9437\n",
      "Epoch 00018: val_acc did not improve from 0.92680\n",
      "85000/85000 [==============================] - 25s 296us/sample - loss: 0.1375 - acc: 0.9437 - val_loss: 0.2242 - val_acc: 0.9023\n",
      "Epoch 19/38\n",
      "84900/85000 [============================>.] - ETA: 0s - loss: 0.1351 - acc: 0.9445\n",
      "Epoch 00019: val_acc did not improve from 0.92680\n",
      "85000/85000 [==============================] - 26s 301us/sample - loss: 0.1351 - acc: 0.9445 - val_loss: 0.2431 - val_acc: 0.8946\n",
      "Epoch 20/38\n",
      "84900/85000 [============================>.] - ETA: 0s - loss: 0.1310 - acc: 0.9462\n",
      "Epoch 00020: val_acc did not improve from 0.92680\n",
      "85000/85000 [==============================] - 26s 307us/sample - loss: 0.1310 - acc: 0.9462 - val_loss: 0.2211 - val_acc: 0.9220\n",
      "Epoch 21/38\n",
      "84900/85000 [============================>.] - ETA: 0s - loss: 0.1280 - acc: 0.9473\n",
      "Epoch 00021: val_acc did not improve from 0.92680\n",
      "85000/85000 [==============================] - 27s 314us/sample - loss: 0.1279 - acc: 0.9473 - val_loss: 0.6439 - val_acc: 0.7811\n",
      "Epoch 22/38\n",
      "84800/85000 [============================>.] - ETA: 0s - loss: 0.1260 - acc: 0.9492- ETA: 1\n",
      "Epoch 00022: val_acc did not improve from 0.92680\n",
      "85000/85000 [==============================] - 27s 320us/sample - loss: 0.1260 - acc: 0.9492 - val_loss: 0.3341 - val_acc: 0.8778\n",
      "Epoch 23/38\n",
      "84900/85000 [============================>.] - ETA: 0s - loss: 0.1213 - acc: 0.9505\n",
      "Epoch 00023: val_acc did not improve from 0.92680\n",
      "85000/85000 [==============================] - 27s 317us/sample - loss: 0.1214 - acc: 0.9505 - val_loss: 0.9471 - val_acc: 0.7191\n",
      "Epoch 24/38\n",
      "84700/85000 [============================>.] - ETA: 0s - loss: 0.1192 - acc: 0.9509\n",
      "Epoch 00024: val_acc improved from 0.92680 to 0.93080, saving model to CNN_Charge_PMT+LAPPD(1x1)_PID_120k_V3-improvement-val-acc_0.93.model\n",
      "85000/85000 [==============================] - 27s 320us/sample - loss: 0.1193 - acc: 0.9508 - val_loss: 0.1814 - val_acc: 0.9308\n",
      "Epoch 25/38\n",
      "84800/85000 [============================>.] - ETA: 0s - loss: 0.1160 - acc: 0.9527\n",
      "Epoch 00025: val_acc did not improve from 0.93080\n",
      "85000/85000 [==============================] - 27s 313us/sample - loss: 0.1160 - acc: 0.9527 - val_loss: 0.4828 - val_acc: 0.8374\n",
      "Epoch 26/38\n",
      "84900/85000 [============================>.] - ETA: 0s - loss: 0.1149 - acc: 0.9529\n",
      "Epoch 00026: val_acc did not improve from 0.93080\n",
      "85000/85000 [==============================] - 27s 314us/sample - loss: 0.1148 - acc: 0.9529 - val_loss: 0.4428 - val_acc: 0.8674\n",
      "Epoch 27/38\n",
      "84900/85000 [============================>.] - ETA: 0s - loss: 0.1126 - acc: 0.9543\n",
      "Epoch 00027: val_acc did not improve from 0.93080\n",
      "85000/85000 [==============================] - 26s 310us/sample - loss: 0.1126 - acc: 0.9544 - val_loss: 0.7664 - val_acc: 0.7821\n",
      "Epoch 28/38\n",
      "84700/85000 [============================>.] - ETA: 0s - loss: 0.1093 - acc: 0.9553\n",
      "Epoch 00028: val_acc did not improve from 0.93080\n",
      "85000/85000 [==============================] - 27s 313us/sample - loss: 0.1092 - acc: 0.9553 - val_loss: 0.4366 - val_acc: 0.8687\n",
      "Epoch 29/38\n",
      "84800/85000 [============================>.] - ETA: 0s - loss: 0.1094 - acc: 0.9561\n",
      "Epoch 00029: val_acc did not improve from 0.93080\n",
      "85000/85000 [==============================] - 26s 305us/sample - loss: 0.1095 - acc: 0.9561 - val_loss: 1.1714 - val_acc: 0.7222\n",
      "Epoch 30/38\n",
      "84800/85000 [============================>.] - ETA: 0s - loss: 0.1038 - acc: 0.9575\n",
      "Epoch 00030: val_acc did not improve from 0.93080\n",
      "85000/85000 [==============================] - 27s 314us/sample - loss: 0.1038 - acc: 0.9574 - val_loss: 0.3944 - val_acc: 0.8453\n",
      "Epoch 31/38\n",
      "84800/85000 [============================>.] - ETA: 0s - loss: 0.1040 - acc: 0.9576\n",
      "Epoch 00031: val_acc did not improve from 0.93080\n",
      "85000/85000 [==============================] - 27s 320us/sample - loss: 0.1039 - acc: 0.9576 - val_loss: 0.1922 - val_acc: 0.9292\n",
      "Epoch 32/38\n",
      "84800/85000 [============================>.] - ETA: 0s - loss: 0.1005 - acc: 0.9595\n",
      "Epoch 00032: val_acc did not improve from 0.93080\n",
      "85000/85000 [==============================] - 26s 306us/sample - loss: 0.1005 - acc: 0.9595 - val_loss: 0.3990 - val_acc: 0.8697\n",
      "Epoch 33/38\n",
      "84800/85000 [============================>.] - ETA: 0s - loss: 0.0989 - acc: 0.9604\n",
      "Epoch 00033: val_acc did not improve from 0.93080\n",
      "85000/85000 [==============================] - 26s 305us/sample - loss: 0.0988 - acc: 0.9605 - val_loss: 0.2013 - val_acc: 0.9244\n",
      "Epoch 34/38\n",
      "84900/85000 [============================>.] - ETA: 0s - loss: 0.0968 - acc: 0.9605\n",
      "Epoch 00034: val_acc did not improve from 0.93080\n",
      "85000/85000 [==============================] - 26s 310us/sample - loss: 0.0968 - acc: 0.9605 - val_loss: 1.8581 - val_acc: 0.6302\n",
      "Epoch 35/38\n",
      "84800/85000 [============================>.] - ETA: 0s - loss: 0.0946 - acc: 0.9619\n",
      "Epoch 00035: val_acc did not improve from 0.93080\n",
      "85000/85000 [==============================] - 25s 298us/sample - loss: 0.0945 - acc: 0.9619 - val_loss: 0.2085 - val_acc: 0.9258\n",
      "Epoch 36/38\n",
      "84900/85000 [============================>.] - ETA: 0s - loss: 0.0928 - acc: 0.9624\n",
      "Epoch 00036: val_acc did not improve from 0.93080\n",
      "85000/85000 [==============================] - 26s 305us/sample - loss: 0.0929 - acc: 0.9623 - val_loss: 0.4343 - val_acc: 0.8677\n",
      "Epoch 37/38\n",
      "84900/85000 [============================>.] - ETA: 0s - loss: 0.0903 - acc: 0.9633\n",
      "Epoch 00037: val_acc did not improve from 0.93080\n",
      "85000/85000 [==============================] - 26s 311us/sample - loss: 0.0904 - acc: 0.9633 - val_loss: 0.4952 - val_acc: 0.8598\n",
      "Epoch 38/38\n",
      "84900/85000 [============================>.] - ETA: 0s - loss: 0.0885 - acc: 0.9639\n",
      "Epoch 00038: val_acc did not improve from 0.93080\n",
      "85000/85000 [==============================] - 25s 300us/sample - loss: 0.0885 - acc: 0.9638 - val_loss: 0.3850 - val_acc: 0.8810\n",
      "dict_keys(['loss', 'acc', 'val_loss', 'val_acc'])\n"
     ]
    },
    {
     "data": {
      "image/png": "[encoded data removed]",
      "text/plain": [
       "<Figure size 432x288 with 1 Axes>"
      ]
     },
     "metadata": {
      "needs_background": "light"
     },
     "output_type": "display_data"
    },
    {
     "data": {
      "image/png": "[encoded data removed]",
      "text/plain": [
       "<Figure size 432x288 with 1 Axes>"
      ]
     },
     "metadata": {
      "needs_background": "light"
     },
     "output_type": "display_data"
    },
    {
     "name": "stdout",
     "output_type": "stream",
     "text": [
      "Ende des Versuchs: \n"
     ]
    }
   ],
   "source": [
    "dense_layers = [3]\n",
    "layer_sizes = [160]\n",
    "conv_layers = [3]\n",
    "kernal_size = [(3,3)]\n",
    "for filter_size in kernal_size:\n",
    "    for dense_layer in dense_layers:\n",
    "        for layer_size in layer_sizes:\n",
    "            for conv_layer in conv_layers:\n",
    "\n",
    "                NAME =\"PMT-MuEl-{}-filter_size-{}-conv-{}-nodes-{}-dense\".format(filter_size,conv_layer, layer_size, dense_layer) #,int(time.time())\n",
    "                tensorboard = TensorBoard(log_dir = 'logs\\PMTplusLAPPD_CNN\\{}'.format(NAME))\n",
    "\n",
    "\n",
    "                model = Sequential()\n",
    "                model.add(Conv2D(layer_size,filter_size,strides=1, input_shape= XTrainingC.shape[1:],activation=\"relu\", padding='same'))                                               \n",
    "                model.add(MaxPooling2D(pool_size=(2,2),padding='same'))\n",
    "                model.add(BatchNormalization())\n",
    "                model.add(Dropout(0.2))\n",
    "                for l in range(conv_layer-1):                   \n",
    "                    model.add(Conv2D(layer_size,filter_size,padding='same',activation=\"relu\"))              \n",
    "                    model.add(MaxPooling2D(pool_size=(2,2),padding='same'))\n",
    "                    model.add(BatchNormalization())\n",
    "                    model.add(Dropout(0.2))            \n",
    "                #model.add(GlobalAveragePooling2D())\n",
    "                model.add(Flatten())\n",
    "                for l in range(dense_layer-1):\n",
    "                    model.add(Dense(512-l*20 ,activation=\"relu\" ))\n",
    "                    model.add(BatchNormalization())\n",
    "                    model.add(Dropout(0.2))\n",
    "                model.add(Dense(32,activation=\"relu\"))\n",
    "                model.add(BatchNormalization())\n",
    "                model.add(Dropout(0.2))\n",
    "                model.add(Dense(2))\n",
    "                model.add(Activation('softmax'))\n",
    "                #adam = tf.keras.optimizers.Adam(learning_rate=0.01, beta_1=0.9, beta_2=0.999, amsgrad=True, epsilon = 0.001)\n",
    "                model.compile(loss=\"binary_crossentropy\",\n",
    "                             optimizer=\"adam\",\n",
    "                              metrics=['accuracy']\n",
    "                             )   \n",
    "                filepath=\"CNN_Charge_PMT+LAPPD(1x1)_PID_120k_V3-improvement-val-acc_{val_acc:.2f}.model\"  \n",
    "                checkpoint = ModelCheckpoint(filepath, monitor='val_acc', verbose=1, save_best_only=True, mode='max')\n",
    "                #monitor = EarlyStopping(monitor='val_loss', min_delta=1e-3, patience=10, verbose=1, mode='auto', restore_best_weights=False)\n",
    "                model.summary()\n",
    "                history=model.fit(\n",
    "                    \n",
    "                    XTrainingC,YTraining,\n",
    "              #validation_data=(XVal,Yval)\n",
    "                 validation_data=(XValC,Yval)   \n",
    "                    \n",
    "              ,batch_size=100,\n",
    "                shuffle=True,\n",
    "                class_weight='balanced',\n",
    "                callbacks=[\n",
    "                            #monitor,\n",
    "                            checkpoint,\n",
    "                            #tensorboard \n",
    "                ],\n",
    "              epochs= 38)\n",
    "                print(history.history.keys())\n",
    "                # summarize history for accuracy\n",
    "                plt.plot(history.history['acc'])\n",
    "                plt.plot(history.history['val_acc'])\n",
    "                plt.title('model accuracy')\n",
    "                plt.ylabel('accuracy')\n",
    "                plt.xlabel('epoch')\n",
    "                plt.legend(['train', 'test'], loc='upper left')\n",
    "                plt.show()\n",
    "                # summarize history for loss\n",
    "                plt.plot(history.history['loss'])\n",
    "                plt.plot(history.history['val_loss'])\n",
    "                plt.title('model loss')\n",
    "                plt.ylabel('loss')\n",
    "                plt.xlabel('epoch')\n",
    "                plt.legend(['train', 'test'], loc='upper left')\n",
    "                plt.show()\n",
    "\n",
    "                print(\"Ende des Versuchs: \")\n",
    "            "
   ]
  },
  {
   "cell_type": "markdown",
   "metadata": {},
   "source": [
    "# Tensorboard\n",
    "\n",
    "cd \"Documents\\Python\\CNN_Masterarbeit\"\n",
    "\n",
    "tensorboard --logdir=logs/ --host localhost --port 8088\n",
    "\n",
    "tensorboard --logdir=logs/Overfitting_Studie --host localhost --port 8088\n",
    "\n",
    "tensorboard --logdir=logs/Modell_Studie --host localhost --port 8088"
   ]
  },
  {
   "cell_type": "markdown",
   "metadata": {},
   "source": [
    "# Evaluate"
   ]
  },
  {
   "cell_type": "code",
   "execution_count": 72,
   "metadata": {},
   "outputs": [],
   "source": [
    "model = tf.keras.models.load_model(\"PMTOnly_PI_22k_RANDOM-improvement-val-acc_0.93.model\")"
   ]
  },
  {
   "cell_type": "code",
   "execution_count": 19,
   "metadata": {},
   "outputs": [
    {
     "data": {
      "text/plain": [
       "(4552, 10, 16, 2)"
      ]
     },
     "execution_count": 19,
     "metadata": {},
     "output_type": "execute_result"
    }
   ],
   "source": []
  },
  {
   "cell_type": "code",
   "execution_count": 74,
   "metadata": {},
   "outputs": [
    {
     "name": "stdout",
     "output_type": "stream",
     "text": [
      "(4052, 10, 16, 2) (4052, 2)\n",
      "[1 0]\n",
      "[0 1]\n",
      "[1 0]\n",
      "[0 1]\n",
      "[1 0]\n",
      "[0 1]\n",
      "[0 1]\n",
      "[0 1]\n",
      "[0 1]\n",
      "[0 1]\n",
      "[1 0]\n",
      "[1 0]\n",
      "[0 1]\n",
      "[0 1]\n",
      "[1 0]\n",
      "[0 1]\n",
      "[1 0]\n",
      "[1 0]\n",
      "[1 0]\n",
      "[1 0]\n"
     ]
    }
   ],
   "source": [
    "\n",
    "print(XTest.shape,YTest.shape)\n",
    "for sample in YTest[:20]:\n",
    "    print(sample)"
   ]
  },
  {
   "cell_type": "code",
   "execution_count": 75,
   "metadata": {},
   "outputs": [
    {
     "data": {
      "text/plain": [
       "<matplotlib.image.AxesImage at 0x1cbf7094208>"
      ]
     },
     "execution_count": 75,
     "metadata": {},
     "output_type": "execute_result"
    },
    {
     "data": {
      "image/png": "[encoded data removed]",
      "text/plain": [
       "<Figure size 460.8x10368 with 1 Axes>"
      ]
     },
     "metadata": {
      "needs_background": "light"
     },
     "output_type": "display_data"
    }
   ],
   "source": [
    "plt.imshow(XTest[7,:,:,0], cmap='binary', interpolation='None')"
   ]
  },
  {
   "cell_type": "code",
   "execution_count": 76,
   "metadata": {},
   "outputs": [
    {
     "name": "stdout",
     "output_type": "stream",
     "text": [
      "Test score:  0.2208471007696615\n",
      "Test accuracy:  0.9163376\n"
     ]
    }
   ],
   "source": [
    "score = model.evaluate(XTest, YTest, verbose=False) \n",
    "model.metrics_names\n",
    "print('Test score: ', score[0])    #Loss on test\n",
    "print('Test accuracy: ', score[1])"
   ]
  },
  {
   "cell_type": "markdown",
   "metadata": {},
   "source": [
    "# Confusion matrix\n"
   ]
  },
  {
   "cell_type": "code",
   "execution_count": 77,
   "metadata": {},
   "outputs": [
    {
     "name": "stdout",
     "output_type": "stream",
     "text": [
      "(4052, 2) (4052, 2)\n",
      "[[1900  185]\n",
      " [ 154 1813]]\n"
     ]
    }
   ],
   "source": [
    "\n",
    "prediction = model.predict(XTest)\n",
    "print(prediction.shape,YTest.shape)\n",
    "rounded_labels =np.argmax(YTest, axis=1)\n",
    "y_prob = np.array(model.predict(XTest, batch_size=128, verbose=0))\n",
    "y_classes = y_prob.argmax(axis=-1)\n",
    "cm = confusion_matrix(rounded_labels, y_classes)\n",
    "print(cm)\n"
   ]
  },
  {
   "cell_type": "code",
   "execution_count": 48,
   "metadata": {},
   "outputs": [],
   "source": [
    "def plot_confusion_matrix(cm, classes,\n",
    "                          normalize=False,\n",
    "                          title='Confusion matrix',\n",
    "                          cmap=plt.cm.Blues):\n",
    "    \n",
    " \n",
    "    if normalize:\n",
    "        cm = cm.astype('float') / cm.sum(axis=1)[:, np.newaxis]\n",
    " \n",
    "    print(cm)\n",
    " \n",
    "    plt.imshow(cm, interpolation='nearest', cmap=cmap)\n",
    "    plt.title(title)\n",
    "    plt.colorbar()\n",
    "    tick_marks = np.arange(len(classes))\n",
    "    plt.xticks(tick_marks, classes, rotation=45)\n",
    "    plt.yticks(tick_marks, classes)\n",
    " \n",
    "    fmt = '.3f' if normalize else 'd'\n",
    "    thresh = cm.max() / 2.\n",
    "    for i, j in itertools.product(range(cm.shape[0]), range(cm.shape[1])):\n",
    "        plt.text(j, i, format(cm[i, j], fmt),\n",
    "                 horizontalalignment=\"center\",\n",
    "                 color=\"white\" if cm[i, j] > thresh else \"black\")\n",
    " \n",
    "    plt.tight_layout()\n",
    "    plt.ylabel('True label')\n",
    "    plt.xlabel('Predicted label')"
   ]
  },
  {
   "cell_type": "code",
   "execution_count": 79,
   "metadata": {},
   "outputs": [
    {
     "name": "stdout",
     "output_type": "stream",
     "text": [
      "[[0.91127098 0.08872902]\n",
      " [0.07829181 0.92170819]]\n"
     ]
    },
    {
     "data": {
      "image/png": "[encoded data removed]",
      "text/plain": [
       "<Figure size 460.8x10368 with 2 Axes>"
      ]
     },
     "metadata": {
      "needs_background": "light"
     },
     "output_type": "display_data"
    }
   ],
   "source": [
    "# Reshape into 2 x 2 matrix\n",
    "cm = cm.reshape((2,2))\n",
    " \n",
    "class_names = [\"e\", \"muon\"]\n",
    " \n",
    "    \n",
    "# Plot normalized confusion matrix\n",
    "f=plt.figure()\n",
    "plot_confusion_matrix(cm, classes=class_names, normalize=True,\n",
    "                      title='Normalized confusion matrix \\n CNN-model with 85% accuracy')\n",
    "#f.savefig(\"Confusion-CNN-85-Prozent-MultiChannel-2-conv-130-nodes-2-dense.pdf\",format =\"pdf\", bbox_inches='tight') \n",
    "plt.show()"
   ]
  },
  {
   "cell_type": "code",
   "execution_count": 50,
   "metadata": {},
   "outputs": [
    {
     "name": "stderr",
     "output_type": "stream",
     "text": [
      "Using TensorFlow backend.\n"
     ]
    }
   ],
   "source": [
    "from tensorflow import keras\n",
    "import pydot_ng as pydot\n",
    "from keras.utils.vis_utils import model_to_dot\n",
    "os.environ[\"PATH\"] += os.pathsep + 'C:/Program Files (x86)/Graphviz2.38/bin/'"
   ]
  },
  {
   "cell_type": "code",
   "execution_count": 51,
   "metadata": {},
   "outputs": [
    {
     "data": {
      "image/png": "[encoded data removed]",
      "text/plain": [
       "<IPython.core.display.Image object>"
      ]
     },
     "execution_count": 51,
     "metadata": {},
     "output_type": "execute_result"
    }
   ],
   "source": [
    "keras.utils.plot_model(model, 'my_first_model_with_shape_info.png', show_shapes=True)"
   ]
  },
  {
   "cell_type": "code",
   "execution_count": 53,
   "metadata": {},
   "outputs": [],
   "source": [
    "from matplotlib import pyplot"
   ]
  },
  {
   "cell_type": "code",
   "execution_count": null,
   "metadata": {},
   "outputs": [],
   "source": []
  },
  {
   "cell_type": "code",
   "execution_count": 56,
   "metadata": {},
   "outputs": [
    {
     "name": "stdout",
     "output_type": "stream",
     "text": [
      "conv2d_12 (5, 5, 2, 130)\n"
     ]
    },
    {
     "data": {
      "image/png": "[encoded data removed]",
      "text/plain": [
       "<Figure size 460.8x10368 with 130 Axes>"
      ]
     },
     "metadata": {},
     "output_type": "display_data"
    }
   ],
   "source": [
    "#summarize filter shapes\n",
    "pyplot.subplots_adjust(wspace = 0.05 ,hspace = 0.05)\n",
    "for layer in model.layers:\n",
    "    #check for conv. layer\n",
    "    if 'conv' not in layer.name:\n",
    "        continue\n",
    "    #get filter weights\n",
    "    filters, biases = layer.get_weights()\n",
    "    print(layer.name, filters.shape)\n",
    "    f_min, f_max= filters.min(),filters.max()\n",
    "    filters = (filters-f_min)/(f_max-f_min)\n",
    "    # plot first few filters\n",
    "    \n",
    "\n",
    "    n_filters, ix = 130, 1\n",
    "\n",
    "\n",
    "    for i in range(n_filters):\n",
    "        #get the filter\n",
    "        f = filters[:, :, :, i]\n",
    "        # plot each channel separately\n",
    "\n",
    "      \n",
    "\n",
    "\n",
    "        ax = pyplot.subplot(n_filters, 4, ix)\n",
    "        \n",
    "        ax.set_xticks([])\n",
    "        ax.set_yticks([])\n",
    "        # plot filter channel in grayscale\n",
    "        pyplot.imshow(f[:,:, 1], cmap='viridis')\n",
    "        ix += 1\n",
    "    # show the figure\n",
    "    #pyplot.savefig(\"PMT Model 85% layer0 ALL ConvFilters-Time.jpg\",format =\"jpg\", bbox_inches='tight')\n",
    "    pyplot.show()\n",
    "    \n",
    "    break"
   ]
  },
  {
   "cell_type": "code",
   "execution_count": 120,
   "metadata": {},
   "outputs": [
    {
     "name": "stdout",
     "output_type": "stream",
     "text": [
      "0\n"
     ]
    }
   ],
   "source": [
    "for j in range(1):\n",
    "    print(j)"
   ]
  },
  {
   "cell_type": "code",
   "execution_count": 55,
   "metadata": {},
   "outputs": [],
   "source": [
    "plt.rcParams['figure.figsize'] = [6.4, 30*4.8]"
   ]
  },
  {
   "cell_type": "code",
   "execution_count": 57,
   "metadata": {},
   "outputs": [
    {
     "name": "stdout",
     "output_type": "stream",
     "text": [
      "0 conv2d_12 (?, 10, 16, 130)\n",
      "3 conv2d_13 (?, 5, 8, 130)\n"
     ]
    }
   ],
   "source": [
    "for i in range(len(model.layers)):\n",
    "    layer = model.layers[i]\n",
    "    # check for convolutional layer\n",
    "    if 'conv' not in layer.name:\n",
    "        continue\n",
    "    print(i, layer.name, layer.output.shape)"
   ]
  },
  {
   "cell_type": "code",
   "execution_count": 58,
   "metadata": {},
   "outputs": [
    {
     "data": {
      "text/plain": [
       "<matplotlib.image.AxesImage at 0x1c9023abe10>"
      ]
     },
     "execution_count": 58,
     "metadata": {},
     "output_type": "execute_result"
    },
    {
     "data": {
      "image/png": "[encoded data removed]",
      "text/plain": [
       "<Figure size 460.8x10368 with 1 Axes>"
      ]
     },
     "metadata": {
      "needs_background": "light"
     },
     "output_type": "display_data"
    }
   ],
   "source": [
    "plt.imshow(X[9,:,:,0], cmap='viridis', interpolation='None')"
   ]
  },
  {
   "cell_type": "code",
   "execution_count": 86,
   "metadata": {},
   "outputs": [],
   "source": [
    "plt.rcParams['figure.figsize'] = [6.4, 10*4.8]"
   ]
  },
  {
   "cell_type": "code",
   "execution_count": 89,
   "metadata": {},
   "outputs": [
    {
     "name": "stdout",
     "output_type": "stream",
     "text": [
      "Model: \"model_6\"\n",
      "_________________________________________________________________\n",
      "Layer (type)                 Output Shape              Param #   \n",
      "=================================================================\n",
      "conv2d_14_input (InputLayer) [(None, 10, 16, 2)]       0         \n",
      "_________________________________________________________________\n",
      "conv2d_14 (Conv2D)           (None, 10, 16, 130)       6630      \n",
      "=================================================================\n",
      "Total params: 6,630\n",
      "Trainable params: 6,630\n",
      "Non-trainable params: 0\n",
      "_________________________________________________________________\n",
      "(1, 10, 16, 130)\n"
     ]
    },
    {
     "ename": "ValueError",
     "evalue": "num must be 1 <= num <= 52, not 53",
     "output_type": "error",
     "traceback": [
      "\u001b[1;31m---------------------------------------------------------------------------\u001b[0m",
      "\u001b[1;31mValueError\u001b[0m                                Traceback (most recent call last)",
      "\u001b[1;32m<ipython-input-89-f9c6a5616c25>\u001b[0m in \u001b[0;36m<module>\u001b[1;34m\u001b[0m\n\u001b[0;32m     34\u001b[0m             \u001b[1;32mbreak\u001b[0m\u001b[1;33m\u001b[0m\u001b[1;33m\u001b[0m\u001b[0m\n\u001b[0;32m     35\u001b[0m         \u001b[1;31m# specify subplot and turn of axis\u001b[0m\u001b[1;33m\u001b[0m\u001b[1;33m\u001b[0m\u001b[1;33m\u001b[0m\u001b[0m\n\u001b[1;32m---> 36\u001b[1;33m         \u001b[0max\u001b[0m \u001b[1;33m=\u001b[0m \u001b[0mpyplot\u001b[0m\u001b[1;33m.\u001b[0m\u001b[0msubplot\u001b[0m\u001b[1;33m(\u001b[0m\u001b[1;36m26\u001b[0m\u001b[1;33m,\u001b[0m \u001b[1;36m2\u001b[0m\u001b[1;33m,\u001b[0m \u001b[0mix\u001b[0m\u001b[1;33m)\u001b[0m\u001b[1;33m\u001b[0m\u001b[1;33m\u001b[0m\u001b[0m\n\u001b[0m\u001b[0;32m     37\u001b[0m         \u001b[0max\u001b[0m\u001b[1;33m.\u001b[0m\u001b[0mset_xticks\u001b[0m\u001b[1;33m(\u001b[0m\u001b[1;33m[\u001b[0m\u001b[1;33m]\u001b[0m\u001b[1;33m)\u001b[0m\u001b[1;33m\u001b[0m\u001b[1;33m\u001b[0m\u001b[0m\n\u001b[0;32m     38\u001b[0m         \u001b[0max\u001b[0m\u001b[1;33m.\u001b[0m\u001b[0mset_yticks\u001b[0m\u001b[1;33m(\u001b[0m\u001b[1;33m[\u001b[0m\u001b[1;33m]\u001b[0m\u001b[1;33m)\u001b[0m\u001b[1;33m\u001b[0m\u001b[1;33m\u001b[0m\u001b[0m\n",
      "\u001b[1;32m~\\AppData\\Roaming\\Python\\Python37\\site-packages\\matplotlib\\pyplot.py\u001b[0m in \u001b[0;36msubplot\u001b[1;34m(*args, **kwargs)\u001b[0m\n\u001b[0;32m   1068\u001b[0m \u001b[1;33m\u001b[0m\u001b[0m\n\u001b[0;32m   1069\u001b[0m     \u001b[0mfig\u001b[0m \u001b[1;33m=\u001b[0m \u001b[0mgcf\u001b[0m\u001b[1;33m(\u001b[0m\u001b[1;33m)\u001b[0m\u001b[1;33m\u001b[0m\u001b[1;33m\u001b[0m\u001b[0m\n\u001b[1;32m-> 1070\u001b[1;33m     \u001b[0ma\u001b[0m \u001b[1;33m=\u001b[0m \u001b[0mfig\u001b[0m\u001b[1;33m.\u001b[0m\u001b[0madd_subplot\u001b[0m\u001b[1;33m(\u001b[0m\u001b[1;33m*\u001b[0m\u001b[0margs\u001b[0m\u001b[1;33m,\u001b[0m \u001b[1;33m**\u001b[0m\u001b[0mkwargs\u001b[0m\u001b[1;33m)\u001b[0m\u001b[1;33m\u001b[0m\u001b[1;33m\u001b[0m\u001b[0m\n\u001b[0m\u001b[0;32m   1071\u001b[0m     \u001b[0mbbox\u001b[0m \u001b[1;33m=\u001b[0m \u001b[0ma\u001b[0m\u001b[1;33m.\u001b[0m\u001b[0mbbox\u001b[0m\u001b[1;33m\u001b[0m\u001b[1;33m\u001b[0m\u001b[0m\n\u001b[0;32m   1072\u001b[0m     \u001b[0mbyebye\u001b[0m \u001b[1;33m=\u001b[0m \u001b[1;33m[\u001b[0m\u001b[1;33m]\u001b[0m\u001b[1;33m\u001b[0m\u001b[1;33m\u001b[0m\u001b[0m\n",
      "\u001b[1;32m~\\AppData\\Roaming\\Python\\Python37\\site-packages\\matplotlib\\figure.py\u001b[0m in \u001b[0;36madd_subplot\u001b[1;34m(self, *args, **kwargs)\u001b[0m\n\u001b[0;32m   1412\u001b[0m                     \u001b[0mself\u001b[0m\u001b[1;33m.\u001b[0m\u001b[0m_axstack\u001b[0m\u001b[1;33m.\u001b[0m\u001b[0mremove\u001b[0m\u001b[1;33m(\u001b[0m\u001b[0max\u001b[0m\u001b[1;33m)\u001b[0m\u001b[1;33m\u001b[0m\u001b[1;33m\u001b[0m\u001b[0m\n\u001b[0;32m   1413\u001b[0m \u001b[1;33m\u001b[0m\u001b[0m\n\u001b[1;32m-> 1414\u001b[1;33m             \u001b[0ma\u001b[0m \u001b[1;33m=\u001b[0m \u001b[0msubplot_class_factory\u001b[0m\u001b[1;33m(\u001b[0m\u001b[0mprojection_class\u001b[0m\u001b[1;33m)\u001b[0m\u001b[1;33m(\u001b[0m\u001b[0mself\u001b[0m\u001b[1;33m,\u001b[0m \u001b[1;33m*\u001b[0m\u001b[0margs\u001b[0m\u001b[1;33m,\u001b[0m \u001b[1;33m**\u001b[0m\u001b[0mkwargs\u001b[0m\u001b[1;33m)\u001b[0m\u001b[1;33m\u001b[0m\u001b[1;33m\u001b[0m\u001b[0m\n\u001b[0m\u001b[0;32m   1415\u001b[0m \u001b[1;33m\u001b[0m\u001b[0m\n\u001b[0;32m   1416\u001b[0m         \u001b[1;32mreturn\u001b[0m \u001b[0mself\u001b[0m\u001b[1;33m.\u001b[0m\u001b[0m_add_axes_internal\u001b[0m\u001b[1;33m(\u001b[0m\u001b[0mkey\u001b[0m\u001b[1;33m,\u001b[0m \u001b[0ma\u001b[0m\u001b[1;33m)\u001b[0m\u001b[1;33m\u001b[0m\u001b[1;33m\u001b[0m\u001b[0m\n",
      "\u001b[1;32m~\\AppData\\Roaming\\Python\\Python37\\site-packages\\matplotlib\\axes\\_subplots.py\u001b[0m in \u001b[0;36m__init__\u001b[1;34m(self, fig, *args, **kwargs)\u001b[0m\n\u001b[0;32m     57\u001b[0m                 \u001b[1;32mif\u001b[0m \u001b[0mnum\u001b[0m \u001b[1;33m<\u001b[0m \u001b[1;36m1\u001b[0m \u001b[1;32mor\u001b[0m \u001b[0mnum\u001b[0m \u001b[1;33m>\u001b[0m \u001b[0mrows\u001b[0m\u001b[1;33m*\u001b[0m\u001b[0mcols\u001b[0m\u001b[1;33m:\u001b[0m\u001b[1;33m\u001b[0m\u001b[1;33m\u001b[0m\u001b[0m\n\u001b[0;32m     58\u001b[0m                     raise ValueError(\n\u001b[1;32m---> 59\u001b[1;33m                         f\"num must be 1 <= num <= {rows*cols}, not {num}\")\n\u001b[0m\u001b[0;32m     60\u001b[0m                 self._subplotspec = GridSpec(\n\u001b[0;32m     61\u001b[0m                         rows, cols, figure=self.figure)[int(num) - 1]\n",
      "\u001b[1;31mValueError\u001b[0m: num must be 1 <= num <= 52, not 53"
     ]
    },
    {
     "data": {
      "image/png": "[encoded data removed]",
      "text/plain": [
       "<Figure size 460.8x3456 with 52 Axes>"
      ]
     },
     "metadata": {},
     "output_type": "display_data"
    }
   ],
   "source": [
    "model = tf.keras.models.load_model(\"PMTOnly_PI_22k_RANDOM-improvement-val-acc_0.93.model\")\n",
    "\n",
    "from tensorflow.keras.models import Model\n",
    "from matplotlib import pyplot\n",
    "from numpy import expand_dims\n",
    "\n",
    "\n",
    "\n",
    "ixs = [0]\n",
    "\n",
    "outputs = [model.layers[i].output for i in ixs]\n",
    "\n",
    "\n",
    "\n",
    "model = Model(inputs=model.inputs, outputs=model.layers[0].output)\n",
    "\n",
    "model.summary()\n",
    "\n",
    "\n",
    "\n",
    "\n",
    "\n",
    "# get feature map for first hidden layer\n",
    "feature_maps = model.predict(XTest[9:10])\n",
    "print(feature_maps.shape)\n",
    "# plot all 64 maps in an 8x8 squares\n",
    "\n",
    "#for fmap in feature_maps:\n",
    "ix = 1\n",
    "a=130\n",
    "for _ in range(a):\n",
    "    for _ in range(a):\n",
    "        if ix==a+1:\n",
    "            break\n",
    "        # specify subplot and turn of axis\n",
    "        ax = pyplot.subplot(26, 2, ix)\n",
    "        ax.set_xticks([])\n",
    "        ax.set_yticks([])\n",
    "\n",
    "        # plot filter channel in grayscale\n",
    "        pyplot.imshow(feature_maps[0, :, :, ix-1], cmap='viridis')\n",
    "        ix += 1\n",
    "    # show the figure\n",
    "#pyplot.savefig(\"PMT layer0 ALL Conv ElectronEvent9.jpg\",format =\"jpg\", bbox_inches='tight')\n",
    "pyplot.show()\n"
   ]
  },
  {
   "cell_type": "code",
   "execution_count": null,
   "metadata": {},
   "outputs": [],
   "source": []
  }
 ],
 "metadata": {
  "kernelspec": {
   "display_name": "Tensorflow",
   "language": "python",
   "name": "myenv"
  },
  "language_info": {
   "codemirror_mode": {
    "name": "ipython",
    "version": 3
   },
   "file_extension": ".py",
   "mimetype": "text/x-python",
   "name": "python",
   "nbconvert_exporter": "python",
   "pygments_lexer": "ipython3",
   "version": "3.7.3"
  }
 },
 "nbformat": 4,
 "nbformat_minor": 2
}
