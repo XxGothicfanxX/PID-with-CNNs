{
 "cells": [
  {
   "cell_type": "code",
   "execution_count": 3,
   "metadata": {},
   "outputs": [
    {
     "data": {
      "text/plain": [
       "4997.0"
      ]
     },
     "execution_count": 3,
     "metadata": {},
     "output_type": "execute_result"
    }
   ],
   "source": [
    "29982/6"
   ]
  },
  {
   "cell_type": "code",
   "execution_count": 1,
   "metadata": {},
   "outputs": [],
   "source": [
    "\n",
    "import numpy as np\n",
    "import matplotlib.pyplot as plt\n",
    "import os\n",
    "import cv2\n",
    "import pandas as pd # data processing, CSV file I/O (e.g. pd.read_csv)\n",
    "import copy\n",
    "import random\n",
    "import time\n",
    "from collections import defaultdict\n",
    "from tqdm.notebook import tqdm\n",
    "import h5py\n",
    "\n",
    "### Path to Files\n",
    "DATADIR =\"C:/Users/Deep Thought/Documents/Python/CNN_Masterarbeit/BeamRingCounting/csv/RC_Muon_lappd10x10_Energy\"   #All\n",
    "\n",
    "### Generating Combined Files\n",
    "\n",
    "\n",
    "\n",
    "#all_values =np.zeros((0,96))\n",
    "#time_values =np.zeros((0,96))\n",
    "all_values =np.zeros((0,160))\n",
    "time_values =np.zeros((0,160))\n",
    "category_values = np.zeros((0,2))    # CATEGORIES = [\"e\",\"mu\"] but all will be muons in this case\n",
    "all_values_Lappd = np.zeros((0,9600))\n",
    "time_values_Lappd = np.zeros((0,9600))\n",
    "MRDHits=np.zeros((0,6))\n",
    "Rings=np.zeros((0,))\n",
    "RingsTrueFalse=[]"
   ]
  },
  {
   "cell_type": "code",
   "execution_count": 2,
   "metadata": {},
   "outputs": [
    {
     "name": "stdout",
     "output_type": "stream",
     "text": [
      "4997\n"
     ]
    }
   ],
   "source": [
    "numberFiles=int(len(os.listdir(DATADIR))/7)\n",
    "print(numberFiles)"
   ]
  },
  {
   "cell_type": "code",
   "execution_count": 3,
   "metadata": {},
   "outputs": [],
   "source": [
    "DATADIR =\"C:/Users/Deep Thought/Documents/Python/CNN_Masterarbeit/BeamRingCounting/csv/RC_Muon_lappd10x10_Energy/beam_RC_Muon_lappd10x10_\" "
   ]
  },
  {
   "cell_type": "markdown",
   "metadata": {},
   "source": [
    "# Electron"
   ]
  },
  {
   "cell_type": "markdown",
   "metadata": {},
   "source": [
    "## Number"
   ]
  },
  {
   "cell_type": "code",
   "execution_count": 189,
   "metadata": {},
   "outputs": [
    {
     "data": {
      "application/vnd.jupyter.widget-view+json": {
       "model_id": "36bb920ea45d4da4ba5bdc162c5432a3",
       "version_major": 2,
       "version_minor": 0
      },
      "text/plain": [
       "HBox(children=(IntProgress(value=0, max=4997), HTML(value='')))"
      ]
     },
     "metadata": {},
     "output_type": "display_data"
    },
    {
     "name": "stdout",
     "output_type": "stream",
     "text": [
      "\n",
      "(110441, 2)\n"
     ]
    }
   ],
   "source": [
    "import pandas as pd\n",
    "\n",
    "all_values=np.zeros((0,2))\n",
    "\n",
    "for i in tqdm(range(numberFiles)):\n",
    "    try: \n",
    "        training_data_list = np.loadtxt(DATADIR+str(i)+\"_EnergyElectron.csv\",delimiter=',',usecols=(0,1))\n",
    "        #print(training_data_list.shape,all_values.shape)\n",
    "\n",
    "        all_values = np.concatenate([all_values,training_data_list],axis=0)\n",
    "    except OSError:\n",
    "        print(\"File {} not found\".format(i))\n",
    "        continue    \n",
    "all_values=np.array(all_values)   \n",
    "np.save('BeamRingCounting/Temp/NumberElectron', all_values)\n",
    "print(all_values.shape)\n"
   ]
  },
  {
   "cell_type": "markdown",
   "metadata": {},
   "source": [
    "## Energy"
   ]
  },
  {
   "cell_type": "code",
   "execution_count": 11,
   "metadata": {},
   "outputs": [
    {
     "data": {
      "application/vnd.jupyter.widget-view+json": {
       "model_id": "",
       "version_major": 2,
       "version_minor": 0
      },
      "text/plain": [
       "HBox(children=(IntProgress(value=0, max=4997), HTML(value='')))"
      ]
     },
     "metadata": {},
     "output_type": "display_data"
    },
    {
     "name": "stdout",
     "output_type": "stream",
     "text": [
      "\n",
      "(110441,)\n"
     ]
    }
   ],
   "source": [
    "import pandas as pd\n",
    "\n",
    "all_values = []\n",
    "\n",
    "for i in tqdm(range(numberFiles)):\n",
    "    try: \n",
    "        training_data_file = open(DATADIR+str(i)+\"_EnergyElectron.csv\",'r')\n",
    "        training_data_list = training_data_file.readlines()\n",
    "        training_data_file.close()\n",
    "\n",
    "        \n",
    "\n",
    "        for zeile in training_data_list:\n",
    "\n",
    "            zeile = zeile.replace(\",\\n\", \"\")\n",
    "            #zeile = zeile.replace(\"\\n\", \"\")\n",
    "            zeile = zeile.split(',')\n",
    "            #print(len(zeile))\n",
    "            if len(zeile) <=2:\n",
    "                all_values.append(0)\n",
    "            if len(zeile)>2:\n",
    "                all_values.append(zeile[2:])\n",
    "    except OSError:\n",
    "        print(\"File {} not found\".format(i))\n",
    "        continue\n",
    "        \n",
    "all_values=np.array(all_values)   \n",
    "np.save('BeamRingCounting/Temp/EnergyElectron', all_values)\n",
    "print(all_values.shape)\n",
    "\n",
    "\n",
    "\n"
   ]
  },
  {
   "cell_type": "markdown",
   "metadata": {},
   "source": [
    "## Muon"
   ]
  },
  {
   "cell_type": "markdown",
   "metadata": {},
   "source": [
    "## Number"
   ]
  },
  {
   "cell_type": "code",
   "execution_count": 4,
   "metadata": {},
   "outputs": [
    {
     "data": {
      "application/vnd.jupyter.widget-view+json": {
       "model_id": "b1fea60baef54de0bc0bd760027a62fc",
       "version_major": 2,
       "version_minor": 0
      },
      "text/plain": [
       "HBox(children=(IntProgress(value=0, max=4997), HTML(value='')))"
      ]
     },
     "metadata": {},
     "output_type": "display_data"
    },
    {
     "name": "stdout",
     "output_type": "stream",
     "text": [
      "\n",
      "(110441, 2)\n"
     ]
    }
   ],
   "source": [
    "\n",
    "\n",
    "all_values=np.zeros((0,2))\n",
    "\n",
    "for i in tqdm(range(numberFiles)):\n",
    "    try: \n",
    "        training_data_list = np.loadtxt(DATADIR+str(i)+\"_EnergyMuon.csv\",delimiter=',',usecols=(0,1))\n",
    "        #print(training_data_list.shape,all_values.shape)\n",
    "\n",
    "        all_values = np.concatenate([all_values,training_data_list],axis=0)\n",
    "    except OSError:\n",
    "        print(\"File {} not found\".format(i))\n",
    "        continue    \n",
    "all_values=np.array(all_values)   \n",
    "np.save('BeamRingCounting/Temp/NumberMuon', all_values)\n",
    "print(all_values.shape)\n"
   ]
  },
  {
   "cell_type": "markdown",
   "metadata": {},
   "source": [
    "## Energy"
   ]
  },
  {
   "cell_type": "code",
   "execution_count": 18,
   "metadata": {},
   "outputs": [
    {
     "data": {
      "application/vnd.jupyter.widget-view+json": {
       "model_id": "075c5ac2f94e4ee1bc64f55d1fda33b1",
       "version_major": 2,
       "version_minor": 0
      },
      "text/plain": [
       "HBox(children=(IntProgress(value=0, max=4997), HTML(value='')))"
      ]
     },
     "metadata": {},
     "output_type": "display_data"
    },
    {
     "name": "stdout",
     "output_type": "stream",
     "text": [
      "\n",
      "(110441,)\n"
     ]
    }
   ],
   "source": [
    "\n",
    "\n",
    "all_values = []\n",
    "\n",
    "for i in tqdm(range(numberFiles)):\n",
    "    try: \n",
    "        training_data_file = open(DATADIR+str(i)+\"_EnergyMuon.csv\",'r')\n",
    "        training_data_list = training_data_file.readlines()\n",
    "        training_data_file.close()\n",
    "\n",
    "        \n",
    "\n",
    "        for zeile in training_data_list:\n",
    "\n",
    "            zeile = zeile.replace(\",\\n\", \"\")\n",
    "            #zeile = zeile.replace(\"\\n\", \"\")\n",
    "            zeile = zeile.split(',')\n",
    "            #print(len(zeile))\n",
    "            if len(zeile) <=2:\n",
    "                all_values.append(0)\n",
    "            if len(zeile)>2:\n",
    "                all_values.append(zeile[2:])\n",
    "    except OSError:\n",
    "        print(\"File {} not found\".format(i))\n",
    "        continue\n",
    "        \n",
    "all_values=np.array(all_values)   \n",
    "np.save('BeamRingCounting/Temp/EnergyMuon', all_values)\n",
    "print(all_values.shape)\n",
    "\n",
    "\n",
    "\n"
   ]
  },
  {
   "cell_type": "markdown",
   "metadata": {},
   "source": [
    "## Pion"
   ]
  },
  {
   "cell_type": "markdown",
   "metadata": {},
   "source": [
    "## Number"
   ]
  },
  {
   "cell_type": "code",
   "execution_count": 19,
   "metadata": {},
   "outputs": [
    {
     "data": {
      "application/vnd.jupyter.widget-view+json": {
       "model_id": "9b0fe80c83ea4763bf5b9eefc911c46a",
       "version_major": 2,
       "version_minor": 0
      },
      "text/plain": [
       "HBox(children=(IntProgress(value=0, max=4997), HTML(value='')))"
      ]
     },
     "metadata": {},
     "output_type": "display_data"
    },
    {
     "name": "stdout",
     "output_type": "stream",
     "text": [
      "\n",
      "(110441, 2)\n"
     ]
    }
   ],
   "source": [
    "\n",
    "\n",
    "all_values=np.zeros((0,2))\n",
    "\n",
    "for i in tqdm(range(numberFiles)):\n",
    "    try: \n",
    "        training_data_list = np.loadtxt(DATADIR+str(i)+\"_EnergyPion.csv\",delimiter=',',usecols=(0,1))\n",
    "        #print(training_data_list.shape,all_values.shape)\n",
    "\n",
    "        all_values = np.concatenate([all_values,training_data_list],axis=0)\n",
    "    except OSError:\n",
    "        print(\"File {} not found\".format(i))\n",
    "        continue    \n",
    "all_values=np.array(all_values)   \n",
    "np.save('BeamRingCounting/Temp/NumberPion', all_values)\n",
    "print(all_values.shape)\n"
   ]
  },
  {
   "cell_type": "markdown",
   "metadata": {},
   "source": [
    "## Energy"
   ]
  },
  {
   "cell_type": "code",
   "execution_count": 20,
   "metadata": {},
   "outputs": [
    {
     "data": {
      "application/vnd.jupyter.widget-view+json": {
       "model_id": "75ffc8c8e6764a738a91bac5e0bff747",
       "version_major": 2,
       "version_minor": 0
      },
      "text/plain": [
       "HBox(children=(IntProgress(value=0, max=4997), HTML(value='')))"
      ]
     },
     "metadata": {},
     "output_type": "display_data"
    },
    {
     "name": "stdout",
     "output_type": "stream",
     "text": [
      "\n",
      "(110441,)\n"
     ]
    }
   ],
   "source": [
    "\n",
    "\n",
    "all_values = []\n",
    "\n",
    "for i in tqdm(range(numberFiles)):\n",
    "    try: \n",
    "        training_data_file = open(DATADIR+str(i)+\"_EnergyPion.csv\",'r')\n",
    "        training_data_list = training_data_file.readlines()\n",
    "        training_data_file.close()\n",
    "\n",
    "        \n",
    "\n",
    "        for zeile in training_data_list:\n",
    "\n",
    "            zeile = zeile.replace(\",\\n\", \"\")\n",
    "            #zeile = zeile.replace(\"\\n\", \"\")\n",
    "            zeile = zeile.split(',')\n",
    "            #print(len(zeile))\n",
    "            if len(zeile) <=2:\n",
    "                all_values.append(0)\n",
    "            if len(zeile)>2:\n",
    "                all_values.append(zeile[2:])\n",
    "    except OSError:\n",
    "        print(\"File {} not found\".format(i))\n",
    "        continue\n",
    "        \n",
    "all_values=np.array(all_values)   \n",
    "np.save('BeamRingCounting/Temp/EnergyPion', all_values)\n",
    "print(all_values.shape)\n",
    "\n",
    "\n",
    "\n"
   ]
  },
  {
   "cell_type": "markdown",
   "metadata": {},
   "source": [
    "## Kaon"
   ]
  },
  {
   "cell_type": "markdown",
   "metadata": {},
   "source": [
    "## Number"
   ]
  },
  {
   "cell_type": "code",
   "execution_count": 22,
   "metadata": {},
   "outputs": [
    {
     "data": {
      "application/vnd.jupyter.widget-view+json": {
       "model_id": "3aea7b04fd9a432d844c32ad0cd9c190",
       "version_major": 2,
       "version_minor": 0
      },
      "text/plain": [
       "HBox(children=(IntProgress(value=0, max=4997), HTML(value='')))"
      ]
     },
     "metadata": {},
     "output_type": "display_data"
    },
    {
     "name": "stdout",
     "output_type": "stream",
     "text": [
      "\n",
      "(110441, 2)\n"
     ]
    }
   ],
   "source": [
    "\n",
    "\n",
    "all_values=np.zeros((0,2))\n",
    "\n",
    "for i in tqdm(range(numberFiles)):\n",
    "    try: \n",
    "        training_data_list = np.loadtxt(DATADIR+str(i)+\"_EnergyKaon.csv\",delimiter=',',usecols=(0,1))\n",
    "        #print(training_data_list.shape,all_values.shape)\n",
    "\n",
    "        all_values = np.concatenate([all_values,training_data_list],axis=0)\n",
    "    except OSError:\n",
    "        print(\"File {} not found\".format(i))\n",
    "        continue    \n",
    "all_values=np.array(all_values)   \n",
    "np.save('BeamRingCounting/Temp/NumberKaon', all_values)\n",
    "print(all_values.shape)\n"
   ]
  },
  {
   "cell_type": "markdown",
   "metadata": {},
   "source": [
    "## Energy"
   ]
  },
  {
   "cell_type": "code",
   "execution_count": 21,
   "metadata": {},
   "outputs": [
    {
     "data": {
      "application/vnd.jupyter.widget-view+json": {
       "model_id": "90c40f5615e24511b47d73f6d54d75c1",
       "version_major": 2,
       "version_minor": 0
      },
      "text/plain": [
       "HBox(children=(IntProgress(value=0, max=4997), HTML(value='')))"
      ]
     },
     "metadata": {},
     "output_type": "display_data"
    },
    {
     "name": "stdout",
     "output_type": "stream",
     "text": [
      "\n",
      "(110441,)\n"
     ]
    }
   ],
   "source": [
    "\n",
    "\n",
    "all_values = []\n",
    "\n",
    "for i in tqdm(range(numberFiles)):\n",
    "    try: \n",
    "        training_data_file = open(DATADIR+str(i)+\"_EnergyKaon.csv\",'r')\n",
    "        training_data_list = training_data_file.readlines()\n",
    "        training_data_file.close()\n",
    "\n",
    "        \n",
    "\n",
    "        for zeile in training_data_list:\n",
    "\n",
    "            zeile = zeile.replace(\",\\n\", \"\")\n",
    "            #zeile = zeile.replace(\"\\n\", \"\")\n",
    "            zeile = zeile.split(',')\n",
    "            #print(len(zeile))\n",
    "            if len(zeile) <=2:\n",
    "                all_values.append(0)\n",
    "            if len(zeile)>2:\n",
    "                all_values.append(zeile[2:])\n",
    "    except OSError:\n",
    "        print(\"File {} not found\".format(i))\n",
    "        continue\n",
    "        \n",
    "all_values=np.array(all_values)   \n",
    "np.save('BeamRingCounting/Temp/EnergyKaon', all_values)\n",
    "print(all_values.shape)\n",
    "\n",
    "\n",
    "\n"
   ]
  },
  {
   "cell_type": "markdown",
   "metadata": {},
   "source": [
    "## Neutrino Energy"
   ]
  },
  {
   "cell_type": "code",
   "execution_count": 24,
   "metadata": {},
   "outputs": [
    {
     "data": {
      "application/vnd.jupyter.widget-view+json": {
       "model_id": "91c9b2daddbb4e3eab953f25400b4b87",
       "version_major": 2,
       "version_minor": 0
      },
      "text/plain": [
       "HBox(children=(IntProgress(value=0, max=4997), HTML(value='')))"
      ]
     },
     "metadata": {},
     "output_type": "display_data"
    },
    {
     "name": "stdout",
     "output_type": "stream",
     "text": [
      "\n",
      "(110441,)\n"
     ]
    }
   ],
   "source": [
    "\n",
    "\n",
    "all_values=np.zeros((0))\n",
    "\n",
    "for i in tqdm(range(numberFiles)):\n",
    "    try: \n",
    "        training_data_list = np.loadtxt(DATADIR+str(i)+\"_EnergyNeutrino.csv\",delimiter=',',usecols=(0))\n",
    "        #print(training_data_list.shape,all_values.shape)\n",
    "\n",
    "        all_values = np.concatenate([all_values,training_data_list],axis=0)\n",
    "    except OSError:\n",
    "        print(\"File {} not found\".format(i))\n",
    "        continue    \n",
    "all_values=np.array(all_values)   \n",
    "np.save('BeamRingCounting/Temp/EnergyNeutrino', all_values)\n",
    "print(all_values.shape)\n"
   ]
  },
  {
   "cell_type": "markdown",
   "metadata": {},
   "source": [
    "## Neutron counting"
   ]
  },
  {
   "cell_type": "code",
   "execution_count": 25,
   "metadata": {},
   "outputs": [
    {
     "data": {
      "application/vnd.jupyter.widget-view+json": {
       "model_id": "d6b63b1fa6d04b2991bb129fd0bbe8eb",
       "version_major": 2,
       "version_minor": 0
      },
      "text/plain": [
       "HBox(children=(IntProgress(value=0, max=4997), HTML(value='')))"
      ]
     },
     "metadata": {},
     "output_type": "display_data"
    },
    {
     "name": "stdout",
     "output_type": "stream",
     "text": [
      "\n",
      "(110441,)\n"
     ]
    }
   ],
   "source": [
    "\n",
    "all_values=np.zeros((0))\n",
    "\n",
    "for i in tqdm(range(numberFiles)):\n",
    "    try: \n",
    "        training_data_list = np.loadtxt(DATADIR+str(i)+\"_NeutronNumber.csv\",delimiter=',',usecols=(0))\n",
    "        #print(training_data_list.shape,all_values.shape)\n",
    "\n",
    "        all_values = np.concatenate([all_values,training_data_list],axis=0)\n",
    "    except OSError:\n",
    "        print(\"File {} not found\".format(i))\n",
    "        continue    \n",
    "all_values=np.array(all_values)   \n",
    "np.save('BeamRingCounting/Temp/NN', all_values)\n",
    "print(all_values.shape)\n"
   ]
  },
  {
   "cell_type": "markdown",
   "metadata": {},
   "source": [
    "# Visible Energy"
   ]
  },
  {
   "cell_type": "code",
   "execution_count": 5,
   "metadata": {},
   "outputs": [
    {
     "data": {
      "application/vnd.jupyter.widget-view+json": {
       "model_id": "bfba96c413f149c9bded5bca0adf6b66",
       "version_major": 2,
       "version_minor": 0
      },
      "text/plain": [
       "HBox(children=(IntProgress(value=0, max=4997), HTML(value='')))"
      ]
     },
     "metadata": {},
     "output_type": "display_data"
    },
    {
     "name": "stdout",
     "output_type": "stream",
     "text": [
      "\n",
      "(110441, 2)\n"
     ]
    }
   ],
   "source": [
    "\n",
    "all_values=np.zeros((0,2))\n",
    "\n",
    "for i in tqdm(range(numberFiles)):\n",
    "    try: \n",
    "        training_data_list = np.loadtxt(DATADIR+str(i)+\"_VisibleEnergy.csv\",delimiter=',',usecols=(0,1))\n",
    "        #print(training_data_list.shape,all_values.shape)\n",
    "\n",
    "        all_values = np.concatenate([all_values,training_data_list],axis=0)\n",
    "    except OSError:\n",
    "        print(\"File {} not found\".format(i))\n",
    "        continue    \n",
    "all_values=np.array(all_values)   \n",
    "np.save('BeamRingCounting/Temp/VisibleEnergy', all_values)\n",
    "print(all_values.shape)\n"
   ]
  },
  {
   "cell_type": "code",
   "execution_count": null,
   "metadata": {},
   "outputs": [],
   "source": []
  }
 ],
 "metadata": {
  "kernelspec": {
   "display_name": "Tensorflow",
   "language": "python",
   "name": "myenv"
  },
  "language_info": {
   "codemirror_mode": {
    "name": "ipython",
    "version": 3
   },
   "file_extension": ".py",
   "mimetype": "text/x-python",
   "name": "python",
   "nbconvert_exporter": "python",
   "pygments_lexer": "ipython3",
   "version": "3.7.3"
  }
 },
 "nbformat": 4,
 "nbformat_minor": 2
}
