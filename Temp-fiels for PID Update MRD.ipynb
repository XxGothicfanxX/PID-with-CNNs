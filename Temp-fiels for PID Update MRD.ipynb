{
 "cells": [
  {
   "cell_type": "code",
   "execution_count": 1,
   "metadata": {},
   "outputs": [],
   "source": [
    "\n",
    "import numpy as np\n",
    "import matplotlib.pyplot as plt\n",
    "import os\n",
    "import cv2\n",
    "import pandas as pd # data processing, CSV file I/O (e.g. pd.read_csv)\n",
    "import copy\n",
    "import random\n",
    "import time\n",
    "from collections import defaultdict\n",
    "from tqdm.notebook import tqdm\n",
    "import h5py\n",
    "\n",
    "\n",
    "DATADIRe =\"C:/Users/Deep Thought/Documents/Python/CNN_Masterarbeit/BeamlikePI/csv/beamlike_electrons_updatedMRD_DigitThr0/\"   #All\n",
    "DATADIRmu =\"C:/Users/Deep Thought/Documents/Python/CNN_Masterarbeit/BeamlikePI/csv/beamlike_muons_updatedMRD_DigitThr0/\"\n",
    "\n"
   ]
  },
  {
   "cell_type": "code",
   "execution_count": 2,
   "metadata": {},
   "outputs": [
    {
     "name": "stdout",
     "output_type": "stream",
     "text": [
      "997\n",
      "400\n"
     ]
    }
   ],
   "source": [
    "numberFilese=int(len(os.listdir(DATADIRe))/4)\n",
    "print(numberFilese)\n",
    "numberFilesmu=int(len(os.listdir(DATADIRmu))/4)\n",
    "print(numberFilesmu)"
   ]
  },
  {
   "cell_type": "code",
   "execution_count": 3,
   "metadata": {},
   "outputs": [],
   "source": [
    "DATADIRe =\"C:/Users/Deep Thought/Documents/Python/CNN_Masterarbeit/BeamlikePI/csv/beamlike_electrons_updatedMRD_DigitThr0/beamlike_electrons_updatedMRD_DigitThr0_\"\n",
    "DATADIRmu =\"C:/Users/Deep Thought/Documents/Python/CNN_Masterarbeit/BeamlikePI/csv/beamlike_muons_updatedMRD_DigitThr0/beamlike_muons_updatedMRD_DigitThr0_\" "
   ]
  },
  {
   "cell_type": "markdown",
   "metadata": {},
   "source": [
    "## MRD"
   ]
  },
  {
   "cell_type": "markdown",
   "metadata": {},
   "source": [
    "All fiels"
   ]
  },
  {
   "cell_type": "code",
   "execution_count": 6,
   "metadata": {
    "scrolled": true
   },
   "outputs": [
    {
     "data": {
      "application/vnd.jupyter.widget-view+json": {
       "model_id": "3f8685b798c74e7183207a43eb257039",
       "version_major": 2,
       "version_minor": 0
      },
      "text/plain": [
       "HBox(children=(IntProgress(value=0, max=997), HTML(value='')))"
      ]
     },
     "metadata": {},
     "output_type": "display_data"
    },
    {
     "name": "stdout",
     "output_type": "stream",
     "text": [
      "60028 60028\n"
     ]
    },
    {
     "data": {
      "application/vnd.jupyter.widget-view+json": {
       "model_id": "a3afb0b6c6c54c97b741d96d20472a11",
       "version_major": 2,
       "version_minor": 0
      },
      "text/plain": [
       "HBox(children=(IntProgress(value=0, max=400), HTML(value='')))"
      ]
     },
     "metadata": {},
     "output_type": "display_data"
    },
    {
     "name": "stdout",
     "output_type": "stream",
     "text": [
      "59977\n"
     ]
    }
   ],
   "source": [
    "setlen=60000\n",
    "MRDHits=np.zeros((0,6))\n",
    "countere=0\n",
    "for i in tqdm(range(numberFilese)):\n",
    "    try:\n",
    "        training_data_list = np.loadtxt(DATADIRe+str(i)+\"_Full.csv\", delimiter = \",\", skiprows=1)[:,-6:]\n",
    "        countere =( training_data_list.shape[0]+countere)\n",
    "        MRDHits = np.concatenate([MRDHits,training_data_list],axis=0)\n",
    "    except OSError:\n",
    "        print(\"File {} not found\".format(i))\n",
    "    if len(MRDHits)>setlen:\n",
    "        break    \n",
    "e=len(MRDHits)\n",
    "print(e, countere)\n",
    "for i in tqdm(range(numberFilesmu)):\n",
    "    try:\n",
    "        training_data_list = np.loadtxt(DATADIRmu+str(i)+\"_Full.csv\", delimiter = \",\", skiprows=1)[:,-6:]\n",
    "        MRDHits = np.concatenate([MRDHits,training_data_list],axis=0)\n",
    "    except OSError:\n",
    "        print(\"File {} not found\".format(i))\n",
    "    if len(MRDHits)>setlen*2:\n",
    "        break\n",
    "np.save('BeamlikePI/Temp/MRD_new', MRDHits)\n",
    "print(len(MRDHits)-e)\n",
    "#del MRDHits"
   ]
  },
  {
   "cell_type": "code",
   "execution_count": 5,
   "metadata": {},
   "outputs": [
    {
     "data": {
      "text/plain": [
       "124720"
      ]
     },
     "execution_count": 5,
     "metadata": {},
     "output_type": "execute_result"
    }
   ],
   "source": [
    "len(MRDHits)"
   ]
  },
  {
   "cell_type": "code",
   "execution_count": null,
   "metadata": {},
   "outputs": [],
   "source": [
    "\n",
    "61301 61301\n",
    "\n",
    "A Jupyter widget could not be displayed because the widget state could not be found. This could happen if the kernel storing the widget is no longer available, or if the widget state was not saved in the notebook. You may be able to create the widget by running the appropriate cells.\n",
    "\n",
    "\n",
    "60538\n"
   ]
  },
  {
   "cell_type": "code",
   "execution_count": 17,
   "metadata": {},
   "outputs": [
    {
     "data": {
      "text/plain": [
       "120110"
      ]
     },
     "execution_count": 17,
     "metadata": {},
     "output_type": "execute_result"
    }
   ],
   "source": [
    "len(MRDHits)"
   ]
  },
  {
   "cell_type": "code",
   "execution_count": 28,
   "metadata": {},
   "outputs": [
    {
     "data": {
      "text/plain": [
       "(117026, 6)"
      ]
     },
     "execution_count": 28,
     "metadata": {},
     "output_type": "execute_result"
    }
   ],
   "source": [
    "MRDHits.shape"
   ]
  },
  {
   "cell_type": "code",
   "execution_count": 21,
   "metadata": {},
   "outputs": [
    {
     "data": {
      "text/plain": [
       "(120005, 6)"
      ]
     },
     "execution_count": 21,
     "metadata": {},
     "output_type": "execute_result"
    }
   ],
   "source": [
    "MRDHits.shape"
   ]
  },
  {
   "cell_type": "code",
   "execution_count": 18,
   "metadata": {},
   "outputs": [
    {
     "name": "stdout",
     "output_type": "stream",
     "text": [
      "How much from one kind, how much from the other: \n",
      " [111702   8401      7]\n",
      "How do they look like? \n",
      " [0. 1. 2.]\n",
      "Percentage of one kind: \n",
      " 6.99482943806566\n"
     ]
    }
   ],
   "source": [
    "unique, counts = np.unique(MRDHits[:,0], return_counts=True, axis=0)\n",
    "print(\"How much from one kind, how much from the other: \\n\",counts)\n",
    "print(\"How do they look like? \\n\",unique)\n",
    "print(\"Percentage of one kind: \\n\", 100/(counts[0]+counts[1])*counts[1])"
   ]
  },
  {
   "cell_type": "code",
   "execution_count": 35,
   "metadata": {},
   "outputs": [
    {
     "data": {
      "application/vnd.jupyter.widget-view+json": {
       "model_id": "093c0a251c7a4c549d943720b367d862",
       "version_major": 2,
       "version_minor": 0
      },
      "text/plain": [
       "HBox(children=(IntProgress(value=0, max=997), HTML(value='')))"
      ]
     },
     "metadata": {},
     "output_type": "display_data"
    },
    {
     "name": "stdout",
     "output_type": "stream",
     "text": [
      "\n",
      "62444\n"
     ]
    },
    {
     "data": {
      "application/vnd.jupyter.widget-view+json": {
       "model_id": "983f88958ba2499e9e6eedbe47c67d16",
       "version_major": 2,
       "version_minor": 0
      },
      "text/plain": [
       "HBox(children=(IntProgress(value=0, max=400), HTML(value='')))"
      ]
     },
     "metadata": {},
     "output_type": "display_data"
    },
    {
     "name": "stdout",
     "output_type": "stream",
     "text": [
      "\n",
      "62276\n"
     ]
    }
   ],
   "source": [
    "DATADIRe =\"C:/Users/Deep Thought/Documents/Python/CNN_Masterarbeit/BeamlikePI/csv/PI_e_lappd1x1/beamlike_PI_e_lappd1x1_\"\n",
    "DATADIRmu =\"C:/Users/Deep Thought/Documents/Python/CNN_Masterarbeit/BeamlikePI/csv/PI_muon_lappd1x1/beamlike_PI_muon_lappd1x1_\"\n",
    "\n",
    "setlen=60000\n",
    "MRDHits=np.zeros((0,6))\n",
    "countere =[]\n",
    "counterm=[]\n",
    "file1 = open(\"Michael_e.txt\",\"w\")#write mode \n",
    "\n",
    "\n",
    "for i in tqdm(range(numberFilese)):\n",
    "    try:\n",
    "        training_data_list = np.loadtxt(DATADIRe+str(i)+\"_MRD.csv\", delimiter = \",\")\n",
    "        countere.append(training_data_list.shape[0])\n",
    "        file1.write(str(training_data_list.shape[0] )+\" \\n\") \n",
    "        MRDHits = np.concatenate([MRDHits,training_data_list],axis=0)\n",
    "    except OSError:\n",
    "        print(\"File {} not found\".format(i))\n",
    "    #if len(MRDHits)>setlen:\n",
    "        #break    \n",
    "e=len(MRDHits)\n",
    "file1.close() \n",
    "print(e)\n",
    "file2 = open(\"Michael_mu.txt\",\"w\")#write mode \n",
    "for i in tqdm(range(numberFilesmu)):\n",
    "    try:\n",
    "        training_data_list = np.loadtxt(DATADIRmu+str(i)+\"_MRD.csv\", delimiter = \",\")\n",
    "        countere.append(training_data_list.shape[0])\n",
    "        file2.write(str(training_data_list.shape[0] )+\" \\n\") \n",
    "        MRDHits = np.concatenate([MRDHits,training_data_list],axis=0)\n",
    "    except OSError:\n",
    "        print(\"File {} not found\".format(i))\n",
    "    #if len(MRDHits)>setlen*2:\n",
    "        #break\n",
    "#np.save('BeamlikePI/Temp/MRD_new', MRDHits)\n",
    "file2.close() \n",
    "print(len(MRDHits)-e)\n",
    "#del MRDHits"
   ]
  },
  {
   "cell_type": "code",
   "execution_count": 22,
   "metadata": {},
   "outputs": [
    {
     "data": {
      "text/plain": [
       "(124720, 6)"
      ]
     },
     "execution_count": 22,
     "metadata": {},
     "output_type": "execute_result"
    }
   ],
   "source": [
    "MRDHits.shape"
   ]
  },
  {
   "cell_type": "code",
   "execution_count": null,
   "metadata": {},
   "outputs": [],
   "source": [
    "121xxx"
   ]
  }
 ],
 "metadata": {
  "kernelspec": {
   "display_name": "Tensorflow",
   "language": "python",
   "name": "myenv"
  },
  "language_info": {
   "codemirror_mode": {
    "name": "ipython",
    "version": 3
   },
   "file_extension": ".py",
   "mimetype": "text/x-python",
   "name": "python",
   "nbconvert_exporter": "python",
   "pygments_lexer": "ipython3",
   "version": "3.7.3"
  }
 },
 "nbformat": 4,
 "nbformat_minor": 2
}
