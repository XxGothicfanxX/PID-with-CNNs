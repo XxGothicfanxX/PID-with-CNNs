{
 "cells": [
  {
   "cell_type": "code",
   "execution_count": 3,
   "metadata": {},
   "outputs": [
    {
     "data": {
      "text/plain": [
       "4997.0"
      ]
     },
     "execution_count": 3,
     "metadata": {},
     "output_type": "execute_result"
    }
   ],
   "source": [
    "29982/6"
   ]
  },
  {
   "cell_type": "code",
   "execution_count": 4,
   "metadata": {},
   "outputs": [],
   "source": [
    "\n",
    "import numpy as np\n",
    "import matplotlib.pyplot as plt\n",
    "import os\n",
    "import cv2\n",
    "import pandas as pd # data processing, CSV file I/O (e.g. pd.read_csv)\n",
    "import copy\n",
    "import random\n",
    "import time\n",
    "from collections import defaultdict\n",
    "from tqdm.notebook import tqdm\n",
    "import h5py\n",
    "\n",
    "### Path to Files\n",
    "DATADIR =\"C:/Users/Deep Thought/Documents/Python/CNN_Masterarbeit/BeamRingCounting/csv/csv_RC_LAPPD1x1_globalnorm\"   #All\n",
    "\n",
    "### Generating Combined Files\n",
    "\n",
    "\n",
    "\n",
    "#all_values =np.zeros((0,96))\n",
    "#time_values =np.zeros((0,96))\n",
    "all_values =np.zeros((0,160))\n",
    "time_values =np.zeros((0,160))\n",
    "category_values = np.zeros((0,2))    # CATEGORIES = [\"e\",\"mu\"] but all will be muons in this case\n",
    "all_values_Lappd = np.zeros((0,9600))\n",
    "time_values_Lappd = np.zeros((0,9600))\n",
    "MRDHits=np.zeros((0,6))\n",
    "Rings=np.zeros((0,))\n",
    "RingsTrueFalse=[]"
   ]
  },
  {
   "cell_type": "code",
   "execution_count": 5,
   "metadata": {},
   "outputs": [
    {
     "name": "stdout",
     "output_type": "stream",
     "text": [
      "4997\n"
     ]
    }
   ],
   "source": [
    "numberFiles=int(len(os.listdir(DATADIR))/6)\n",
    "print(numberFiles)"
   ]
  },
  {
   "cell_type": "code",
   "execution_count": 6,
   "metadata": {},
   "outputs": [],
   "source": [
    "DATADIR =\"C:/Users/Deep Thought/Documents/Python/CNN_Masterarbeit/BeamRingCounting/csv/csv_RC_LAPPD1x1_globalnorm/beam_RC_lappd1x1_\" "
   ]
  },
  {
   "cell_type": "markdown",
   "metadata": {},
   "source": [
    "## Charge"
   ]
  },
  {
   "cell_type": "markdown",
   "metadata": {},
   "source": [
    "All Files"
   ]
  },
  {
   "cell_type": "code",
   "execution_count": null,
   "metadata": {},
   "outputs": [],
   "source": [
    "print()"
   ]
  },
  {
   "cell_type": "code",
   "execution_count": 11,
   "metadata": {},
   "outputs": [
    {
     "data": {
      "application/vnd.jupyter.widget-view+json": {
       "model_id": "90fbb922448f44b6946403ae5695f940",
       "version_major": 2,
       "version_minor": 0
      },
      "text/plain": [
       "HBox(children=(IntProgress(value=0, max=4997), HTML(value='')))"
      ]
     },
     "metadata": {},
     "output_type": "display_data"
    },
    {
     "name": "stdout",
     "output_type": "stream",
     "text": [
      "\n",
      "(110544, 160)\n"
     ]
    }
   ],
   "source": [
    "all_values =np.zeros((0,160))\n",
    "for i in tqdm(range(numberFiles)):\n",
    "    try:\n",
    "        training_data_list = np.loadtxt(DATADIR+str(i)+\"_charge.csv\", delimiter = \",\")\n",
    "        #print(training_data_list.shape,all_values.shape)\n",
    "        all_values = np.concatenate([all_values,training_data_list],axis=0)\n",
    "    except OSError:\n",
    "        print(\"File {} not found\".format(i))\n",
    "        continue    \n",
    "    \n",
    "np.save('BeamRingCounting/Temp/ChargePMT', all_values)\n",
    "print(all_values.shape)\n",
    "del all_values"
   ]
  },
  {
   "cell_type": "markdown",
   "metadata": {},
   "source": [
    "## Time"
   ]
  },
  {
   "cell_type": "markdown",
   "metadata": {},
   "source": [
    "All files"
   ]
  },
  {
   "cell_type": "code",
   "execution_count": 6,
   "metadata": {},
   "outputs": [
    {
     "data": {
      "application/vnd.jupyter.widget-view+json": {
       "model_id": "cc6036166bb84a3e88e0a5a8e0289b4a",
       "version_major": 2,
       "version_minor": 0
      },
      "text/plain": [
       "HBox(children=(IntProgress(value=0, max=4997), HTML(value='')))"
      ]
     },
     "metadata": {},
     "output_type": "display_data"
    },
    {
     "name": "stdout",
     "output_type": "stream",
     "text": [
      "\n",
      "(110544, 160)\n"
     ]
    }
   ],
   "source": [
    "for i in tqdm(range(numberFiles)):\n",
    "    try:\n",
    "        training_data_list = np.loadtxt(DATADIR+str(i)+\"_time.csv\", delimiter = \",\")\n",
    "        time_values = np.concatenate([time_values,training_data_list],axis=0)\n",
    "        \n",
    "    except OSError:\n",
    "        print(\"File {} not found\".format(i))\n",
    "        \n",
    "np.save('BeamRingCounting/Temp/TimePMT', time_values)\n",
    "print(time_values.shape)\n",
    "del time_values"
   ]
  },
  {
   "cell_type": "markdown",
   "metadata": {},
   "source": [
    "Time flipped"
   ]
  },
  {
   "cell_type": "code",
   "execution_count": 8,
   "metadata": {},
   "outputs": [
    {
     "data": {
      "application/vnd.jupyter.widget-view+json": {
       "model_id": "d75aa5b856324337a437f03eb66cb104",
       "version_major": 2,
       "version_minor": 0
      },
      "text/plain": [
       "HBox(children=(IntProgress(value=0, max=4997), HTML(value='')))"
      ]
     },
     "metadata": {},
     "output_type": "display_data"
    },
    {
     "name": "stdout",
     "output_type": "stream",
     "text": [
      "\n",
      "(110544, 160)\n"
     ]
    }
   ],
   "source": [
    "for i in tqdm(range(numberFiles)):\n",
    "    try:\n",
    "        training_data_listT = np.loadtxt(DATADIR+str(i)+\"_time.csv\", delimiter = \",\")        \n",
    "        training_data_listC = np.loadtxt(DATADIR+str(i)+\"_charge.csv\", delimiter = \",\")\n",
    "        newlist1=[]\n",
    "        for element in range(len(training_data_listT)):\n",
    "            if sum(training_data_listC[element]) == 0:\n",
    "                newlist1.append(np.zeros((160*1)))\n",
    "                \n",
    "            else:\n",
    "                newlist=[]\n",
    "                for k in training_data_listT[element]:\n",
    "                    if k==0:\n",
    "                        newlist.append(0)\n",
    "                    else:\n",
    "                        newlist.append(1-k)\n",
    "                    \n",
    "                newlist1.append(newlist)\n",
    "        newlist1= np.array(newlist1)\n",
    "        #print(newlist1.shape,training_data_listT.shape)\n",
    "        time_values = np.concatenate([time_values,newlist1],axis=0)\n",
    "    except OSError:\n",
    "        print(\"File {} not found\".format(i))\n",
    "        \n",
    "np.save('BeamRingCounting/Temp/TimePMT_flipped', time_values)\n",
    "print(time_values.shape)\n",
    "del time_values        \n",
    "        "
   ]
  },
  {
   "cell_type": "markdown",
   "metadata": {},
   "source": [
    "10x10"
   ]
  },
  {
   "cell_type": "code",
   "execution_count": 22,
   "metadata": {},
   "outputs": [
    {
     "data": {
      "application/vnd.jupyter.widget-view+json": {
       "model_id": "cc060f89c8d249a2b6d8da6a0030880a",
       "version_major": 2,
       "version_minor": 0
      },
      "text/plain": [
       "HBox(children=(IntProgress(value=0, max=4997), HTML(value='')))"
      ]
     },
     "metadata": {},
     "output_type": "display_data"
    },
    {
     "name": "stdout",
     "output_type": "stream",
     "text": [
      "\n",
      "(110441, 160)\n"
     ]
    }
   ],
   "source": [
    "time_values =np.zeros((0,160))\n",
    "for i in tqdm(range(numberFiles)):\n",
    "    try:\n",
    "        training_data_listT = np.loadtxt(DATADIR+str(i)+\"_time.csv\", delimiter = \",\")        \n",
    "        training_data_listC = np.loadtxt(DATADIR+str(i)+\"_charge.csv\", delimiter = \",\")\n",
    "        newlist1=[]\n",
    "        for element in range(len(training_data_listT)):\n",
    "            if sum(training_data_listC[element]) == 0:\n",
    "                newlist1.append(np.zeros((160*1)))\n",
    "                \n",
    "            else:\n",
    "                newlist=[]\n",
    "                for k in training_data_listT[element]:\n",
    "                    if k==0:\n",
    "                        newlist.append(0)\n",
    "                    else:\n",
    "                        newlist.append(1-k)\n",
    "                    \n",
    "                newlist1.append(newlist)\n",
    "        newlist1= np.array(newlist1)\n",
    "        #print(newlist1.shape,training_data_listT.shape)\n",
    "        time_values = np.concatenate([time_values,newlist1],axis=0)\n",
    "    except OSError:\n",
    "        print(\"File {} not found\".format(i))\n",
    "        \n",
    "np.save('BeamRingCounting/Temp/10x10/TimePMT_flipped', time_values)\n",
    "print(time_values.shape)\n",
    "del time_values        \n",
    "        "
   ]
  },
  {
   "cell_type": "markdown",
   "metadata": {},
   "source": [
    "## Lappd Charge"
   ]
  },
  {
   "cell_type": "markdown",
   "metadata": {},
   "source": [
    "All files"
   ]
  },
  {
   "cell_type": "code",
   "execution_count": 8,
   "metadata": {},
   "outputs": [
    {
     "data": {
      "application/vnd.jupyter.widget-view+json": {
       "model_id": "9090ad36c312457ab65b76d27c035650",
       "version_major": 2,
       "version_minor": 0
      },
      "text/plain": [
       "HBox(children=(IntProgress(value=0, max=4997), HTML(value='')))"
      ]
     },
     "metadata": {},
     "output_type": "display_data"
    },
    {
     "name": "stdout",
     "output_type": "stream",
     "text": [
      "\n",
      "(110544, 24)\n"
     ]
    }
   ],
   "source": [
    "all_values_Lappd = np.zeros((0,24)) #*100 für 10x10 und mal 25 für 5x5\n",
    "\n",
    "for i in tqdm(range(numberFiles)):\n",
    "    try:\n",
    "        training_data_list = np.loadtxt(DATADIR+str(i)+\"_lappd_charge.csv\", delimiter = \",\")\n",
    "        #print(training_data_list.shape)\n",
    "        all_values_Lappd = np.concatenate([all_values_Lappd,training_data_list],axis=0)\n",
    "    except OSError:\n",
    "        print(\"File {} not found\".format(i))\n",
    "np.save('BeamRingCounting/Temp/ChargeLAPPD', all_values_Lappd)\n",
    "print(all_values_Lappd.shape)\n",
    "del all_values_Lappd"
   ]
  },
  {
   "cell_type": "markdown",
   "metadata": {},
   "source": [
    "5x5"
   ]
  },
  {
   "cell_type": "code",
   "execution_count": 14,
   "metadata": {},
   "outputs": [],
   "source": [
    "DATADIR =\"C:/Users/Deep Thought/Documents/Python/CNN_Masterarbeit/BeamRingCounting/csv/csv_Muon_beam_Lappd5x5_globalavarange/beam_muon_FV_PMTVol_\" "
   ]
  },
  {
   "cell_type": "code",
   "execution_count": 15,
   "metadata": {},
   "outputs": [
    {
     "data": {
      "application/vnd.jupyter.widget-view+json": {
       "model_id": "c18a1df0b98348bcb43a1f42a68cc6c3",
       "version_major": 2,
       "version_minor": 0
      },
      "text/plain": [
       "HBox(children=(IntProgress(value=0, max=4997), HTML(value='')))"
      ]
     },
     "metadata": {},
     "output_type": "display_data"
    },
    {
     "name": "stdout",
     "output_type": "stream",
     "text": [
      "\n",
      "(110441, 600)\n"
     ]
    }
   ],
   "source": [
    "all_values_Lappd = np.zeros((0,24*25)) #*100 für 10x10 und mal 25 für 5x5\n",
    "\n",
    "for i in tqdm(range(numberFiles)):\n",
    "    try:\n",
    "        training_data_list = np.loadtxt(DATADIR+str(i)+\"_lappd_charge.csv\", delimiter = \",\")\n",
    "        #print(training_data_list.shape)\n",
    "        all_values_Lappd = np.concatenate([all_values_Lappd,training_data_list],axis=0)\n",
    "    except OSError:\n",
    "        print(\"File {} not found\".format(i))\n",
    "np.save('BeamRingCounting/Temp/ChargeLAPPD_5', all_values_Lappd)\n",
    "print(all_values_Lappd.shape)\n",
    "del all_values_Lappd"
   ]
  },
  {
   "cell_type": "markdown",
   "metadata": {},
   "source": [
    "10x10\n"
   ]
  },
  {
   "cell_type": "code",
   "execution_count": 17,
   "metadata": {},
   "outputs": [],
   "source": [
    "DATADIR =\"C:/Users/Deep Thought/Documents/Python/CNN_Masterarbeit/BeamRingCounting/csv/RC_Muon_lappd10x10_globalavarange/beam_RC_Muon_lappd10x10_\" "
   ]
  },
  {
   "cell_type": "code",
   "execution_count": 18,
   "metadata": {},
   "outputs": [
    {
     "name": "stdout",
     "output_type": "stream",
     "text": [
      "\n"
     ]
    },
    {
     "data": {
      "application/vnd.jupyter.widget-view+json": {
       "model_id": "ff4f12df6a7a415caad519e26e9f6499",
       "version_major": 2,
       "version_minor": 0
      },
      "text/plain": [
       "HBox(children=(IntProgress(value=0, max=4997), HTML(value='')))"
      ]
     },
     "metadata": {},
     "output_type": "display_data"
    },
    {
     "name": "stdout",
     "output_type": "stream",
     "text": [
      "\n",
      "(110441, 2400)\n"
     ]
    }
   ],
   "source": [
    "all_values_Lappd = np.zeros((0,24*100)) #*100 für 10x10 und mal 25 für 5x5\n",
    "\n",
    "for i in tqdm(range(numberFiles)):\n",
    "    try:\n",
    "        training_data_list = np.loadtxt(DATADIR+str(i)+\"_lappd_charge.csv\", delimiter = \",\")\n",
    "        #print(training_data_list.shape)\n",
    "        all_values_Lappd = np.concatenate([all_values_Lappd,training_data_list],axis=0)\n",
    "    except OSError:\n",
    "        print(\"File {} not found\".format(i))\n",
    "np.save('BeamRingCounting/Temp/ChargeLAPPD_100', all_values_Lappd)\n",
    "print(all_values_Lappd.shape)\n",
    "del all_values_Lappd"
   ]
  },
  {
   "cell_type": "markdown",
   "metadata": {},
   "source": [
    "## Lappd Time"
   ]
  },
  {
   "cell_type": "markdown",
   "metadata": {},
   "source": [
    "All files"
   ]
  },
  {
   "cell_type": "code",
   "execution_count": 11,
   "metadata": {},
   "outputs": [
    {
     "data": {
      "application/vnd.jupyter.widget-view+json": {
       "model_id": "e24a4746979b48d1aaab5bcfd64dadcb",
       "version_major": 2,
       "version_minor": 0
      },
      "text/plain": [
       "HBox(children=(IntProgress(value=0, max=4997), HTML(value='')))"
      ]
     },
     "metadata": {},
     "output_type": "display_data"
    },
    {
     "name": "stdout",
     "output_type": "stream",
     "text": [
      "\n",
      "(110544, 24)\n"
     ]
    }
   ],
   "source": [
    "time_values_Lappd = np.zeros((0,24))\n",
    "for i in tqdm(range(numberFiles)):\n",
    "    try:\n",
    "        training_data_listT = np.loadtxt(DATADIR+str(i)+\"_lappd_time.csv\", delimiter = \",\")\n",
    "        training_data_listC = np.loadtxt(DATADIR+str(i)+\"_lappd_charge.csv\", delimiter = \",\")\n",
    "        newlist1=[]\n",
    "        for element in range(len(training_data_listT)):\n",
    "            if sum(training_data_listC[element]) == 0:\n",
    "                newlist1.append(np.zeros((24*1)))\n",
    "                \n",
    "            else:\n",
    "                newlist=[]\n",
    "                for k in training_data_listT[element]:\n",
    "                    if k==0:\n",
    "                        newlist.append(0)\n",
    "                    else:\n",
    "                        newlist.append(1-k)\n",
    "                    \n",
    "                newlist1.append(newlist)\n",
    "                \n",
    "                \n",
    "        \n",
    "        #print(i,newlist1.shape,training_data_listT.shape)\n",
    "\n",
    "        time_values_Lappd = np.concatenate([time_values_Lappd,newlist1],axis=0)\n",
    "    except OSError:\n",
    "        print(\"File {} not found\".format(i))\n",
    "        \n",
    "          \n",
    "np.save('BeamRingCounting/Temp/TimeLAPPD_flipped', time_values_Lappd)\n",
    "print(time_values_Lappd.shape)\n",
    "del time_values_Lappd"
   ]
  },
  {
   "cell_type": "markdown",
   "metadata": {},
   "source": [
    "5x5"
   ]
  },
  {
   "cell_type": "code",
   "execution_count": 12,
   "metadata": {},
   "outputs": [],
   "source": [
    "DATADIR =\"C:/Users/Deep Thought/Documents/Python/CNN_Masterarbeit/BeamRingCounting/csv/csv_Muon_beam_Lappd5x5_globalavarange/beam_muon_FV_PMTVol_\" "
   ]
  },
  {
   "cell_type": "code",
   "execution_count": 13,
   "metadata": {},
   "outputs": [
    {
     "data": {
      "application/vnd.jupyter.widget-view+json": {
       "model_id": "",
       "version_major": 2,
       "version_minor": 0
      },
      "text/plain": [
       "HBox(children=(IntProgress(value=0, max=4997), HTML(value='')))"
      ]
     },
     "metadata": {},
     "output_type": "display_data"
    },
    {
     "name": "stdout",
     "output_type": "stream",
     "text": [
      "\n",
      "(110441, 600)\n"
     ]
    }
   ],
   "source": [
    "time_values_Lappd = np.zeros((0,24*25))\n",
    "for i in tqdm(range(numberFiles)):\n",
    "    try:\n",
    "        training_data_listT = np.loadtxt(DATADIR+str(i)+\"_lappd_time.csv\", delimiter = \",\")\n",
    "        training_data_listC = np.loadtxt(DATADIR+str(i)+\"_lappd_charge.csv\", delimiter = \",\")\n",
    "        newlist1=[]\n",
    "        for element in range(len(training_data_listT)):\n",
    "            if sum(training_data_listC[element]) == 0:\n",
    "                newlist1.append(np.zeros((24*25)))\n",
    "                \n",
    "            else:\n",
    "                newlist=[]\n",
    "                for k in training_data_listT[element]:\n",
    "                    if k==0:\n",
    "                        newlist.append(0)\n",
    "                    else:\n",
    "                        newlist.append(1-k)\n",
    "                    \n",
    "                newlist1.append(newlist)\n",
    "                \n",
    "                \n",
    "        \n",
    "        #print(i,newlist1.shape,training_data_listT.shape)\n",
    "\n",
    "        time_values_Lappd = np.concatenate([time_values_Lappd,newlist1],axis=0)\n",
    "    except OSError:\n",
    "        print(\"File {} not found\".format(i))\n",
    "        \n",
    "          \n",
    "np.save('BeamRingCounting/Temp/TimeLAPPD_flipped_5', time_values_Lappd)\n",
    "print(time_values_Lappd.shape)\n",
    "del time_values_Lappd"
   ]
  },
  {
   "cell_type": "markdown",
   "metadata": {},
   "source": [
    "10x10"
   ]
  },
  {
   "cell_type": "code",
   "execution_count": 19,
   "metadata": {},
   "outputs": [],
   "source": [
    "DATADIR =\"C:/Users/Deep Thought/Documents/Python/CNN_Masterarbeit/BeamRingCounting/csv/RC_Muon_lappd10x10_globalavarange/beam_RC_Muon_lappd10x10_\" "
   ]
  },
  {
   "cell_type": "code",
   "execution_count": 20,
   "metadata": {},
   "outputs": [
    {
     "data": {
      "application/vnd.jupyter.widget-view+json": {
       "model_id": "f31e70390d0f453a9f40beed3632de4d",
       "version_major": 2,
       "version_minor": 0
      },
      "text/plain": [
       "HBox(children=(IntProgress(value=0, max=4997), HTML(value='')))"
      ]
     },
     "metadata": {},
     "output_type": "display_data"
    },
    {
     "name": "stdout",
     "output_type": "stream",
     "text": [
      "\n",
      "(110441, 2400)\n"
     ]
    }
   ],
   "source": [
    "time_values_Lappd = np.zeros((0,24*100))\n",
    "for i in tqdm(range(numberFiles)):\n",
    "    try:\n",
    "        training_data_listT = np.loadtxt(DATADIR+str(i)+\"_lappd_time.csv\", delimiter = \",\")\n",
    "        training_data_listC = np.loadtxt(DATADIR+str(i)+\"_lappd_charge.csv\", delimiter = \",\")\n",
    "        newlist1=[]\n",
    "        for element in range(len(training_data_listT)):\n",
    "            if sum(training_data_listC[element]) == 0:\n",
    "                newlist1.append(np.zeros((24*100)))\n",
    "                \n",
    "            else:\n",
    "                newlist=[]\n",
    "                for k in training_data_listT[element]:\n",
    "                    if k==0:\n",
    "                        newlist.append(0)\n",
    "                    else:\n",
    "                        newlist.append(1-k)\n",
    "                    \n",
    "                newlist1.append(newlist)\n",
    "                \n",
    "                \n",
    "        \n",
    "        #print(i,newlist1.shape,training_data_listT.shape)\n",
    "\n",
    "        time_values_Lappd = np.concatenate([time_values_Lappd,newlist1],axis=0)\n",
    "    except OSError:\n",
    "        print(\"File {} not found\".format(i))\n",
    "        \n",
    "          \n",
    "np.save('BeamRingCounting/Temp/TimeLAPPD_flipped_10', time_values_Lappd)\n",
    "print(time_values_Lappd.shape)\n",
    "del time_values_Lappd"
   ]
  },
  {
   "cell_type": "markdown",
   "metadata": {},
   "source": [
    "## MRD Hits"
   ]
  },
  {
   "cell_type": "markdown",
   "metadata": {},
   "source": [
    "All fiels"
   ]
  },
  {
   "cell_type": "code",
   "execution_count": 12,
   "metadata": {},
   "outputs": [
    {
     "data": {
      "application/vnd.jupyter.widget-view+json": {
       "model_id": "2a4fba23d912449baeea70d8276efaad",
       "version_major": 2,
       "version_minor": 0
      },
      "text/plain": [
       "HBox(children=(IntProgress(value=0, max=4997), HTML(value='')))"
      ]
     },
     "metadata": {},
     "output_type": "display_data"
    },
    {
     "name": "stdout",
     "output_type": "stream",
     "text": [
      "\n"
     ]
    }
   ],
   "source": [
    "for i in tqdm(range(numberFiles)):\n",
    "    try:\n",
    "        training_data_list = np.loadtxt(DATADIR+str(i)+\"_MRD.csv\", delimiter = \",\")\n",
    "        MRDHits = np.concatenate([MRDHits,training_data_list],axis=0)\n",
    "    except OSError:\n",
    "        print(\"File {} not found\".format(i))\n",
    "np.save('BeamRingCounting/Temp/MRD', MRDHits)\n",
    "del MRDHits"
   ]
  },
  {
   "cell_type": "markdown",
   "metadata": {},
   "source": [
    "## Ring counting"
   ]
  },
  {
   "cell_type": "markdown",
   "metadata": {},
   "source": [
    "All files"
   ]
  },
  {
   "cell_type": "code",
   "execution_count": 13,
   "metadata": {},
   "outputs": [
    {
     "data": {
      "application/vnd.jupyter.widget-view+json": {
       "model_id": "cb273cd3d40d4d228116e055c369073b",
       "version_major": 2,
       "version_minor": 0
      },
      "text/plain": [
       "HBox(children=(IntProgress(value=0, max=4997), HTML(value='')))"
      ]
     },
     "metadata": {},
     "output_type": "display_data"
    },
    {
     "name": "stdout",
     "output_type": "stream",
     "text": [
      "\n"
     ]
    }
   ],
   "source": [
    "for i in tqdm(range(numberFiles)):\n",
    "    try:\n",
    "        training_data_list = np.loadtxt(DATADIR+str(i)+\"_Rings.csv\", delimiter = \",\")\n",
    "        Rings = np.concatenate([Rings,training_data_list],axis=0)\n",
    "    except OSError:\n",
    "        print(\"File {} not found\".format(i)) \n",
    "np.save('BeamRingCounting/Temp/Rings', Rings)\n",
    "del Rings"
   ]
  },
  {
   "cell_type": "markdown",
   "metadata": {},
   "source": [
    "## Multirings True or False"
   ]
  },
  {
   "cell_type": "markdown",
   "metadata": {},
   "source": [
    "Singlefile"
   ]
  },
  {
   "cell_type": "code",
   "execution_count": 16,
   "metadata": {},
   "outputs": [],
   "source": [
    "a=(0,1)\n",
    "b=(1,0)\n",
    "RingsTrueFalse=[]\n",
    "try:\n",
    "    training_data_list = np.loadtxt(DATADIR+str(4996)+\"_Rings.csv\", delimiter = \",\")\n",
    "    for event in training_data_list:\n",
    "        if int(event)>1: ### Multi Ring (0,1)\n",
    "            RingsTrueFalse.append(a)\n",
    "        else:           ### Single Ring(1,0)           \n",
    "            RingsTrueFalse.append(b)\n",
    "except OSError:\n",
    "    print(\"File {} not found\".format(i)) \n",
    "\n",
    "np.save('BeamRingCounting/Temp/RingsTrueFalse', RingsTrueFalse)\n",
    "del RingsTrueFalse"
   ]
  },
  {
   "cell_type": "markdown",
   "metadata": {},
   "source": [
    "All files"
   ]
  },
  {
   "cell_type": "code",
   "execution_count": 19,
   "metadata": {},
   "outputs": [
    {
     "data": {
      "application/vnd.jupyter.widget-view+json": {
       "model_id": "b10d07ce6a394f3fb218a1519ba2448c",
       "version_major": 2,
       "version_minor": 0
      },
      "text/plain": [
       "HBox(children=(IntProgress(value=0, max=4997), HTML(value='')))"
      ]
     },
     "metadata": {},
     "output_type": "display_data"
    },
    {
     "name": "stdout",
     "output_type": "stream",
     "text": [
      "\n",
      "110544\n"
     ]
    }
   ],
   "source": [
    "a=(0,1)\n",
    "b=(1,0)\n",
    "RingsTrueFalse=[]\n",
    "for i in tqdm(range(numberFiles)):\n",
    "    try:\n",
    "        training_data_list = np.loadtxt(DATADIR+str(i)+\"_Rings.csv\", delimiter = \",\")\n",
    "        for event in training_data_list:\n",
    "            if int(event)>1: ### Multi Ring (0,1)\n",
    "                RingsTrueFalse.append(a)\n",
    "            else:           ### Single Ring(1,0)           \n",
    "                RingsTrueFalse.append(b)\n",
    "    except OSError:\n",
    "        print(\"File {} not found\".format(i)) \n",
    "        \n",
    "np.save('BeamRingCounting/Temp/RingsTrueFalse', RingsTrueFalse)\n",
    "print(len(RingsTrueFalse))\n",
    "del RingsTrueFalse"
   ]
  },
  {
   "cell_type": "markdown",
   "metadata": {},
   "source": [
    "## Muon or electron"
   ]
  },
  {
   "cell_type": "markdown",
   "metadata": {},
   "source": [
    "All files"
   ]
  },
  {
   "cell_type": "code",
   "execution_count": 12,
   "metadata": {},
   "outputs": [
    {
     "data": {
      "application/vnd.jupyter.widget-view+json": {
       "model_id": "ada1b961af5b44fc847623c9e477da70",
       "version_major": 2,
       "version_minor": 0
      },
      "text/plain": [
       "HBox(children=(IntProgress(value=0, max=4997), HTML(value='')))"
      ]
     },
     "metadata": {},
     "output_type": "display_data"
    },
    {
     "name": "stdout",
     "output_type": "stream",
     "text": [
      "\n"
     ]
    }
   ],
   "source": [
    "category_values=[]\n",
    "for i in tqdm(range(numberFiles)):\n",
    "    try:\n",
    "        category_values.append((0,1)) ## Muon\n",
    "    except OSError:\n",
    "        print(\"File {} not found\".format(i))\n",
    "np.save('BeamRingCounting/Temp/category_values', category_values)\n",
    "del category_values"
   ]
  },
  {
   "cell_type": "code",
   "execution_count": null,
   "metadata": {},
   "outputs": [],
   "source": []
  }
 ],
 "metadata": {
  "kernelspec": {
   "display_name": "Tensorflow",
   "language": "python",
   "name": "myenv"
  },
  "language_info": {
   "codemirror_mode": {
    "name": "ipython",
    "version": 3
   },
   "file_extension": ".py",
   "mimetype": "text/x-python",
   "name": "python",
   "nbconvert_exporter": "python",
   "pygments_lexer": "ipython3",
   "version": "3.7.3"
  }
 },
 "nbformat": 4,
 "nbformat_minor": 2
}
